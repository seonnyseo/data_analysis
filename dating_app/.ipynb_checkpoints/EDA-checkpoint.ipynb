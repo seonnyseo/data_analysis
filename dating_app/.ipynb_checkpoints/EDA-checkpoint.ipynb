{
 "cells": [
  {
   "cell_type": "code",
   "execution_count": 42,
   "metadata": {},
   "outputs": [],
   "source": [
    "import pandas as pd\n",
    "import numpy as np\n",
    "from matplotlib import pyplot as plt\n",
    "import seaborn as sns\n",
    "plt.rcParams['figure.figsize'] = [12, 8]"
   ]
  },
  {
   "cell_type": "markdown",
   "metadata": {},
   "source": [
    "### Loading Data"
   ]
  },
  {
   "cell_type": "code",
   "execution_count": 2,
   "metadata": {},
   "outputs": [],
   "source": [
    "jobs = pd.read_csv('./data/2019-03-15_jobs.csv', header = 0)"
   ]
  },
  {
   "cell_type": "code",
   "execution_count": 655,
   "metadata": {},
   "outputs": [],
   "source": [
    "rejects = pd.read_csv('./data/2019-03-15_rejects.csv', header = 0)\n",
    "reject_details = pd.read_csv('./data/2019-03-15_reject_details.csv', header = 0)\n",
    "rejects = reject_details.merge(rejects.rename(columns = {'id': 'reject_id'}), on = 'reject_id', how = 'left')"
   ]
  },
  {
   "cell_type": "code",
   "execution_count": 21,
   "metadata": {},
   "outputs": [],
   "source": [
    "# \\s(\\r\\n|\\r|\\n)+\n",
    "# [^,]\\\"[^,\\s]\n",
    "# \\\\\\\"(?<=[^,\\s])\n",
    "# , comma in Quotes \"just passing time while I wait on my digivice.lso I'm trash so there's that.\"Just because you're trash, doesn't mean you can't do great things. It's called a garbage can, not a garbage cannot.\\\" - Oscar the grouch probably,robably not.\"\n",
    "\n",
    "users = pd.read_csv('./data/2019-03-15_users.csv')"
   ]
  },
  {
   "cell_type": "code",
   "execution_count": 22,
   "metadata": {},
   "outputs": [
    {
     "name": "stdout",
     "output_type": "stream",
     "text": [
      "<class 'pandas.core.frame.DataFrame'>\n",
      "RangeIndex: 12715 entries, 0 to 12714\n",
      "Data columns (total 39 columns):\n",
      "user_id                   12715 non-null int64\n",
      "birthday                  12590 non-null object\n",
      "gender                    12715 non-null object\n",
      "photo_count               12715 non-null int64\n",
      "profile_score             10288 non-null float64\n",
      "profile_tier              10288 non-null object\n",
      "bio                       1823 non-null object\n",
      "characters                3273 non-null object\n",
      "height                    12467 non-null float64\n",
      "body_type                 12456 non-null object\n",
      "blood_type                2945 non-null object\n",
      "education                 12280 non-null object\n",
      "school                    1010 non-null object\n",
      "job                       12427 non-null object\n",
      "company                   955 non-null object\n",
      "religion                  12425 non-null object\n",
      "smoking                   12421 non-null object\n",
      "drinking                  12424 non-null object\n",
      "region                    12478 non-null object\n",
      "state                     6604 non-null object\n",
      "locality                  12322 non-null object\n",
      "longitude                 12479 non-null float64\n",
      "latitude                  12479 non-null float64\n",
      "current_region            12683 non-null object\n",
      "language                  12715 non-null object\n",
      "is_out                    12715 non-null object\n",
      "is_deactivated            12715 non-null object\n",
      "is_blocked                566 non-null object\n",
      "phone_number              6857 non-null float64\n",
      "facebook_email_address    3215 non-null object\n",
      "account_created_at        12715 non-null object\n",
      "is_confirm                10771 non-null object\n",
      "confirm_admin_id          10771 non-null float64\n",
      "admin_confirmed_at        10771 non-null object\n",
      "rating_completed_at       10289 non-null object\n",
      "sign_up_completed         12715 non-null object\n",
      "stage                     2742 non-null object\n",
      "stage_updated_at          12715 non-null object\n",
      "last_activity_at          12715 non-null object\n",
      "dtypes: float64(6), int64(2), object(31)\n",
      "memory usage: 3.8+ MB\n"
     ]
    }
   ],
   "source": [
    "users.info()"
   ]
  },
  {
   "cell_type": "markdown",
   "metadata": {},
   "source": [
    "### Feature"
   ]
  },
  {
   "cell_type": "code",
   "execution_count": 23,
   "metadata": {},
   "outputs": [],
   "source": [
    "users = users.replace('NULL', np.nan)"
   ]
  },
  {
   "cell_type": "code",
   "execution_count": 24,
   "metadata": {},
   "outputs": [],
   "source": [
    "users['birthday'] = pd.to_datetime(users.birthday, errors = 'coerce')"
   ]
  },
  {
   "cell_type": "code",
   "execution_count": 25,
   "metadata": {},
   "outputs": [],
   "source": [
    "users['age'] = 2019 - pd.DatetimeIndex(users.birthday).year\n",
    "users.loc[users.age >= 100, 'age'] = -1\n",
    "users['age'] = users.age.fillna(-1)"
   ]
  },
  {
   "cell_type": "code",
   "execution_count": 26,
   "metadata": {},
   "outputs": [],
   "source": [
    "users['account_created_day'] = pd.DatetimeIndex(users.account_created_at).day\n",
    "users['account_created_weekday'] = pd.DatetimeIndex(users.account_created_at).weekday\n",
    "users['account_created_hour'] = pd.DatetimeIndex(users.account_created_at).hour"
   ]
  },
  {
   "cell_type": "code",
   "execution_count": 114,
   "metadata": {},
   "outputs": [],
   "source": [
    "users['created_to_confirm_seconds'] = (pd.DatetimeIndex(users.admin_confirmed_at) - pd.DatetimeIndex(users.account_created_at)).seconds\n",
    "users['confirm_to_complete_seconds'] = (pd.DatetimeIndex(users.stage_updated_at) - pd.DatetimeIndex(users.admin_confirmed_at)).seconds\n",
    "users['confirm_to_rating_seconds'] = (pd.DatetimeIndex(users.rating_completed_at) - pd.DatetimeIndex(users.admin_confirmed_at)).seconds\n",
    "users['created_to_last_activity_days'] = (pd.DatetimeIndex(users.last_activity_at) - pd.DatetimeIndex(users.account_created_at)).days"
   ]
  },
  {
   "cell_type": "code",
   "execution_count": 222,
   "metadata": {},
   "outputs": [],
   "source": [
    "user_jobs_count = users.job.value_counts()\n",
    "user_jobs = user_jobs_count.index"
   ]
  },
  {
   "cell_type": "code",
   "execution_count": 561,
   "metadata": {},
   "outputs": [],
   "source": [
    "uncategorized_jobs = []\n",
    "categorized_jobs = []\n",
    "for count, job in zip(user_jobs_count, user_jobs):\n",
    "    if job.isnumeric():\n",
    "        categorized_jobs.append((jobs.loc[jobs.id == int(job), 'job_name'].values[0], count))\n",
    "    else:\n",
    "        uncategorized_jobs.append(job.rstrip('</job>').lstrip('<job>'))"
   ]
  },
  {
   "cell_type": "code",
   "execution_count": 568,
   "metadata": {
    "scrolled": true
   },
   "outputs": [
    {
     "data": {
      "text/plain": [
       "[('학생', 2368),\n",
       " ('회사원', 1589),\n",
       " ('없음', 913),\n",
       " ('준비 중', 806),\n",
       " ('아르바이트', 791),\n",
       " ('프리랜서', 598),\n",
       " ('자영업', 444),\n",
       " ('교육직', 314),\n",
       " ('서비스직', 274),\n",
       " ('사무직', 266)]"
      ]
     },
     "execution_count": 568,
     "metadata": {},
     "output_type": "execute_result"
    }
   ],
   "source": [
    "categorized_jobs[:10]"
   ]
  },
  {
   "cell_type": "code",
   "execution_count": 37,
   "metadata": {},
   "outputs": [],
   "source": [
    "reject_counts = pd.DataFrame(rejects.groupby('user_id')['reject_id'].agg(len))\n",
    "reject_counts = reject_counts.rename(columns = {'reject_id': 'reject_counts'}).reset_index()"
   ]
  },
  {
   "cell_type": "code",
   "execution_count": 39,
   "metadata": {},
   "outputs": [],
   "source": [
    "users = users.merge(reject_counts, how = 'left', on = 'user_id')"
   ]
  },
  {
   "cell_type": "code",
   "execution_count": 40,
   "metadata": {},
   "outputs": [],
   "source": [
    "users = users.astype({'age': 'int32', 'account_created_day': 'int32', \n",
    "                      'account_created_weekday': 'int32', 'account_created_hour': 'int32'}, errors = 'ignore')"
   ]
  },
  {
   "cell_type": "code",
   "execution_count": 236,
   "metadata": {},
   "outputs": [],
   "source": [
    "bio_users = users.loc[users.bio.notnull()].user_id"
   ]
  },
  {
   "cell_type": "code",
   "execution_count": 241,
   "metadata": {},
   "outputs": [],
   "source": [
    "with open('bio.text', 'w') as f:\n",
    "    for b in pure_profiles.loc[pure_profiles.user_id.isin(bio_users)].bio:\n",
    "        f.write(str(b) + '\\n')"
   ]
  },
  {
   "cell_type": "code",
   "execution_count": 505,
   "metadata": {},
   "outputs": [
    {
     "data": {
      "image/png": "[encoded data removed]",
      "text/plain": [
       "<Figure size 1152x720 with 1 Axes>"
      ]
     },
     "metadata": {},
     "output_type": "display_data"
    }
   ],
   "source": [
    "y = users.age.value_counts()\n",
    "x = y.index\n",
    "\n",
    "plt.bar(x, y)\n",
    "plt.ylabel('Users', fontsize = 16)\n",
    "plt.xlabel('Age', fontsize = 16)\n",
    "plt.xticks(fontsize=14)\n",
    "plt.yticks(fontsize=14)\n",
    "plt.savefig('./image/age.png', dpi=300, bbox_inches='tight')\n",
    "plt.show()"
   ]
  },
  {
   "cell_type": "code",
   "execution_count": 488,
   "metadata": {},
   "outputs": [
    {
     "data": {
      "text/plain": [
       "UE03    6248\n",
       "UE01    2560\n",
       "UE02    1937\n",
       "UE06     996\n",
       "UE04     479\n",
       "UE05      60\n",
       "Name: education, dtype: int64"
      ]
     },
     "execution_count": 488,
     "metadata": {},
     "output_type": "execute_result"
    }
   ],
   "source": [
    "users.education.value_counts()"
   ]
  },
  {
   "cell_type": "code",
   "execution_count": 44,
   "metadata": {},
   "outputs": [
    {
     "data": {
      "text/plain": [
       "count    10288.000000\n",
       "mean        68.274002\n",
       "std         12.255224\n",
       "min         31.570000\n",
       "25%         59.775000\n",
       "50%         69.310000\n",
       "75%         77.045000\n",
       "max        100.000000\n",
       "Name: profile_score, dtype: float64"
      ]
     },
     "execution_count": 44,
     "metadata": {},
     "output_type": "execute_result"
    }
   ],
   "source": [
    "users.profile_score.describe()"
   ]
  },
  {
   "cell_type": "code",
   "execution_count": 144,
   "metadata": {},
   "outputs": [
    {
     "data": {
      "image/png": "[encoded data removed]",
      "text/plain": [
       "<Figure size 1152x720 with 1 Axes>"
      ]
     },
     "metadata": {},
     "output_type": "display_data"
    }
   ],
   "source": [
    "y = np.floor(users.profile_score).value_counts()\n",
    "x = y.index\n",
    "\n",
    "plt.bar(x, y)\n",
    "plt.axvline(65, color='red', linestyle='dashed', linewidth=1)\n",
    "plt.axvline(50, color='red', linestyle='dashed', linewidth=1)\n",
    "plt.axvline(35, color='red', linestyle='dashed', linewidth=1)\n",
    "plt.show()"
   ]
  },
  {
   "cell_type": "code",
   "execution_count": 46,
   "metadata": {},
   "outputs": [
    {
     "data": {
      "image/png": "[encoded data removed]",
      "text/plain": [
       "<Figure size 864x576 with 1 Axes>"
      ]
     },
     "metadata": {
      "needs_background": "light"
     },
     "output_type": "display_data"
    }
   ],
   "source": [
    "y = users.account_created_weekday.value_counts()\n",
    "x = y.index\n",
    "\n",
    "plt.bar(x, y)\n",
    "plt.show()"
   ]
  },
  {
   "cell_type": "code",
   "execution_count": 47,
   "metadata": {},
   "outputs": [],
   "source": [
    "account_created_by_time = users.groupby(['account_created_weekday','account_created_hour'])['user_id'].agg(len).unstack().T\n",
    "account_created_by_time.columns = ['M', 'Tu', 'W', 'Th', 'F', 'S', 'S']"
   ]
  },
  {
   "cell_type": "code",
   "execution_count": 577,
   "metadata": {},
   "outputs": [
    {
     "data": {
      "image/png": "[encoded data removed]",
      "text/plain": [
       "<Figure size 864x864 with 2 Axes>"
      ]
     },
     "metadata": {},
     "output_type": "display_data"
    }
   ],
   "source": [
    "sns.set(rc={'figure.figsize':(12,12)})\n",
    "sns.heatmap(account_created_by_time, linewidth = 0.2)\n",
    "plt.ylabel('Hours', fontsize = 14)\n",
    "plt.xlabel('Weekdays', fontsize = 14)\n",
    "plt.savefig('./image/creation_by_hours.png', dpi=300, bbox_inches='tight')\n",
    "plt.show()\n",
    "plt.rcParams['figure.figsize'] = [16, 10]"
   ]
  },
  {
   "cell_type": "code",
   "execution_count": 157,
   "metadata": {},
   "outputs": [
    {
     "data": {
      "text/html": [
       "<div>\n",
       "<style scoped>\n",
       "    .dataframe tbody tr th:only-of-type {\n",
       "        vertical-align: middle;\n",
       "    }\n",
       "\n",
       "    .dataframe tbody tr th {\n",
       "        vertical-align: top;\n",
       "    }\n",
       "\n",
       "    .dataframe thead th {\n",
       "        text-align: right;\n",
       "    }\n",
       "</style>\n",
       "<table border=\"1\" class=\"dataframe\">\n",
       "  <thead>\n",
       "    <tr style=\"text-align: right;\">\n",
       "      <th></th>\n",
       "      <th>photo_count</th>\n",
       "      <th>profile_score</th>\n",
       "      <th>height</th>\n",
       "      <th>age</th>\n",
       "      <th>reject_counts</th>\n",
       "    </tr>\n",
       "  </thead>\n",
       "  <tbody>\n",
       "    <tr>\n",
       "      <td>photo_count</td>\n",
       "      <td>1.000000</td>\n",
       "      <td>-0.009683</td>\n",
       "      <td>0.012134</td>\n",
       "      <td>-0.001761</td>\n",
       "      <td>0.110478</td>\n",
       "    </tr>\n",
       "    <tr>\n",
       "      <td>profile_score</td>\n",
       "      <td>-0.009683</td>\n",
       "      <td>1.000000</td>\n",
       "      <td>0.022886</td>\n",
       "      <td>0.038608</td>\n",
       "      <td>-0.074604</td>\n",
       "    </tr>\n",
       "    <tr>\n",
       "      <td>height</td>\n",
       "      <td>0.012134</td>\n",
       "      <td>0.022886</td>\n",
       "      <td>1.000000</td>\n",
       "      <td>0.056473</td>\n",
       "      <td>-0.013313</td>\n",
       "    </tr>\n",
       "    <tr>\n",
       "      <td>age</td>\n",
       "      <td>-0.001761</td>\n",
       "      <td>0.038608</td>\n",
       "      <td>0.056473</td>\n",
       "      <td>1.000000</td>\n",
       "      <td>-0.044232</td>\n",
       "    </tr>\n",
       "    <tr>\n",
       "      <td>reject_counts</td>\n",
       "      <td>0.110478</td>\n",
       "      <td>-0.074604</td>\n",
       "      <td>-0.013313</td>\n",
       "      <td>-0.044232</td>\n",
       "      <td>1.000000</td>\n",
       "    </tr>\n",
       "  </tbody>\n",
       "</table>\n",
       "</div>"
      ],
      "text/plain": [
       "               photo_count  profile_score    height       age  reject_counts\n",
       "photo_count       1.000000      -0.009683  0.012134 -0.001761       0.110478\n",
       "profile_score    -0.009683       1.000000  0.022886  0.038608      -0.074604\n",
       "height            0.012134       0.022886  1.000000  0.056473      -0.013313\n",
       "age              -0.001761       0.038608  0.056473  1.000000      -0.044232\n",
       "reject_counts     0.110478      -0.074604 -0.013313 -0.044232       1.000000"
      ]
     },
     "execution_count": 157,
     "metadata": {},
     "output_type": "execute_result"
    }
   ],
   "source": [
    "users[['photo_count', 'profile_score', 'height', 'age', 'reject_counts']].corr()"
   ]
  },
  {
   "cell_type": "code",
   "execution_count": 263,
   "metadata": {},
   "outputs": [
    {
     "data": {
      "text/html": [
       "<div>\n",
       "<style scoped>\n",
       "    .dataframe tbody tr th:only-of-type {\n",
       "        vertical-align: middle;\n",
       "    }\n",
       "\n",
       "    .dataframe tbody tr th {\n",
       "        vertical-align: top;\n",
       "    }\n",
       "\n",
       "    .dataframe thead th {\n",
       "        text-align: right;\n",
       "    }\n",
       "</style>\n",
       "<table border=\"1\" class=\"dataframe\">\n",
       "  <thead>\n",
       "    <tr style=\"text-align: right;\">\n",
       "      <th></th>\n",
       "      <th>reject_id</th>\n",
       "      <th>context</th>\n",
       "      <th>user_id</th>\n",
       "      <th>admin_id</th>\n",
       "      <th>rejected_at</th>\n",
       "    </tr>\n",
       "  </thead>\n",
       "  <tbody>\n",
       "    <tr>\n",
       "      <td>0</td>\n",
       "      <td>956529358</td>\n",
       "      <td>picture_0</td>\n",
       "      <td>1867729</td>\n",
       "      <td>63</td>\n",
       "      <td>2019-02-21 15:10:14</td>\n",
       "    </tr>\n",
       "    <tr>\n",
       "      <td>1</td>\n",
       "      <td>956529358</td>\n",
       "      <td>picture_1</td>\n",
       "      <td>1867729</td>\n",
       "      <td>63</td>\n",
       "      <td>2019-02-21 15:10:14</td>\n",
       "    </tr>\n",
       "    <tr>\n",
       "      <td>2</td>\n",
       "      <td>956529364</td>\n",
       "      <td>picture_0</td>\n",
       "      <td>1867747</td>\n",
       "      <td>63</td>\n",
       "      <td>2019-02-21 15:16:29</td>\n",
       "    </tr>\n",
       "    <tr>\n",
       "      <td>3</td>\n",
       "      <td>956529364</td>\n",
       "      <td>picture_1</td>\n",
       "      <td>1867747</td>\n",
       "      <td>63</td>\n",
       "      <td>2019-02-21 15:16:29</td>\n",
       "    </tr>\n",
       "    <tr>\n",
       "      <td>4</td>\n",
       "      <td>956529449</td>\n",
       "      <td>height</td>\n",
       "      <td>1867983</td>\n",
       "      <td>63</td>\n",
       "      <td>2019-02-21 17:14:05</td>\n",
       "    </tr>\n",
       "    <tr>\n",
       "      <td>...</td>\n",
       "      <td>...</td>\n",
       "      <td>...</td>\n",
       "      <td>...</td>\n",
       "      <td>...</td>\n",
       "      <td>...</td>\n",
       "    </tr>\n",
       "    <tr>\n",
       "      <td>11005</td>\n",
       "      <td>956576379</td>\n",
       "      <td>picture_0</td>\n",
       "      <td>1920150</td>\n",
       "      <td>63</td>\n",
       "      <td>2019-03-14 14:41:27</td>\n",
       "    </tr>\n",
       "    <tr>\n",
       "      <td>11006</td>\n",
       "      <td>956576389</td>\n",
       "      <td>picture_0</td>\n",
       "      <td>1920150</td>\n",
       "      <td>63</td>\n",
       "      <td>2019-03-14 14:51:06</td>\n",
       "    </tr>\n",
       "    <tr>\n",
       "      <td>11007</td>\n",
       "      <td>956576389</td>\n",
       "      <td>picture_1</td>\n",
       "      <td>1920150</td>\n",
       "      <td>63</td>\n",
       "      <td>2019-03-14 14:51:06</td>\n",
       "    </tr>\n",
       "    <tr>\n",
       "      <td>11008</td>\n",
       "      <td>956576388</td>\n",
       "      <td>picture_1</td>\n",
       "      <td>1920161</td>\n",
       "      <td>63</td>\n",
       "      <td>2019-03-14 14:50:56</td>\n",
       "    </tr>\n",
       "    <tr>\n",
       "      <td>11009</td>\n",
       "      <td>956576409</td>\n",
       "      <td>picture_1</td>\n",
       "      <td>1920174</td>\n",
       "      <td>63</td>\n",
       "      <td>2019-03-14 15:03:53</td>\n",
       "    </tr>\n",
       "  </tbody>\n",
       "</table>\n",
       "<p>11010 rows × 5 columns</p>\n",
       "</div>"
      ],
      "text/plain": [
       "       reject_id    context  user_id  admin_id          rejected_at\n",
       "0      956529358  picture_0  1867729        63  2019-02-21 15:10:14\n",
       "1      956529358  picture_1  1867729        63  2019-02-21 15:10:14\n",
       "2      956529364  picture_0  1867747        63  2019-02-21 15:16:29\n",
       "3      956529364  picture_1  1867747        63  2019-02-21 15:16:29\n",
       "4      956529449     height  1867983        63  2019-02-21 17:14:05\n",
       "...          ...        ...      ...       ...                  ...\n",
       "11005  956576379  picture_0  1920150        63  2019-03-14 14:41:27\n",
       "11006  956576389  picture_0  1920150        63  2019-03-14 14:51:06\n",
       "11007  956576389  picture_1  1920150        63  2019-03-14 14:51:06\n",
       "11008  956576388  picture_1  1920161        63  2019-03-14 14:50:56\n",
       "11009  956576409  picture_1  1920174        63  2019-03-14 15:03:53\n",
       "\n",
       "[11010 rows x 5 columns]"
      ]
     },
     "execution_count": 263,
     "metadata": {},
     "output_type": "execute_result"
    }
   ],
   "source": [
    "rejects"
   ]
  },
  {
   "cell_type": "markdown",
   "metadata": {},
   "source": [
    "### Users"
   ]
  },
  {
   "cell_type": "markdown",
   "metadata": {},
   "source": [
    "#### Attrition Profiles"
   ]
  },
  {
   "cell_type": "code",
   "execution_count": 611,
   "metadata": {},
   "outputs": [],
   "source": [
    "# Attrition Profile\n",
    "attrition_mask = (users.is_confirm.isna()) & (users.reject_counts.isna())\n",
    "attrition_profiles = users.loc[attrition_mask]"
   ]
  },
  {
   "cell_type": "code",
   "execution_count": 621,
   "metadata": {},
   "outputs": [
    {
     "data": {
      "text/plain": [
       "Picture         0.588452\n",
       "Birthday        0.154791\n",
       "Nickname        0.090909\n",
       "Location        0.045455\n",
       "MatchSetting    0.042998\n",
       "Job             0.031941\n",
       "Height          0.015971\n",
       "Body            0.013514\n",
       "Education       0.004914\n",
       "Religion        0.004914\n",
       "Drinking        0.003686\n",
       "Smoking         0.002457\n",
       "Name: stage, dtype: float64"
      ]
     },
     "execution_count": 621,
     "metadata": {},
     "output_type": "execute_result"
    }
   ],
   "source": [
    "attrition_profiles.stage.value_counts(normalize = True)"
   ]
  },
  {
   "cell_type": "code",
   "execution_count": 620,
   "metadata": {},
   "outputs": [
    {
     "data": {
      "image/png": "[encoded data removed]",
      "text/plain": [
       "<Figure size 1152x720 with 1 Axes>"
      ]
     },
     "metadata": {},
     "output_type": "display_data"
    }
   ],
   "source": [
    "y = attrition_profiles.stage.value_counts()\n",
    "x = y.index\n",
    "\n",
    "plt.bar(x, y)\n",
    "plt.xlabel('Stages', fontsize = 14)\n",
    "plt.ylabel('Users', fontsize = 14)\n",
    "plt.xticks(fontsize = 12)\n",
    "plt.yticks(fontsize = 12)\n",
    "plt.savefig('./image/frictions_by_stage.png', dpi = 300, bbox_inches='tight')\n",
    "plt.show()"
   ]
  },
  {
   "cell_type": "markdown",
   "metadata": {},
   "source": [
    "#### On Boarding Profiles"
   ]
  },
  {
   "cell_type": "code",
   "execution_count": 595,
   "metadata": {},
   "outputs": [],
   "source": [
    "# On Boarding Profile\n",
    "on_boarding_mask = (users.is_confirm.isna()) & (users.reject_counts.notnull())\n",
    "on_boarding_profiles = users.loc[on_boarding_mask]"
   ]
  },
  {
   "cell_type": "code",
   "execution_count": 639,
   "metadata": {},
   "outputs": [
    {
     "data": {
      "text/plain": [
       "0     31\n",
       "1     40\n",
       "2     56\n",
       "3     69\n",
       "4     66\n",
       "5     72\n",
       "6     53\n",
       "7     56\n",
       "8     59\n",
       "9     57\n",
       "10    48\n",
       "11    40\n",
       "12    66\n",
       "13    43\n",
       "14    48\n",
       "15    47\n",
       "16    45\n",
       "17    51\n",
       "18    66\n",
       "19    68\n",
       "20    49\n",
       "Name: account_created_at, dtype: int64"
      ]
     },
     "execution_count": 639,
     "metadata": {},
     "output_type": "execute_result"
    }
   ],
   "source": [
    "(pd.to_datetime('3/14/19 15:00') - pd.DatetimeIndex(on_boarding_profiles.account_created_at)).days.value_counts().sort_index()"
   ]
  },
  {
   "cell_type": "code",
   "execution_count": 694,
   "metadata": {},
   "outputs": [
    {
     "data": {
      "text/plain": [
       "count    1974.000000\n",
       "mean        2.257345\n",
       "std         1.485403\n",
       "min         1.000000\n",
       "25%         1.000000\n",
       "50%         2.000000\n",
       "75%         3.000000\n",
       "max        10.000000\n",
       "Name: user_id, dtype: float64"
      ]
     },
     "execution_count": 694,
     "metadata": {},
     "output_type": "execute_result"
    }
   ],
   "source": [
    "rejects.loc[rejects.user_id.isin(on_boarding_profiles.user_id)].groupby(['user_id', 'rejected_at'])['user_id'].agg(len).describe()"
   ]
  },
  {
   "cell_type": "code",
   "execution_count": 702,
   "metadata": {},
   "outputs": [
    {
     "data": {
      "text/plain": [
       "count    2015.000000\n",
       "mean        2.939950\n",
       "std         2.505974\n",
       "min         1.000000\n",
       "25%         1.000000\n",
       "50%         2.000000\n",
       "75%         4.000000\n",
       "max        36.000000\n",
       "Name: reject_counts, dtype: float64"
      ]
     },
     "execution_count": 702,
     "metadata": {},
     "output_type": "execute_result"
    }
   ],
   "source": [
    "pure_profiles.reject_counts.describe()"
   ]
  },
  {
   "cell_type": "code",
   "execution_count": 695,
   "metadata": {},
   "outputs": [
    {
     "data": {
      "text/plain": [
       "count    3022.000000\n",
       "mean        1.960291\n",
       "std         1.244017\n",
       "min         1.000000\n",
       "25%         1.000000\n",
       "50%         2.000000\n",
       "75%         2.000000\n",
       "max         9.000000\n",
       "Name: user_id, dtype: float64"
      ]
     },
     "execution_count": 695,
     "metadata": {},
     "output_type": "execute_result"
    }
   ],
   "source": [
    "rejects.loc[rejects.user_id.isin(pure_profiles.user_id)].groupby(['user_id', 'rejected_at'])['user_id'].agg(len).describe()"
   ]
  },
  {
   "cell_type": "code",
   "execution_count": 722,
   "metadata": {},
   "outputs": [
    {
     "name": "stdout",
     "output_type": "stream",
     "text": [
      "0.893850987432675\n"
     ]
    }
   ],
   "source": [
    "_picture = 0\n",
    "_reject_count = rejects.loc[rejects.user_id.isin(on_boarding_profiles.user_id), 'context'].value_counts()\n",
    "_cause = _reject_count.index\n",
    "for cause, count in zip(_cause, _reject_count):\n",
    "    if 'picture' in cause:\n",
    "        _picture += count\n",
    "print(_picture / sum(_reject_count))"
   ]
  },
  {
   "cell_type": "code",
   "execution_count": 728,
   "metadata": {},
   "outputs": [
    {
     "data": {
      "text/plain": [
       "75       2019-02-21 17:01:56\n",
       "85       2019-02-21 17:31:05\n",
       "105      2019-02-21 18:54:31\n",
       "112      2019-02-21 19:24:15\n",
       "114      2019-02-21 19:26:43\n",
       "                ...         \n",
       "12647    2019-03-14 13:11:07\n",
       "12649    2019-03-14 13:17:32\n",
       "12658    2019-03-14 13:31:19\n",
       "12662    2019-03-14 13:36:30\n",
       "12701    2019-03-14 14:37:45\n",
       "Name: account_created_at, Length: 1130, dtype: object"
      ]
     },
     "execution_count": 728,
     "metadata": {},
     "output_type": "execute_result"
    }
   ],
   "source": [
    "on_boarding_profiles.account_created_at.apply()"
   ]
  },
  {
   "cell_type": "markdown",
   "metadata": {},
   "source": [
    "#### Banned Profiles"
   ]
  },
  {
   "cell_type": "code",
   "execution_count": 284,
   "metadata": {},
   "outputs": [
    {
     "data": {
      "text/plain": [
       "3    2616\n",
       "2    2279\n",
       "6    2267\n",
       "4    1585\n",
       "5    1262\n",
       "1       2\n",
       "Name: photo_count, dtype: int64"
      ]
     },
     "execution_count": 284,
     "metadata": {},
     "output_type": "execute_result"
    }
   ],
   "source": [
    "pure_profiles.photo_count.value_counts()"
   ]
  },
  {
   "cell_type": "code",
   "execution_count": 58,
   "metadata": {},
   "outputs": [],
   "source": [
    "# Banned Profile\n",
    "banned_mask = (users.is_confirm == 'N')\n",
    "banned_profiles = users.loc[banned_mask]"
   ]
  },
  {
   "cell_type": "code",
   "execution_count": 609,
   "metadata": {},
   "outputs": [
    {
     "data": {
      "text/html": [
       "<div>\n",
       "<style scoped>\n",
       "    .dataframe tbody tr th:only-of-type {\n",
       "        vertical-align: middle;\n",
       "    }\n",
       "\n",
       "    .dataframe tbody tr th {\n",
       "        vertical-align: top;\n",
       "    }\n",
       "\n",
       "    .dataframe thead th {\n",
       "        text-align: right;\n",
       "    }\n",
       "</style>\n",
       "<table border=\"1\" class=\"dataframe\">\n",
       "  <thead>\n",
       "    <tr style=\"text-align: right;\">\n",
       "      <th></th>\n",
       "      <th>user_id</th>\n",
       "      <th>birthday</th>\n",
       "      <th>gender</th>\n",
       "      <th>photo_count</th>\n",
       "      <th>profile_score</th>\n",
       "      <th>profile_tier</th>\n",
       "      <th>bio</th>\n",
       "      <th>characters</th>\n",
       "      <th>height</th>\n",
       "      <th>body_type</th>\n",
       "      <th>...</th>\n",
       "      <th>stage</th>\n",
       "      <th>stage_updated_at</th>\n",
       "      <th>last_activity_at</th>\n",
       "      <th>age</th>\n",
       "      <th>account_created_day</th>\n",
       "      <th>account_created_weekday</th>\n",
       "      <th>account_created_hour</th>\n",
       "      <th>created_to_confirm_seconds</th>\n",
       "      <th>confirm_to_complete_seconds</th>\n",
       "      <th>reject_counts</th>\n",
       "    </tr>\n",
       "  </thead>\n",
       "  <tbody>\n",
       "    <tr>\n",
       "      <td>6</td>\n",
       "      <td>1867739</td>\n",
       "      <td>2000-09-18</td>\n",
       "      <td>F</td>\n",
       "      <td>5</td>\n",
       "      <td>NaN</td>\n",
       "      <td>NaN</td>\n",
       "      <td>NaN</td>\n",
       "      <td>NaN</td>\n",
       "      <td>165.0</td>\n",
       "      <td>BF01</td>\n",
       "      <td>...</td>\n",
       "      <td>Review</td>\n",
       "      <td>2019-02-21 15:08:52</td>\n",
       "      <td>2019-02-22 16:28:34</td>\n",
       "      <td>19</td>\n",
       "      <td>21</td>\n",
       "      <td>3</td>\n",
       "      <td>15</td>\n",
       "      <td>403.0</td>\n",
       "      <td>86279.0</td>\n",
       "      <td>NaN</td>\n",
       "    </tr>\n",
       "    <tr>\n",
       "      <td>9</td>\n",
       "      <td>1867747</td>\n",
       "      <td>1999-06-30</td>\n",
       "      <td>F</td>\n",
       "      <td>6</td>\n",
       "      <td>NaN</td>\n",
       "      <td>NaN</td>\n",
       "      <td>NaN</td>\n",
       "      <td>NaN</td>\n",
       "      <td>154.0</td>\n",
       "      <td>BF02</td>\n",
       "      <td>...</td>\n",
       "      <td>Review</td>\n",
       "      <td>2019-02-21 15:19:14</td>\n",
       "      <td>2019-02-21 15:17:44</td>\n",
       "      <td>20</td>\n",
       "      <td>21</td>\n",
       "      <td>3</td>\n",
       "      <td>15</td>\n",
       "      <td>965.0</td>\n",
       "      <td>86031.0</td>\n",
       "      <td>2.0</td>\n",
       "    </tr>\n",
       "    <tr>\n",
       "      <td>45</td>\n",
       "      <td>1867863</td>\n",
       "      <td>1994-07-02</td>\n",
       "      <td>F</td>\n",
       "      <td>4</td>\n",
       "      <td>NaN</td>\n",
       "      <td>NaN</td>\n",
       "      <td>NaN</td>\n",
       "      <td>NaN</td>\n",
       "      <td>168.0</td>\n",
       "      <td>BF02</td>\n",
       "      <td>...</td>\n",
       "      <td>Review</td>\n",
       "      <td>2019-02-21 16:04:59</td>\n",
       "      <td>2019-02-21 16:12:13</td>\n",
       "      <td>25</td>\n",
       "      <td>21</td>\n",
       "      <td>3</td>\n",
       "      <td>16</td>\n",
       "      <td>98.0</td>\n",
       "      <td>0.0</td>\n",
       "      <td>NaN</td>\n",
       "    </tr>\n",
       "    <tr>\n",
       "      <td>63</td>\n",
       "      <td>1867943</td>\n",
       "      <td>1990-09-23</td>\n",
       "      <td>F</td>\n",
       "      <td>3</td>\n",
       "      <td>NaN</td>\n",
       "      <td>NaN</td>\n",
       "      <td>NaN</td>\n",
       "      <td>UC00|UC20|UC10</td>\n",
       "      <td>162.0</td>\n",
       "      <td>BF04</td>\n",
       "      <td>...</td>\n",
       "      <td>Review</td>\n",
       "      <td>2019-02-21 16:49:42</td>\n",
       "      <td>2019-02-28 13:47:11</td>\n",
       "      <td>29</td>\n",
       "      <td>21</td>\n",
       "      <td>3</td>\n",
       "      <td>16</td>\n",
       "      <td>796.0</td>\n",
       "      <td>86355.0</td>\n",
       "      <td>NaN</td>\n",
       "    </tr>\n",
       "    <tr>\n",
       "      <td>66</td>\n",
       "      <td>1867953</td>\n",
       "      <td>1994-09-25</td>\n",
       "      <td>F</td>\n",
       "      <td>3</td>\n",
       "      <td>NaN</td>\n",
       "      <td>NaN</td>\n",
       "      <td>NaN</td>\n",
       "      <td>NaN</td>\n",
       "      <td>160.0</td>\n",
       "      <td>BF01</td>\n",
       "      <td>...</td>\n",
       "      <td>Review</td>\n",
       "      <td>2019-02-21 16:45:00</td>\n",
       "      <td>2019-02-22 03:24:07</td>\n",
       "      <td>25</td>\n",
       "      <td>21</td>\n",
       "      <td>3</td>\n",
       "      <td>16</td>\n",
       "      <td>274.0</td>\n",
       "      <td>86260.0</td>\n",
       "      <td>NaN</td>\n",
       "    </tr>\n",
       "    <tr>\n",
       "      <td>...</td>\n",
       "      <td>...</td>\n",
       "      <td>...</td>\n",
       "      <td>...</td>\n",
       "      <td>...</td>\n",
       "      <td>...</td>\n",
       "      <td>...</td>\n",
       "      <td>...</td>\n",
       "      <td>...</td>\n",
       "      <td>...</td>\n",
       "      <td>...</td>\n",
       "      <td>...</td>\n",
       "      <td>...</td>\n",
       "      <td>...</td>\n",
       "      <td>...</td>\n",
       "      <td>...</td>\n",
       "      <td>...</td>\n",
       "      <td>...</td>\n",
       "      <td>...</td>\n",
       "      <td>...</td>\n",
       "      <td>...</td>\n",
       "      <td>...</td>\n",
       "    </tr>\n",
       "    <tr>\n",
       "      <td>12573</td>\n",
       "      <td>1919533</td>\n",
       "      <td>1984-10-22</td>\n",
       "      <td>F</td>\n",
       "      <td>5</td>\n",
       "      <td>NaN</td>\n",
       "      <td>NaN</td>\n",
       "      <td>NaN</td>\n",
       "      <td>NaN</td>\n",
       "      <td>168.0</td>\n",
       "      <td>BF02</td>\n",
       "      <td>...</td>\n",
       "      <td>Review</td>\n",
       "      <td>2019-03-14 10:57:12</td>\n",
       "      <td>2019-03-14 10:49:02</td>\n",
       "      <td>35</td>\n",
       "      <td>14</td>\n",
       "      <td>3</td>\n",
       "      <td>10</td>\n",
       "      <td>543.0</td>\n",
       "      <td>86349.0</td>\n",
       "      <td>NaN</td>\n",
       "    </tr>\n",
       "    <tr>\n",
       "      <td>12585</td>\n",
       "      <td>1919641</td>\n",
       "      <td>2000-05-21</td>\n",
       "      <td>F</td>\n",
       "      <td>2</td>\n",
       "      <td>NaN</td>\n",
       "      <td>NaN</td>\n",
       "      <td>NaN</td>\n",
       "      <td>NaN</td>\n",
       "      <td>165.0</td>\n",
       "      <td>BF02</td>\n",
       "      <td>...</td>\n",
       "      <td>Review</td>\n",
       "      <td>2019-03-14 12:05:07</td>\n",
       "      <td>2019-03-15 00:44:23</td>\n",
       "      <td>19</td>\n",
       "      <td>14</td>\n",
       "      <td>3</td>\n",
       "      <td>11</td>\n",
       "      <td>2002.0</td>\n",
       "      <td>86300.0</td>\n",
       "      <td>1.0</td>\n",
       "    </tr>\n",
       "    <tr>\n",
       "      <td>12626</td>\n",
       "      <td>1919821</td>\n",
       "      <td>1992-04-26</td>\n",
       "      <td>F</td>\n",
       "      <td>2</td>\n",
       "      <td>NaN</td>\n",
       "      <td>NaN</td>\n",
       "      <td>NaN</td>\n",
       "      <td>NaN</td>\n",
       "      <td>178.0</td>\n",
       "      <td>BF05</td>\n",
       "      <td>...</td>\n",
       "      <td>Review</td>\n",
       "      <td>2019-03-14 22:03:44</td>\n",
       "      <td>2019-03-14 22:10:30</td>\n",
       "      <td>27</td>\n",
       "      <td>14</td>\n",
       "      <td>3</td>\n",
       "      <td>12</td>\n",
       "      <td>33671.0</td>\n",
       "      <td>86268.0</td>\n",
       "      <td>2.0</td>\n",
       "    </tr>\n",
       "    <tr>\n",
       "      <td>12638</td>\n",
       "      <td>1919861</td>\n",
       "      <td>2000-06-04</td>\n",
       "      <td>F</td>\n",
       "      <td>3</td>\n",
       "      <td>NaN</td>\n",
       "      <td>NaN</td>\n",
       "      <td>NaN</td>\n",
       "      <td>UC16|UC00|UC08</td>\n",
       "      <td>162.0</td>\n",
       "      <td>BF02</td>\n",
       "      <td>...</td>\n",
       "      <td>Review</td>\n",
       "      <td>2019-03-14 15:22:35</td>\n",
       "      <td>2019-03-14 23:10:01</td>\n",
       "      <td>19</td>\n",
       "      <td>14</td>\n",
       "      <td>3</td>\n",
       "      <td>13</td>\n",
       "      <td>8628.0</td>\n",
       "      <td>86254.0</td>\n",
       "      <td>4.0</td>\n",
       "    </tr>\n",
       "    <tr>\n",
       "      <td>12679</td>\n",
       "      <td>1920055</td>\n",
       "      <td>1995-08-30</td>\n",
       "      <td>F</td>\n",
       "      <td>3</td>\n",
       "      <td>NaN</td>\n",
       "      <td>NaN</td>\n",
       "      <td>NaN</td>\n",
       "      <td>NaN</td>\n",
       "      <td>163.0</td>\n",
       "      <td>BF03</td>\n",
       "      <td>...</td>\n",
       "      <td>Review</td>\n",
       "      <td>2019-03-14 14:08:33</td>\n",
       "      <td>2019-03-14 14:06:31</td>\n",
       "      <td>24</td>\n",
       "      <td>14</td>\n",
       "      <td>3</td>\n",
       "      <td>14</td>\n",
       "      <td>124.0</td>\n",
       "      <td>0.0</td>\n",
       "      <td>NaN</td>\n",
       "    </tr>\n",
       "  </tbody>\n",
       "</table>\n",
       "<p>482 rows × 46 columns</p>\n",
       "</div>"
      ],
      "text/plain": [
       "       user_id   birthday gender  photo_count  profile_score profile_tier  \\\n",
       "6      1867739 2000-09-18      F            5            NaN          NaN   \n",
       "9      1867747 1999-06-30      F            6            NaN          NaN   \n",
       "45     1867863 1994-07-02      F            4            NaN          NaN   \n",
       "63     1867943 1990-09-23      F            3            NaN          NaN   \n",
       "66     1867953 1994-09-25      F            3            NaN          NaN   \n",
       "...        ...        ...    ...          ...            ...          ...   \n",
       "12573  1919533 1984-10-22      F            5            NaN          NaN   \n",
       "12585  1919641 2000-05-21      F            2            NaN          NaN   \n",
       "12626  1919821 1992-04-26      F            2            NaN          NaN   \n",
       "12638  1919861 2000-06-04      F            3            NaN          NaN   \n",
       "12679  1920055 1995-08-30      F            3            NaN          NaN   \n",
       "\n",
       "       bio      characters  height body_type  ...   stage  \\\n",
       "6      NaN             NaN   165.0      BF01  ...  Review   \n",
       "9      NaN             NaN   154.0      BF02  ...  Review   \n",
       "45     NaN             NaN   168.0      BF02  ...  Review   \n",
       "63     NaN  UC00|UC20|UC10   162.0      BF04  ...  Review   \n",
       "66     NaN             NaN   160.0      BF01  ...  Review   \n",
       "...    ...             ...     ...       ...  ...     ...   \n",
       "12573  NaN             NaN   168.0      BF02  ...  Review   \n",
       "12585  NaN             NaN   165.0      BF02  ...  Review   \n",
       "12626  NaN             NaN   178.0      BF05  ...  Review   \n",
       "12638  NaN  UC16|UC00|UC08   162.0      BF02  ...  Review   \n",
       "12679  NaN             NaN   163.0      BF03  ...  Review   \n",
       "\n",
       "          stage_updated_at     last_activity_at age account_created_day  \\\n",
       "6      2019-02-21 15:08:52  2019-02-22 16:28:34  19                  21   \n",
       "9      2019-02-21 15:19:14  2019-02-21 15:17:44  20                  21   \n",
       "45     2019-02-21 16:04:59  2019-02-21 16:12:13  25                  21   \n",
       "63     2019-02-21 16:49:42  2019-02-28 13:47:11  29                  21   \n",
       "66     2019-02-21 16:45:00  2019-02-22 03:24:07  25                  21   \n",
       "...                    ...                  ...  ..                 ...   \n",
       "12573  2019-03-14 10:57:12  2019-03-14 10:49:02  35                  14   \n",
       "12585  2019-03-14 12:05:07  2019-03-15 00:44:23  19                  14   \n",
       "12626  2019-03-14 22:03:44  2019-03-14 22:10:30  27                  14   \n",
       "12638  2019-03-14 15:22:35  2019-03-14 23:10:01  19                  14   \n",
       "12679  2019-03-14 14:08:33  2019-03-14 14:06:31  24                  14   \n",
       "\n",
       "      account_created_weekday account_created_hour created_to_confirm_seconds  \\\n",
       "6                           3                   15                      403.0   \n",
       "9                           3                   15                      965.0   \n",
       "45                          3                   16                       98.0   \n",
       "63                          3                   16                      796.0   \n",
       "66                          3                   16                      274.0   \n",
       "...                       ...                  ...                        ...   \n",
       "12573                       3                   10                      543.0   \n",
       "12585                       3                   11                     2002.0   \n",
       "12626                       3                   12                    33671.0   \n",
       "12638                       3                   13                     8628.0   \n",
       "12679                       3                   14                      124.0   \n",
       "\n",
       "      confirm_to_complete_seconds reject_counts  \n",
       "6                         86279.0           NaN  \n",
       "9                         86031.0           2.0  \n",
       "45                            0.0           NaN  \n",
       "63                        86355.0           NaN  \n",
       "66                        86260.0           NaN  \n",
       "...                           ...           ...  \n",
       "12573                     86349.0           NaN  \n",
       "12585                     86300.0           1.0  \n",
       "12626                     86268.0           2.0  \n",
       "12638                     86254.0           4.0  \n",
       "12679                         0.0           NaN  \n",
       "\n",
       "[482 rows x 46 columns]"
      ]
     },
     "execution_count": 609,
     "metadata": {},
     "output_type": "execute_result"
    }
   ],
   "source": [
    "banned_profiles"
   ]
  },
  {
   "cell_type": "code",
   "execution_count": 274,
   "metadata": {},
   "outputs": [],
   "source": [
    "banned_users = banned_profiles.loc[banned_profiles.reject_counts > 0, 'user_id']"
   ]
  },
  {
   "cell_type": "code",
   "execution_count": 278,
   "metadata": {},
   "outputs": [
    {
     "data": {
      "text/html": [
       "<div>\n",
       "<style scoped>\n",
       "    .dataframe tbody tr th:only-of-type {\n",
       "        vertical-align: middle;\n",
       "    }\n",
       "\n",
       "    .dataframe tbody tr th {\n",
       "        vertical-align: top;\n",
       "    }\n",
       "\n",
       "    .dataframe thead th {\n",
       "        text-align: right;\n",
       "    }\n",
       "</style>\n",
       "<table border=\"1\" class=\"dataframe\">\n",
       "  <thead>\n",
       "    <tr style=\"text-align: right;\">\n",
       "      <th></th>\n",
       "      <th>reject_id</th>\n",
       "      <th>user_id</th>\n",
       "      <th>admin_id</th>\n",
       "      <th>rejected_at</th>\n",
       "    </tr>\n",
       "    <tr>\n",
       "      <th>context</th>\n",
       "      <th></th>\n",
       "      <th></th>\n",
       "      <th></th>\n",
       "      <th></th>\n",
       "    </tr>\n",
       "  </thead>\n",
       "  <tbody>\n",
       "    <tr>\n",
       "      <td>AMP005</td>\n",
       "      <td>101</td>\n",
       "      <td>101</td>\n",
       "      <td>101</td>\n",
       "      <td>101</td>\n",
       "    </tr>\n",
       "    <tr>\n",
       "      <td>AMP017</td>\n",
       "      <td>1</td>\n",
       "      <td>1</td>\n",
       "      <td>1</td>\n",
       "      <td>1</td>\n",
       "    </tr>\n",
       "    <tr>\n",
       "      <td>SNS 계정 기재</td>\n",
       "      <td>1</td>\n",
       "      <td>1</td>\n",
       "      <td>1</td>\n",
       "      <td>1</td>\n",
       "    </tr>\n",
       "    <tr>\n",
       "      <td>birthday</td>\n",
       "      <td>5</td>\n",
       "      <td>5</td>\n",
       "      <td>5</td>\n",
       "      <td>5</td>\n",
       "    </tr>\n",
       "    <tr>\n",
       "      <td>height</td>\n",
       "      <td>3</td>\n",
       "      <td>3</td>\n",
       "      <td>3</td>\n",
       "      <td>3</td>\n",
       "    </tr>\n",
       "    <tr>\n",
       "      <td>picture_0</td>\n",
       "      <td>62</td>\n",
       "      <td>62</td>\n",
       "      <td>62</td>\n",
       "      <td>62</td>\n",
       "    </tr>\n",
       "    <tr>\n",
       "      <td>picture_1</td>\n",
       "      <td>84</td>\n",
       "      <td>84</td>\n",
       "      <td>84</td>\n",
       "      <td>84</td>\n",
       "    </tr>\n",
       "    <tr>\n",
       "      <td>picture_2</td>\n",
       "      <td>116</td>\n",
       "      <td>116</td>\n",
       "      <td>116</td>\n",
       "      <td>116</td>\n",
       "    </tr>\n",
       "    <tr>\n",
       "      <td>picture_3</td>\n",
       "      <td>21</td>\n",
       "      <td>21</td>\n",
       "      <td>21</td>\n",
       "      <td>21</td>\n",
       "    </tr>\n",
       "    <tr>\n",
       "      <td>picture_4</td>\n",
       "      <td>14</td>\n",
       "      <td>14</td>\n",
       "      <td>14</td>\n",
       "      <td>14</td>\n",
       "    </tr>\n",
       "    <tr>\n",
       "      <td>picture_5</td>\n",
       "      <td>11</td>\n",
       "      <td>11</td>\n",
       "      <td>11</td>\n",
       "      <td>11</td>\n",
       "    </tr>\n",
       "  </tbody>\n",
       "</table>\n",
       "</div>"
      ],
      "text/plain": [
       "           reject_id  user_id  admin_id  rejected_at\n",
       "context                                             \n",
       "AMP005           101      101       101          101\n",
       "AMP017             1        1         1            1\n",
       "SNS 계정 기재          1        1         1            1\n",
       "birthday           5        5         5            5\n",
       "height             3        3         3            3\n",
       "picture_0         62       62        62           62\n",
       "picture_1         84       84        84           84\n",
       "picture_2        116      116       116          116\n",
       "picture_3         21       21        21           21\n",
       "picture_4         14       14        14           14\n",
       "picture_5         11       11        11           11"
      ]
     },
     "execution_count": 278,
     "metadata": {},
     "output_type": "execute_result"
    }
   ],
   "source": [
    "rejects.loc[rejects.user_id.isin(banned_users)].groupby('context').agg(len)"
   ]
  },
  {
   "cell_type": "markdown",
   "metadata": {},
   "source": [
    "#### Confirmed Profiles"
   ]
  },
  {
   "cell_type": "code",
   "execution_count": 59,
   "metadata": {},
   "outputs": [],
   "source": [
    "# Confirmed Profile\n",
    "confirmed_mask = (users.is_confirm == 'Y')\n",
    "confirmed_profiles = users.loc[confirmed_mask]"
   ]
  },
  {
   "cell_type": "code",
   "execution_count": 60,
   "metadata": {},
   "outputs": [
    {
     "data": {
      "text/plain": [
       "count    10289.000000\n",
       "mean      4842.232190\n",
       "std      16569.482384\n",
       "min         34.000000\n",
       "25%        136.000000\n",
       "50%        311.000000\n",
       "75%        962.000000\n",
       "max      86395.000000\n",
       "Name: confirm_to_complete_seconds, dtype: float64"
      ]
     },
     "execution_count": 60,
     "metadata": {},
     "output_type": "execute_result"
    }
   ],
   "source": [
    "confirmed_profiles.confirm_to_complete_seconds.describe()"
   ]
  },
  {
   "cell_type": "code",
   "execution_count": 753,
   "metadata": {},
   "outputs": [
    {
     "data": {
      "image/png": "[encoded data removed]",
      "text/plain": [
       "<Figure size 1152x720 with 1 Axes>"
      ]
     },
     "metadata": {},
     "output_type": "display_data"
    }
   ],
   "source": [
    "\n",
    "#3ysmoothed = gaussian_filter1d(y, sigma=5)\n",
    "#plt.plot(x, ysmoothed)\n",
    "#plt.show()\n",
    "y = np.floor(confirmed_profiles.profile_score).value_counts().sort_index()\n",
    "x = y.index\n",
    "\n",
    "blocked_y = np.floor(blocked_profiles.profile_score).value_counts().sort_index()\n",
    "blocked_x = blocked_y.index\n",
    "\n",
    "\n",
    "plt.plot(x, gaussian_filter1d(y, sigma = 2))\n",
    "plt.plot(blocked_x, gaussian_filter1d(blocked_y, sigma = 2))\n",
    "\n",
    "plt.axvline(65, color='red', linestyle='dashed', linewidth=1)\n",
    "plt.axvline(50, color='red', linestyle='dashed', linewidth=1)\n",
    "plt.axvline(35, color='red', linestyle='dashed', linewidth=1)\n",
    "plt.show()"
   ]
  },
  {
   "cell_type": "markdown",
   "metadata": {},
   "source": [
    "#### Blocked Profiles"
   ]
  },
  {
   "cell_type": "code",
   "execution_count": 61,
   "metadata": {},
   "outputs": [],
   "source": [
    "# Blocked Profile\n",
    "blocked_mask = (users.is_confirm == 'Y') & (users.is_blocked == 'Y') \n",
    "blocked_profiles = users.loc[blocked_mask]"
   ]
  },
  {
   "cell_type": "code",
   "execution_count": 62,
   "metadata": {
    "scrolled": true
   },
   "outputs": [
    {
     "data": {
      "text/plain": [
       "count    278.000000\n",
       "mean      83.607878\n",
       "std        6.731312\n",
       "min       55.790000\n",
       "25%       80.322500\n",
       "50%       84.840000\n",
       "75%       87.995000\n",
       "max       96.640000\n",
       "Name: profile_score, dtype: float64"
      ]
     },
     "execution_count": 62,
     "metadata": {},
     "output_type": "execute_result"
    }
   ],
   "source": [
    "blocked_profiles.profile_score.describe()"
   ]
  },
  {
   "cell_type": "code",
   "execution_count": 150,
   "metadata": {},
   "outputs": [
    {
     "data": {
      "image/png": "[encoded data removed]",
      "text/plain": [
       "<Figure size 1152x720 with 1 Axes>"
      ]
     },
     "metadata": {},
     "output_type": "display_data"
    }
   ],
   "source": [
    "y = np.floor(blocked_profiles.profile_score).value_counts()\n",
    "x = y.index\n",
    "\n",
    "plt.bar(x, y)\n",
    "plt.axvline(65, color='red', linestyle='dashed', linewidth=1)\n",
    "plt.axvline(50, color='red', linestyle='dashed', linewidth=1)\n",
    "plt.axvline(35, color='red', linestyle='dashed', linewidth=1)\n",
    "plt.show()"
   ]
  },
  {
   "cell_type": "code",
   "execution_count": 63,
   "metadata": {},
   "outputs": [],
   "source": [
    "with open('blocked_bio.txt', 'w') as f:\n",
    "    for text in blocked_profiles['bio'].iteritems():\n",
    "        f.write(str(text) + '\\n')"
   ]
  },
  {
   "cell_type": "code",
   "execution_count": 64,
   "metadata": {},
   "outputs": [
    {
     "data": {
      "text/plain": [
       "4                     혼자사는데   저랑 술친구 밥친구 톡친구 해요  카톡T886\n",
       "34                    좋은인연되길 바래요^^\\n카.톡: ｎｎｙ３３ 연락 주세요~~\n",
       "37                        앱 자주안해서  카톡로 대화할까요 ? 카톡 :T886\n",
       "69                       나이 상관없이 저랑 친구 하실분요\\nㄲㅑ 똑: ttu8\n",
       "71             톡 친구 밥친구 술친구 하실분  같이드라이브해도 좋아해요 카톡 :T886\n",
       "                              ...                      \n",
       "11645    자주 확인을 못해요  답장 늦거나   연결이 조금 늦어져도  기다려 주시면 감하행요\n",
       "12405                               안녕하세요  방가워요 캐뚁 1363\n",
       "12421                                   모야 이거 어떻게 하는거야ㅠ\n",
       "12513                 어플 탈퇴할걸라 ㅠㅠ 친하게 지낼분은 톡1994669주세요~\n",
       "12527      답장이  늦더라도    기다려 주세용  답장늦으면 카톡 199266 추가 주세용\n",
       "Name: bio, Length: 62, dtype: object"
      ]
     },
     "execution_count": 64,
     "metadata": {},
     "output_type": "execute_result"
    }
   ],
   "source": [
    "blocked_profiles.loc[blocked_profiles.bio.notnull(), 'bio']"
   ]
  },
  {
   "cell_type": "markdown",
   "metadata": {},
   "source": [
    "#### Pure Profiles"
   ]
  },
  {
   "cell_type": "code",
   "execution_count": 115,
   "metadata": {},
   "outputs": [],
   "source": [
    "pure_mask = (users.is_confirm == 'Y') & (users.is_blocked.isna())\n",
    "pure_profiles = users.loc[pure_mask]"
   ]
  },
  {
   "cell_type": "code",
   "execution_count": 116,
   "metadata": {},
   "outputs": [
    {
     "data": {
      "text/html": [
       "<div>\n",
       "<style scoped>\n",
       "    .dataframe tbody tr th:only-of-type {\n",
       "        vertical-align: middle;\n",
       "    }\n",
       "\n",
       "    .dataframe tbody tr th {\n",
       "        vertical-align: top;\n",
       "    }\n",
       "\n",
       "    .dataframe thead th {\n",
       "        text-align: right;\n",
       "    }\n",
       "</style>\n",
       "<table border=\"1\" class=\"dataframe\">\n",
       "  <thead>\n",
       "    <tr style=\"text-align: right;\">\n",
       "      <th></th>\n",
       "      <th>count</th>\n",
       "      <th>mean</th>\n",
       "      <th>std</th>\n",
       "      <th>min</th>\n",
       "      <th>25%</th>\n",
       "      <th>50%</th>\n",
       "      <th>75%</th>\n",
       "      <th>max</th>\n",
       "    </tr>\n",
       "    <tr>\n",
       "      <th>profile_tier</th>\n",
       "      <th></th>\n",
       "      <th></th>\n",
       "      <th></th>\n",
       "      <th></th>\n",
       "      <th></th>\n",
       "      <th></th>\n",
       "      <th></th>\n",
       "      <th></th>\n",
       "    </tr>\n",
       "  </thead>\n",
       "  <tbody>\n",
       "    <tr>\n",
       "      <td>Diamond</td>\n",
       "      <td>6204.0</td>\n",
       "      <td>316.668117</td>\n",
       "      <td>709.037138</td>\n",
       "      <td>30.0</td>\n",
       "      <td>65.0</td>\n",
       "      <td>94.0</td>\n",
       "      <td>377.25</td>\n",
       "      <td>20361.0</td>\n",
       "    </tr>\n",
       "    <tr>\n",
       "      <td>Gold</td>\n",
       "      <td>2927.0</td>\n",
       "      <td>425.669969</td>\n",
       "      <td>794.084044</td>\n",
       "      <td>31.0</td>\n",
       "      <td>70.0</td>\n",
       "      <td>121.0</td>\n",
       "      <td>689.50</td>\n",
       "      <td>18040.0</td>\n",
       "    </tr>\n",
       "    <tr>\n",
       "      <td>Silver</td>\n",
       "      <td>861.0</td>\n",
       "      <td>782.164925</td>\n",
       "      <td>899.068115</td>\n",
       "      <td>31.0</td>\n",
       "      <td>232.0</td>\n",
       "      <td>704.0</td>\n",
       "      <td>827.00</td>\n",
       "      <td>7824.0</td>\n",
       "    </tr>\n",
       "    <tr>\n",
       "      <td>Bronze</td>\n",
       "      <td>18.0</td>\n",
       "      <td>714.888889</td>\n",
       "      <td>89.089439</td>\n",
       "      <td>604.0</td>\n",
       "      <td>629.5</td>\n",
       "      <td>693.5</td>\n",
       "      <td>793.75</td>\n",
       "      <td>881.0</td>\n",
       "    </tr>\n",
       "  </tbody>\n",
       "</table>\n",
       "</div>"
      ],
      "text/plain": [
       "               count        mean         std    min    25%    50%     75%  \\\n",
       "profile_tier                                                                \n",
       "Diamond       6204.0  316.668117  709.037138   30.0   65.0   94.0  377.25   \n",
       "Gold          2927.0  425.669969  794.084044   31.0   70.0  121.0  689.50   \n",
       "Silver         861.0  782.164925  899.068115   31.0  232.0  704.0  827.00   \n",
       "Bronze          18.0  714.888889   89.089439  604.0  629.5  693.5  793.75   \n",
       "\n",
       "                  max  \n",
       "profile_tier           \n",
       "Diamond       20361.0  \n",
       "Gold          18040.0  \n",
       "Silver         7824.0  \n",
       "Bronze          881.0  "
      ]
     },
     "execution_count": 116,
     "metadata": {},
     "output_type": "execute_result"
    }
   ],
   "source": [
    "pure_profiles.groupby('profile_tier')['confirm_to_rating_seconds'].describe().sort_values('count', ascending = False)"
   ]
  },
  {
   "cell_type": "code",
   "execution_count": 128,
   "metadata": {},
   "outputs": [
    {
     "data": {
      "text/html": [
       "<div>\n",
       "<style scoped>\n",
       "    .dataframe tbody tr th:only-of-type {\n",
       "        vertical-align: middle;\n",
       "    }\n",
       "\n",
       "    .dataframe tbody tr th {\n",
       "        vertical-align: top;\n",
       "    }\n",
       "\n",
       "    .dataframe thead th {\n",
       "        text-align: right;\n",
       "    }\n",
       "</style>\n",
       "<table border=\"1\" class=\"dataframe\">\n",
       "  <thead>\n",
       "    <tr style=\"text-align: right;\">\n",
       "      <th></th>\n",
       "      <th>count</th>\n",
       "      <th>mean</th>\n",
       "      <th>std</th>\n",
       "      <th>min</th>\n",
       "      <th>25%</th>\n",
       "      <th>50%</th>\n",
       "      <th>75%</th>\n",
       "      <th>max</th>\n",
       "    </tr>\n",
       "    <tr>\n",
       "      <th>account_created_hour</th>\n",
       "      <th></th>\n",
       "      <th></th>\n",
       "      <th></th>\n",
       "      <th></th>\n",
       "      <th></th>\n",
       "      <th></th>\n",
       "      <th></th>\n",
       "      <th></th>\n",
       "    </tr>\n",
       "  </thead>\n",
       "  <tbody>\n",
       "    <tr>\n",
       "      <td>0</td>\n",
       "      <td>338.0</td>\n",
       "      <td>605.668639</td>\n",
       "      <td>1203.437614</td>\n",
       "      <td>51.0</td>\n",
       "      <td>100.00</td>\n",
       "      <td>626.0</td>\n",
       "      <td>801.00</td>\n",
       "      <td>20361.0</td>\n",
       "    </tr>\n",
       "    <tr>\n",
       "      <td>1</td>\n",
       "      <td>353.0</td>\n",
       "      <td>515.614731</td>\n",
       "      <td>644.422895</td>\n",
       "      <td>59.0</td>\n",
       "      <td>89.00</td>\n",
       "      <td>200.0</td>\n",
       "      <td>775.00</td>\n",
       "      <td>5584.0</td>\n",
       "    </tr>\n",
       "    <tr>\n",
       "      <td>2</td>\n",
       "      <td>396.0</td>\n",
       "      <td>481.275253</td>\n",
       "      <td>955.934192</td>\n",
       "      <td>44.0</td>\n",
       "      <td>75.00</td>\n",
       "      <td>129.5</td>\n",
       "      <td>758.50</td>\n",
       "      <td>15352.0</td>\n",
       "    </tr>\n",
       "    <tr>\n",
       "      <td>3</td>\n",
       "      <td>407.0</td>\n",
       "      <td>466.336609</td>\n",
       "      <td>809.886018</td>\n",
       "      <td>43.0</td>\n",
       "      <td>70.00</td>\n",
       "      <td>124.0</td>\n",
       "      <td>729.00</td>\n",
       "      <td>10426.0</td>\n",
       "    </tr>\n",
       "    <tr>\n",
       "      <td>4</td>\n",
       "      <td>453.0</td>\n",
       "      <td>484.322296</td>\n",
       "      <td>686.242232</td>\n",
       "      <td>47.0</td>\n",
       "      <td>83.00</td>\n",
       "      <td>140.0</td>\n",
       "      <td>729.00</td>\n",
       "      <td>7610.0</td>\n",
       "    </tr>\n",
       "    <tr>\n",
       "      <td>5</td>\n",
       "      <td>464.0</td>\n",
       "      <td>372.409483</td>\n",
       "      <td>431.532885</td>\n",
       "      <td>42.0</td>\n",
       "      <td>79.00</td>\n",
       "      <td>117.0</td>\n",
       "      <td>705.25</td>\n",
       "      <td>2752.0</td>\n",
       "    </tr>\n",
       "    <tr>\n",
       "      <td>6</td>\n",
       "      <td>422.0</td>\n",
       "      <td>429.123223</td>\n",
       "      <td>652.899332</td>\n",
       "      <td>41.0</td>\n",
       "      <td>77.00</td>\n",
       "      <td>116.0</td>\n",
       "      <td>721.00</td>\n",
       "      <td>5533.0</td>\n",
       "    </tr>\n",
       "    <tr>\n",
       "      <td>7</td>\n",
       "      <td>413.0</td>\n",
       "      <td>471.874092</td>\n",
       "      <td>1017.876003</td>\n",
       "      <td>49.0</td>\n",
       "      <td>74.00</td>\n",
       "      <td>101.0</td>\n",
       "      <td>633.00</td>\n",
       "      <td>7877.0</td>\n",
       "    </tr>\n",
       "    <tr>\n",
       "      <td>8</td>\n",
       "      <td>368.0</td>\n",
       "      <td>426.665761</td>\n",
       "      <td>911.708104</td>\n",
       "      <td>37.0</td>\n",
       "      <td>73.00</td>\n",
       "      <td>98.5</td>\n",
       "      <td>660.00</td>\n",
       "      <td>6046.0</td>\n",
       "    </tr>\n",
       "    <tr>\n",
       "      <td>9</td>\n",
       "      <td>356.0</td>\n",
       "      <td>282.601124</td>\n",
       "      <td>782.671110</td>\n",
       "      <td>33.0</td>\n",
       "      <td>67.00</td>\n",
       "      <td>81.0</td>\n",
       "      <td>129.25</td>\n",
       "      <td>7888.0</td>\n",
       "    </tr>\n",
       "    <tr>\n",
       "      <td>10</td>\n",
       "      <td>432.0</td>\n",
       "      <td>189.958333</td>\n",
       "      <td>354.147168</td>\n",
       "      <td>40.0</td>\n",
       "      <td>60.00</td>\n",
       "      <td>74.0</td>\n",
       "      <td>113.00</td>\n",
       "      <td>4799.0</td>\n",
       "    </tr>\n",
       "    <tr>\n",
       "      <td>11</td>\n",
       "      <td>484.0</td>\n",
       "      <td>128.652893</td>\n",
       "      <td>200.315298</td>\n",
       "      <td>30.0</td>\n",
       "      <td>49.00</td>\n",
       "      <td>63.0</td>\n",
       "      <td>91.00</td>\n",
       "      <td>1051.0</td>\n",
       "    </tr>\n",
       "    <tr>\n",
       "      <td>12</td>\n",
       "      <td>598.0</td>\n",
       "      <td>138.219064</td>\n",
       "      <td>295.267106</td>\n",
       "      <td>30.0</td>\n",
       "      <td>45.00</td>\n",
       "      <td>55.5</td>\n",
       "      <td>80.00</td>\n",
       "      <td>5038.0</td>\n",
       "    </tr>\n",
       "    <tr>\n",
       "      <td>13</td>\n",
       "      <td>684.0</td>\n",
       "      <td>128.385965</td>\n",
       "      <td>204.797819</td>\n",
       "      <td>33.0</td>\n",
       "      <td>49.00</td>\n",
       "      <td>61.0</td>\n",
       "      <td>86.50</td>\n",
       "      <td>2007.0</td>\n",
       "    </tr>\n",
       "    <tr>\n",
       "      <td>14</td>\n",
       "      <td>773.0</td>\n",
       "      <td>178.523933</td>\n",
       "      <td>296.136794</td>\n",
       "      <td>31.0</td>\n",
       "      <td>50.00</td>\n",
       "      <td>62.0</td>\n",
       "      <td>97.00</td>\n",
       "      <td>3430.0</td>\n",
       "    </tr>\n",
       "    <tr>\n",
       "      <td>15</td>\n",
       "      <td>731.0</td>\n",
       "      <td>214.186047</td>\n",
       "      <td>338.437414</td>\n",
       "      <td>39.0</td>\n",
       "      <td>65.00</td>\n",
       "      <td>81.0</td>\n",
       "      <td>125.00</td>\n",
       "      <td>2550.0</td>\n",
       "    </tr>\n",
       "    <tr>\n",
       "      <td>16</td>\n",
       "      <td>558.0</td>\n",
       "      <td>259.510753</td>\n",
       "      <td>279.769896</td>\n",
       "      <td>47.0</td>\n",
       "      <td>97.00</td>\n",
       "      <td>132.5</td>\n",
       "      <td>212.25</td>\n",
       "      <td>1905.0</td>\n",
       "    </tr>\n",
       "    <tr>\n",
       "      <td>17</td>\n",
       "      <td>396.0</td>\n",
       "      <td>403.550505</td>\n",
       "      <td>445.921983</td>\n",
       "      <td>53.0</td>\n",
       "      <td>171.00</td>\n",
       "      <td>245.5</td>\n",
       "      <td>633.00</td>\n",
       "      <td>5024.0</td>\n",
       "    </tr>\n",
       "    <tr>\n",
       "      <td>18</td>\n",
       "      <td>299.0</td>\n",
       "      <td>720.397993</td>\n",
       "      <td>1188.913519</td>\n",
       "      <td>69.0</td>\n",
       "      <td>291.00</td>\n",
       "      <td>446.0</td>\n",
       "      <td>727.50</td>\n",
       "      <td>10189.0</td>\n",
       "    </tr>\n",
       "    <tr>\n",
       "      <td>19</td>\n",
       "      <td>224.0</td>\n",
       "      <td>791.482143</td>\n",
       "      <td>683.986796</td>\n",
       "      <td>47.0</td>\n",
       "      <td>542.50</td>\n",
       "      <td>720.5</td>\n",
       "      <td>826.25</td>\n",
       "      <td>6116.0</td>\n",
       "    </tr>\n",
       "    <tr>\n",
       "      <td>20</td>\n",
       "      <td>206.0</td>\n",
       "      <td>790.199029</td>\n",
       "      <td>511.707895</td>\n",
       "      <td>85.0</td>\n",
       "      <td>613.50</td>\n",
       "      <td>701.5</td>\n",
       "      <td>817.00</td>\n",
       "      <td>3477.0</td>\n",
       "    </tr>\n",
       "    <tr>\n",
       "      <td>21</td>\n",
       "      <td>197.0</td>\n",
       "      <td>1099.446701</td>\n",
       "      <td>2009.265716</td>\n",
       "      <td>37.0</td>\n",
       "      <td>545.00</td>\n",
       "      <td>709.0</td>\n",
       "      <td>815.00</td>\n",
       "      <td>18040.0</td>\n",
       "    </tr>\n",
       "    <tr>\n",
       "      <td>22</td>\n",
       "      <td>204.0</td>\n",
       "      <td>1131.186275</td>\n",
       "      <td>1653.522824</td>\n",
       "      <td>91.0</td>\n",
       "      <td>243.25</td>\n",
       "      <td>682.5</td>\n",
       "      <td>855.25</td>\n",
       "      <td>10167.0</td>\n",
       "    </tr>\n",
       "    <tr>\n",
       "      <td>23</td>\n",
       "      <td>255.0</td>\n",
       "      <td>757.623529</td>\n",
       "      <td>954.164972</td>\n",
       "      <td>63.0</td>\n",
       "      <td>143.50</td>\n",
       "      <td>629.0</td>\n",
       "      <td>822.50</td>\n",
       "      <td>6653.0</td>\n",
       "    </tr>\n",
       "  </tbody>\n",
       "</table>\n",
       "</div>"
      ],
      "text/plain": [
       "                      count         mean          std   min     25%    50%  \\\n",
       "account_created_hour                                                         \n",
       "0                     338.0   605.668639  1203.437614  51.0  100.00  626.0   \n",
       "1                     353.0   515.614731   644.422895  59.0   89.00  200.0   \n",
       "2                     396.0   481.275253   955.934192  44.0   75.00  129.5   \n",
       "3                     407.0   466.336609   809.886018  43.0   70.00  124.0   \n",
       "4                     453.0   484.322296   686.242232  47.0   83.00  140.0   \n",
       "5                     464.0   372.409483   431.532885  42.0   79.00  117.0   \n",
       "6                     422.0   429.123223   652.899332  41.0   77.00  116.0   \n",
       "7                     413.0   471.874092  1017.876003  49.0   74.00  101.0   \n",
       "8                     368.0   426.665761   911.708104  37.0   73.00   98.5   \n",
       "9                     356.0   282.601124   782.671110  33.0   67.00   81.0   \n",
       "10                    432.0   189.958333   354.147168  40.0   60.00   74.0   \n",
       "11                    484.0   128.652893   200.315298  30.0   49.00   63.0   \n",
       "12                    598.0   138.219064   295.267106  30.0   45.00   55.5   \n",
       "13                    684.0   128.385965   204.797819  33.0   49.00   61.0   \n",
       "14                    773.0   178.523933   296.136794  31.0   50.00   62.0   \n",
       "15                    731.0   214.186047   338.437414  39.0   65.00   81.0   \n",
       "16                    558.0   259.510753   279.769896  47.0   97.00  132.5   \n",
       "17                    396.0   403.550505   445.921983  53.0  171.00  245.5   \n",
       "18                    299.0   720.397993  1188.913519  69.0  291.00  446.0   \n",
       "19                    224.0   791.482143   683.986796  47.0  542.50  720.5   \n",
       "20                    206.0   790.199029   511.707895  85.0  613.50  701.5   \n",
       "21                    197.0  1099.446701  2009.265716  37.0  545.00  709.0   \n",
       "22                    204.0  1131.186275  1653.522824  91.0  243.25  682.5   \n",
       "23                    255.0   757.623529   954.164972  63.0  143.50  629.0   \n",
       "\n",
       "                         75%      max  \n",
       "account_created_hour                   \n",
       "0                     801.00  20361.0  \n",
       "1                     775.00   5584.0  \n",
       "2                     758.50  15352.0  \n",
       "3                     729.00  10426.0  \n",
       "4                     729.00   7610.0  \n",
       "5                     705.25   2752.0  \n",
       "6                     721.00   5533.0  \n",
       "7                     633.00   7877.0  \n",
       "8                     660.00   6046.0  \n",
       "9                     129.25   7888.0  \n",
       "10                    113.00   4799.0  \n",
       "11                     91.00   1051.0  \n",
       "12                     80.00   5038.0  \n",
       "13                     86.50   2007.0  \n",
       "14                     97.00   3430.0  \n",
       "15                    125.00   2550.0  \n",
       "16                    212.25   1905.0  \n",
       "17                    633.00   5024.0  \n",
       "18                    727.50  10189.0  \n",
       "19                    826.25   6116.0  \n",
       "20                    817.00   3477.0  \n",
       "21                    815.00  18040.0  \n",
       "22                    855.25  10167.0  \n",
       "23                    822.50   6653.0  "
      ]
     },
     "execution_count": 128,
     "metadata": {},
     "output_type": "execute_result"
    }
   ],
   "source": [
    "pure_profiles.groupby('account_created_hour')['confirm_to_rating_seconds'].describe()"
   ]
  },
  {
   "cell_type": "code",
   "execution_count": 417,
   "metadata": {},
   "outputs": [
    {
     "data": {
      "text/plain": [
       "10011"
      ]
     },
     "execution_count": 417,
     "metadata": {},
     "output_type": "execute_result"
    }
   ],
   "source": [
    "len(pure_profiles)"
   ]
  },
  {
   "cell_type": "code",
   "execution_count": 421,
   "metadata": {},
   "outputs": [
    {
     "data": {
      "text/plain": [
       "931"
      ]
     },
     "execution_count": 421,
     "metadata": {},
     "output_type": "execute_result"
    }
   ],
   "source": [
    "sum(pure_profiles.created_to_confirm_seconds > 30*60)"
   ]
  },
  {
   "cell_type": "code",
   "execution_count": 414,
   "metadata": {},
   "outputs": [
    {
     "data": {
      "text/html": [
       "<div>\n",
       "<style scoped>\n",
       "    .dataframe tbody tr th:only-of-type {\n",
       "        vertical-align: middle;\n",
       "    }\n",
       "\n",
       "    .dataframe tbody tr th {\n",
       "        vertical-align: top;\n",
       "    }\n",
       "\n",
       "    .dataframe thead th {\n",
       "        text-align: right;\n",
       "    }\n",
       "</style>\n",
       "<table border=\"1\" class=\"dataframe\">\n",
       "  <thead>\n",
       "    <tr style=\"text-align: right;\">\n",
       "      <th></th>\n",
       "      <th>count</th>\n",
       "      <th>mean</th>\n",
       "      <th>std</th>\n",
       "      <th>min</th>\n",
       "      <th>25%</th>\n",
       "      <th>50%</th>\n",
       "      <th>75%</th>\n",
       "      <th>max</th>\n",
       "    </tr>\n",
       "    <tr>\n",
       "      <th>account_created_hour</th>\n",
       "      <th></th>\n",
       "      <th></th>\n",
       "      <th></th>\n",
       "      <th></th>\n",
       "      <th></th>\n",
       "      <th></th>\n",
       "      <th></th>\n",
       "      <th></th>\n",
       "    </tr>\n",
       "  </thead>\n",
       "  <tbody>\n",
       "    <tr>\n",
       "      <td>0</td>\n",
       "      <td>338.0</td>\n",
       "      <td>2289.310651</td>\n",
       "      <td>7726.992025</td>\n",
       "      <td>90.0</td>\n",
       "      <td>256.00</td>\n",
       "      <td>384.0</td>\n",
       "      <td>657.00</td>\n",
       "      <td>73116.0</td>\n",
       "    </tr>\n",
       "    <tr>\n",
       "      <td>1</td>\n",
       "      <td>353.0</td>\n",
       "      <td>1669.515581</td>\n",
       "      <td>6902.098137</td>\n",
       "      <td>115.0</td>\n",
       "      <td>250.00</td>\n",
       "      <td>352.0</td>\n",
       "      <td>634.00</td>\n",
       "      <td>84880.0</td>\n",
       "    </tr>\n",
       "    <tr>\n",
       "      <td>2</td>\n",
       "      <td>396.0</td>\n",
       "      <td>1465.227273</td>\n",
       "      <td>6082.249117</td>\n",
       "      <td>117.0</td>\n",
       "      <td>257.75</td>\n",
       "      <td>370.5</td>\n",
       "      <td>650.25</td>\n",
       "      <td>82195.0</td>\n",
       "    </tr>\n",
       "    <tr>\n",
       "      <td>3</td>\n",
       "      <td>407.0</td>\n",
       "      <td>1606.980344</td>\n",
       "      <td>5984.319264</td>\n",
       "      <td>120.0</td>\n",
       "      <td>267.50</td>\n",
       "      <td>389.0</td>\n",
       "      <td>725.00</td>\n",
       "      <td>80097.0</td>\n",
       "    </tr>\n",
       "    <tr>\n",
       "      <td>4</td>\n",
       "      <td>453.0</td>\n",
       "      <td>1484.657837</td>\n",
       "      <td>6542.220210</td>\n",
       "      <td>109.0</td>\n",
       "      <td>294.00</td>\n",
       "      <td>408.0</td>\n",
       "      <td>658.00</td>\n",
       "      <td>76694.0</td>\n",
       "    </tr>\n",
       "    <tr>\n",
       "      <td>5</td>\n",
       "      <td>464.0</td>\n",
       "      <td>1252.730603</td>\n",
       "      <td>4768.447852</td>\n",
       "      <td>129.0</td>\n",
       "      <td>289.75</td>\n",
       "      <td>420.0</td>\n",
       "      <td>644.50</td>\n",
       "      <td>69620.0</td>\n",
       "    </tr>\n",
       "    <tr>\n",
       "      <td>6</td>\n",
       "      <td>422.0</td>\n",
       "      <td>2248.978673</td>\n",
       "      <td>8856.515259</td>\n",
       "      <td>102.0</td>\n",
       "      <td>299.00</td>\n",
       "      <td>445.0</td>\n",
       "      <td>759.00</td>\n",
       "      <td>80706.0</td>\n",
       "    </tr>\n",
       "    <tr>\n",
       "      <td>7</td>\n",
       "      <td>413.0</td>\n",
       "      <td>2137.508475</td>\n",
       "      <td>9142.310797</td>\n",
       "      <td>114.0</td>\n",
       "      <td>293.00</td>\n",
       "      <td>443.0</td>\n",
       "      <td>659.00</td>\n",
       "      <td>80376.0</td>\n",
       "    </tr>\n",
       "    <tr>\n",
       "      <td>8</td>\n",
       "      <td>368.0</td>\n",
       "      <td>1375.907609</td>\n",
       "      <td>5867.608358</td>\n",
       "      <td>109.0</td>\n",
       "      <td>289.00</td>\n",
       "      <td>446.5</td>\n",
       "      <td>732.25</td>\n",
       "      <td>85126.0</td>\n",
       "    </tr>\n",
       "    <tr>\n",
       "      <td>9</td>\n",
       "      <td>356.0</td>\n",
       "      <td>2557.615169</td>\n",
       "      <td>9192.856844</td>\n",
       "      <td>105.0</td>\n",
       "      <td>282.00</td>\n",
       "      <td>430.5</td>\n",
       "      <td>878.50</td>\n",
       "      <td>71884.0</td>\n",
       "    </tr>\n",
       "    <tr>\n",
       "      <td>10</td>\n",
       "      <td>432.0</td>\n",
       "      <td>1904.326389</td>\n",
       "      <td>7502.154892</td>\n",
       "      <td>81.0</td>\n",
       "      <td>278.75</td>\n",
       "      <td>418.0</td>\n",
       "      <td>844.50</td>\n",
       "      <td>80685.0</td>\n",
       "    </tr>\n",
       "    <tr>\n",
       "      <td>11</td>\n",
       "      <td>484.0</td>\n",
       "      <td>1913.646694</td>\n",
       "      <td>7708.455356</td>\n",
       "      <td>66.0</td>\n",
       "      <td>262.75</td>\n",
       "      <td>403.0</td>\n",
       "      <td>767.25</td>\n",
       "      <td>74349.0</td>\n",
       "    </tr>\n",
       "    <tr>\n",
       "      <td>12</td>\n",
       "      <td>598.0</td>\n",
       "      <td>1915.205686</td>\n",
       "      <td>7535.227828</td>\n",
       "      <td>94.0</td>\n",
       "      <td>284.50</td>\n",
       "      <td>453.0</td>\n",
       "      <td>879.50</td>\n",
       "      <td>85962.0</td>\n",
       "    </tr>\n",
       "    <tr>\n",
       "      <td>13</td>\n",
       "      <td>684.0</td>\n",
       "      <td>2464.869883</td>\n",
       "      <td>10057.907842</td>\n",
       "      <td>107.0</td>\n",
       "      <td>290.75</td>\n",
       "      <td>491.0</td>\n",
       "      <td>937.75</td>\n",
       "      <td>86067.0</td>\n",
       "    </tr>\n",
       "    <tr>\n",
       "      <td>14</td>\n",
       "      <td>773.0</td>\n",
       "      <td>2287.549806</td>\n",
       "      <td>9621.851617</td>\n",
       "      <td>82.0</td>\n",
       "      <td>283.00</td>\n",
       "      <td>426.0</td>\n",
       "      <td>686.00</td>\n",
       "      <td>84111.0</td>\n",
       "    </tr>\n",
       "    <tr>\n",
       "      <td>15</td>\n",
       "      <td>731.0</td>\n",
       "      <td>2166.110807</td>\n",
       "      <td>9232.940732</td>\n",
       "      <td>119.0</td>\n",
       "      <td>289.00</td>\n",
       "      <td>431.0</td>\n",
       "      <td>685.50</td>\n",
       "      <td>86279.0</td>\n",
       "    </tr>\n",
       "    <tr>\n",
       "      <td>16</td>\n",
       "      <td>558.0</td>\n",
       "      <td>2496.894265</td>\n",
       "      <td>9570.645166</td>\n",
       "      <td>107.0</td>\n",
       "      <td>308.50</td>\n",
       "      <td>472.0</td>\n",
       "      <td>794.75</td>\n",
       "      <td>83810.0</td>\n",
       "    </tr>\n",
       "    <tr>\n",
       "      <td>17</td>\n",
       "      <td>396.0</td>\n",
       "      <td>1985.994949</td>\n",
       "      <td>8804.071520</td>\n",
       "      <td>110.0</td>\n",
       "      <td>286.75</td>\n",
       "      <td>433.0</td>\n",
       "      <td>737.75</td>\n",
       "      <td>83575.0</td>\n",
       "    </tr>\n",
       "    <tr>\n",
       "      <td>18</td>\n",
       "      <td>299.0</td>\n",
       "      <td>2344.224080</td>\n",
       "      <td>9659.501231</td>\n",
       "      <td>114.0</td>\n",
       "      <td>250.50</td>\n",
       "      <td>378.0</td>\n",
       "      <td>592.50</td>\n",
       "      <td>84965.0</td>\n",
       "    </tr>\n",
       "    <tr>\n",
       "      <td>19</td>\n",
       "      <td>224.0</td>\n",
       "      <td>3610.366071</td>\n",
       "      <td>12165.511766</td>\n",
       "      <td>107.0</td>\n",
       "      <td>279.00</td>\n",
       "      <td>439.0</td>\n",
       "      <td>818.50</td>\n",
       "      <td>85678.0</td>\n",
       "    </tr>\n",
       "    <tr>\n",
       "      <td>20</td>\n",
       "      <td>206.0</td>\n",
       "      <td>1577.927184</td>\n",
       "      <td>6383.919181</td>\n",
       "      <td>115.0</td>\n",
       "      <td>282.00</td>\n",
       "      <td>414.5</td>\n",
       "      <td>697.25</td>\n",
       "      <td>75807.0</td>\n",
       "    </tr>\n",
       "    <tr>\n",
       "      <td>21</td>\n",
       "      <td>197.0</td>\n",
       "      <td>3790.000000</td>\n",
       "      <td>11989.715381</td>\n",
       "      <td>132.0</td>\n",
       "      <td>290.00</td>\n",
       "      <td>455.0</td>\n",
       "      <td>936.00</td>\n",
       "      <td>74689.0</td>\n",
       "    </tr>\n",
       "    <tr>\n",
       "      <td>22</td>\n",
       "      <td>204.0</td>\n",
       "      <td>1548.794118</td>\n",
       "      <td>6450.293837</td>\n",
       "      <td>113.0</td>\n",
       "      <td>266.50</td>\n",
       "      <td>377.5</td>\n",
       "      <td>621.25</td>\n",
       "      <td>63725.0</td>\n",
       "    </tr>\n",
       "    <tr>\n",
       "      <td>23</td>\n",
       "      <td>255.0</td>\n",
       "      <td>1485.890196</td>\n",
       "      <td>5443.849975</td>\n",
       "      <td>105.0</td>\n",
       "      <td>245.50</td>\n",
       "      <td>330.0</td>\n",
       "      <td>525.50</td>\n",
       "      <td>58823.0</td>\n",
       "    </tr>\n",
       "  </tbody>\n",
       "</table>\n",
       "</div>"
      ],
      "text/plain": [
       "                      count         mean           std    min     25%    50%  \\\n",
       "account_created_hour                                                           \n",
       "0                     338.0  2289.310651   7726.992025   90.0  256.00  384.0   \n",
       "1                     353.0  1669.515581   6902.098137  115.0  250.00  352.0   \n",
       "2                     396.0  1465.227273   6082.249117  117.0  257.75  370.5   \n",
       "3                     407.0  1606.980344   5984.319264  120.0  267.50  389.0   \n",
       "4                     453.0  1484.657837   6542.220210  109.0  294.00  408.0   \n",
       "5                     464.0  1252.730603   4768.447852  129.0  289.75  420.0   \n",
       "6                     422.0  2248.978673   8856.515259  102.0  299.00  445.0   \n",
       "7                     413.0  2137.508475   9142.310797  114.0  293.00  443.0   \n",
       "8                     368.0  1375.907609   5867.608358  109.0  289.00  446.5   \n",
       "9                     356.0  2557.615169   9192.856844  105.0  282.00  430.5   \n",
       "10                    432.0  1904.326389   7502.154892   81.0  278.75  418.0   \n",
       "11                    484.0  1913.646694   7708.455356   66.0  262.75  403.0   \n",
       "12                    598.0  1915.205686   7535.227828   94.0  284.50  453.0   \n",
       "13                    684.0  2464.869883  10057.907842  107.0  290.75  491.0   \n",
       "14                    773.0  2287.549806   9621.851617   82.0  283.00  426.0   \n",
       "15                    731.0  2166.110807   9232.940732  119.0  289.00  431.0   \n",
       "16                    558.0  2496.894265   9570.645166  107.0  308.50  472.0   \n",
       "17                    396.0  1985.994949   8804.071520  110.0  286.75  433.0   \n",
       "18                    299.0  2344.224080   9659.501231  114.0  250.50  378.0   \n",
       "19                    224.0  3610.366071  12165.511766  107.0  279.00  439.0   \n",
       "20                    206.0  1577.927184   6383.919181  115.0  282.00  414.5   \n",
       "21                    197.0  3790.000000  11989.715381  132.0  290.00  455.0   \n",
       "22                    204.0  1548.794118   6450.293837  113.0  266.50  377.5   \n",
       "23                    255.0  1485.890196   5443.849975  105.0  245.50  330.0   \n",
       "\n",
       "                         75%      max  \n",
       "account_created_hour                   \n",
       "0                     657.00  73116.0  \n",
       "1                     634.00  84880.0  \n",
       "2                     650.25  82195.0  \n",
       "3                     725.00  80097.0  \n",
       "4                     658.00  76694.0  \n",
       "5                     644.50  69620.0  \n",
       "6                     759.00  80706.0  \n",
       "7                     659.00  80376.0  \n",
       "8                     732.25  85126.0  \n",
       "9                     878.50  71884.0  \n",
       "10                    844.50  80685.0  \n",
       "11                    767.25  74349.0  \n",
       "12                    879.50  85962.0  \n",
       "13                    937.75  86067.0  \n",
       "14                    686.00  84111.0  \n",
       "15                    685.50  86279.0  \n",
       "16                    794.75  83810.0  \n",
       "17                    737.75  83575.0  \n",
       "18                    592.50  84965.0  \n",
       "19                    818.50  85678.0  \n",
       "20                    697.25  75807.0  \n",
       "21                    936.00  74689.0  \n",
       "22                    621.25  63725.0  \n",
       "23                    525.50  58823.0  "
      ]
     },
     "execution_count": 414,
     "metadata": {},
     "output_type": "execute_result"
    }
   ],
   "source": [
    "pure_profiles.groupby('account_created_hour')['created_to_confirm_seconds'].describe()"
   ]
  },
  {
   "cell_type": "code",
   "execution_count": 396,
   "metadata": {},
   "outputs": [],
   "source": [
    "temp = pd.DataFrame(t, columns = ['seconds'])\n",
    "temp = temp.merge(pd.DataFrame(pure_profiles.profile_score).reset_index(), how = 'outer', left_index = True, right_index = True)\n",
    "temp = temp.drop(['index'], axis = 1)"
   ]
  },
  {
   "cell_type": "code",
   "execution_count": 398,
   "metadata": {},
   "outputs": [
    {
     "data": {
      "text/html": [
       "<div>\n",
       "<style scoped>\n",
       "    .dataframe tbody tr th:only-of-type {\n",
       "        vertical-align: middle;\n",
       "    }\n",
       "\n",
       "    .dataframe tbody tr th {\n",
       "        vertical-align: top;\n",
       "    }\n",
       "\n",
       "    .dataframe thead th {\n",
       "        text-align: right;\n",
       "    }\n",
       "</style>\n",
       "<table border=\"1\" class=\"dataframe\">\n",
       "  <thead>\n",
       "    <tr style=\"text-align: right;\">\n",
       "      <th></th>\n",
       "      <th>seconds</th>\n",
       "      <th>profile_score</th>\n",
       "    </tr>\n",
       "  </thead>\n",
       "  <tbody>\n",
       "    <tr>\n",
       "      <td>0</td>\n",
       "      <td>507</td>\n",
       "      <td>59.98</td>\n",
       "    </tr>\n",
       "    <tr>\n",
       "      <td>1</td>\n",
       "      <td>7</td>\n",
       "      <td>49.67</td>\n",
       "    </tr>\n",
       "    <tr>\n",
       "      <td>2</td>\n",
       "      <td>20</td>\n",
       "      <td>66.88</td>\n",
       "    </tr>\n",
       "    <tr>\n",
       "      <td>3</td>\n",
       "      <td>1135</td>\n",
       "      <td>54.04</td>\n",
       "    </tr>\n",
       "    <tr>\n",
       "      <td>4</td>\n",
       "      <td>7</td>\n",
       "      <td>66.50</td>\n",
       "    </tr>\n",
       "    <tr>\n",
       "      <td>...</td>\n",
       "      <td>...</td>\n",
       "      <td>...</td>\n",
       "    </tr>\n",
       "    <tr>\n",
       "      <td>10006</td>\n",
       "      <td>460</td>\n",
       "      <td>62.50</td>\n",
       "    </tr>\n",
       "    <tr>\n",
       "      <td>10007</td>\n",
       "      <td>136</td>\n",
       "      <td>85.22</td>\n",
       "    </tr>\n",
       "    <tr>\n",
       "      <td>10008</td>\n",
       "      <td>119</td>\n",
       "      <td>65.28</td>\n",
       "    </tr>\n",
       "    <tr>\n",
       "      <td>10009</td>\n",
       "      <td>17</td>\n",
       "      <td>73.97</td>\n",
       "    </tr>\n",
       "    <tr>\n",
       "      <td>10010</td>\n",
       "      <td>2</td>\n",
       "      <td>90.56</td>\n",
       "    </tr>\n",
       "  </tbody>\n",
       "</table>\n",
       "<p>10011 rows × 2 columns</p>\n",
       "</div>"
      ],
      "text/plain": [
       "       seconds  profile_score\n",
       "0          507          59.98\n",
       "1            7          49.67\n",
       "2           20          66.88\n",
       "3         1135          54.04\n",
       "4            7          66.50\n",
       "...        ...            ...\n",
       "10006      460          62.50\n",
       "10007      136          85.22\n",
       "10008      119          65.28\n",
       "10009       17          73.97\n",
       "10010        2          90.56\n",
       "\n",
       "[10011 rows x 2 columns]"
      ]
     },
     "execution_count": 398,
     "metadata": {},
     "output_type": "execute_result"
    }
   ],
   "source": [
    "temp"
   ]
  },
  {
   "cell_type": "code",
   "execution_count": 397,
   "metadata": {},
   "outputs": [
    {
     "data": {
      "text/html": [
       "<div>\n",
       "<style scoped>\n",
       "    .dataframe tbody tr th:only-of-type {\n",
       "        vertical-align: middle;\n",
       "    }\n",
       "\n",
       "    .dataframe tbody tr th {\n",
       "        vertical-align: top;\n",
       "    }\n",
       "\n",
       "    .dataframe thead th {\n",
       "        text-align: right;\n",
       "    }\n",
       "</style>\n",
       "<table border=\"1\" class=\"dataframe\">\n",
       "  <thead>\n",
       "    <tr style=\"text-align: right;\">\n",
       "      <th></th>\n",
       "      <th>seconds</th>\n",
       "      <th>profile_score</th>\n",
       "    </tr>\n",
       "  </thead>\n",
       "  <tbody>\n",
       "    <tr>\n",
       "      <td>seconds</td>\n",
       "      <td>1.000000</td>\n",
       "      <td>-0.121615</td>\n",
       "    </tr>\n",
       "    <tr>\n",
       "      <td>profile_score</td>\n",
       "      <td>-0.121615</td>\n",
       "      <td>1.000000</td>\n",
       "    </tr>\n",
       "  </tbody>\n",
       "</table>\n",
       "</div>"
      ],
      "text/plain": [
       "                seconds  profile_score\n",
       "seconds        1.000000      -0.121615\n",
       "profile_score -0.121615       1.000000"
      ]
     },
     "execution_count": 397,
     "metadata": {},
     "output_type": "execute_result"
    }
   ],
   "source": [
    "temp.corr()"
   ]
  },
  {
   "cell_type": "code",
   "execution_count": 153,
   "metadata": {},
   "outputs": [
    {
     "data": {
      "text/html": [
       "<div>\n",
       "<style scoped>\n",
       "    .dataframe tbody tr th:only-of-type {\n",
       "        vertical-align: middle;\n",
       "    }\n",
       "\n",
       "    .dataframe tbody tr th {\n",
       "        vertical-align: top;\n",
       "    }\n",
       "\n",
       "    .dataframe thead th {\n",
       "        text-align: right;\n",
       "    }\n",
       "</style>\n",
       "<table border=\"1\" class=\"dataframe\">\n",
       "  <thead>\n",
       "    <tr style=\"text-align: right;\">\n",
       "      <th></th>\n",
       "      <th>reject_counts</th>\n",
       "      <th>created_to_confirm_seconds</th>\n",
       "    </tr>\n",
       "  </thead>\n",
       "  <tbody>\n",
       "    <tr>\n",
       "      <td>reject_counts</td>\n",
       "      <td>1.000000</td>\n",
       "      <td>0.128271</td>\n",
       "    </tr>\n",
       "    <tr>\n",
       "      <td>created_to_confirm_seconds</td>\n",
       "      <td>0.128271</td>\n",
       "      <td>1.000000</td>\n",
       "    </tr>\n",
       "  </tbody>\n",
       "</table>\n",
       "</div>"
      ],
      "text/plain": [
       "                            reject_counts  created_to_confirm_seconds\n",
       "reject_counts                    1.000000                    0.128271\n",
       "created_to_confirm_seconds       0.128271                    1.000000"
      ]
     },
     "execution_count": 153,
     "metadata": {},
     "output_type": "execute_result"
    }
   ],
   "source": [
    "pure_profiles[['reject_counts', 'created_to_confirm_seconds']].corr()"
   ]
  },
  {
   "cell_type": "code",
   "execution_count": 230,
   "metadata": {},
   "outputs": [
    {
     "data": {
      "text/plain": [
       "count    10011.000000\n",
       "mean         3.905504\n",
       "std          5.184687\n",
       "min          0.000000\n",
       "25%          0.000000\n",
       "50%          1.000000\n",
       "75%          6.000000\n",
       "max         21.000000\n",
       "Name: created_to_last_activity_days, dtype: float64"
      ]
     },
     "execution_count": 230,
     "metadata": {},
     "output_type": "execute_result"
    }
   ],
   "source": [
    "pure_profiles.created_to_last_activity_days.describe()"
   ]
  },
  {
   "cell_type": "code",
   "execution_count": 334,
   "metadata": {},
   "outputs": [
    {
     "data": {
      "text/plain": [
       "10011"
      ]
     },
     "execution_count": 334,
     "metadata": {},
     "output_type": "execute_result"
    }
   ],
   "source": [
    "len(pure_profiles)"
   ]
  },
  {
   "cell_type": "code",
   "execution_count": 344,
   "metadata": {},
   "outputs": [
    {
     "data": {
      "text/html": [
       "<div>\n",
       "<style scoped>\n",
       "    .dataframe tbody tr th:only-of-type {\n",
       "        vertical-align: middle;\n",
       "    }\n",
       "\n",
       "    .dataframe tbody tr th {\n",
       "        vertical-align: top;\n",
       "    }\n",
       "\n",
       "    .dataframe thead th {\n",
       "        text-align: right;\n",
       "    }\n",
       "</style>\n",
       "<table border=\"1\" class=\"dataframe\">\n",
       "  <thead>\n",
       "    <tr style=\"text-align: right;\">\n",
       "      <th></th>\n",
       "      <th>count</th>\n",
       "      <th>mean</th>\n",
       "      <th>std</th>\n",
       "      <th>min</th>\n",
       "      <th>25%</th>\n",
       "      <th>50%</th>\n",
       "      <th>75%</th>\n",
       "      <th>max</th>\n",
       "    </tr>\n",
       "    <tr>\n",
       "      <th>profile_tier</th>\n",
       "      <th></th>\n",
       "      <th></th>\n",
       "      <th></th>\n",
       "      <th></th>\n",
       "      <th></th>\n",
       "      <th></th>\n",
       "      <th></th>\n",
       "      <th></th>\n",
       "    </tr>\n",
       "  </thead>\n",
       "  <tbody>\n",
       "    <tr>\n",
       "      <td>Diamond</td>\n",
       "      <td>6204.0</td>\n",
       "      <td>4.252901</td>\n",
       "      <td>5.322127</td>\n",
       "      <td>0.0</td>\n",
       "      <td>0.0</td>\n",
       "      <td>2.0</td>\n",
       "      <td>7.0</td>\n",
       "      <td>21.0</td>\n",
       "    </tr>\n",
       "    <tr>\n",
       "      <td>Gold</td>\n",
       "      <td>2927.0</td>\n",
       "      <td>3.574650</td>\n",
       "      <td>5.023847</td>\n",
       "      <td>0.0</td>\n",
       "      <td>0.0</td>\n",
       "      <td>1.0</td>\n",
       "      <td>5.0</td>\n",
       "      <td>21.0</td>\n",
       "    </tr>\n",
       "    <tr>\n",
       "      <td>Silver</td>\n",
       "      <td>861.0</td>\n",
       "      <td>2.594657</td>\n",
       "      <td>4.404746</td>\n",
       "      <td>0.0</td>\n",
       "      <td>0.0</td>\n",
       "      <td>0.0</td>\n",
       "      <td>3.0</td>\n",
       "      <td>21.0</td>\n",
       "    </tr>\n",
       "    <tr>\n",
       "      <td>Bronze</td>\n",
       "      <td>18.0</td>\n",
       "      <td>0.888889</td>\n",
       "      <td>2.609685</td>\n",
       "      <td>0.0</td>\n",
       "      <td>0.0</td>\n",
       "      <td>0.0</td>\n",
       "      <td>0.0</td>\n",
       "      <td>11.0</td>\n",
       "    </tr>\n",
       "  </tbody>\n",
       "</table>\n",
       "</div>"
      ],
      "text/plain": [
       "               count      mean       std  min  25%  50%  75%   max\n",
       "profile_tier                                                      \n",
       "Diamond       6204.0  4.252901  5.322127  0.0  0.0  2.0  7.0  21.0\n",
       "Gold          2927.0  3.574650  5.023847  0.0  0.0  1.0  5.0  21.0\n",
       "Silver         861.0  2.594657  4.404746  0.0  0.0  0.0  3.0  21.0\n",
       "Bronze          18.0  0.888889  2.609685  0.0  0.0  0.0  0.0  11.0"
      ]
     },
     "execution_count": 344,
     "metadata": {},
     "output_type": "execute_result"
    }
   ],
   "source": [
    "pure_profiles.groupby('profile_tier')['created_to_last_activity_days'].describe().sort_values(by = 'count', ascending = False)"
   ]
  },
  {
   "cell_type": "code",
   "execution_count": 345,
   "metadata": {},
   "outputs": [],
   "source": [
    "tier_mask = (pure_profiles.profile_tier == 'Diamond') | (pure_profiles.profile_tier == 'Gold')\n",
    "dia_gold = pure_profiles.loc[tier_mask]"
   ]
  },
  {
   "cell_type": "code",
   "execution_count": 350,
   "metadata": {},
   "outputs": [
    {
     "data": {
      "text/plain": [
       "count    9131.000000\n",
       "mean       70.058493\n",
       "std        10.164551\n",
       "min        50.000000\n",
       "25%        62.515000\n",
       "50%        70.160000\n",
       "75%        77.230000\n",
       "max       100.000000\n",
       "Name: profile_score, dtype: float64"
      ]
     },
     "execution_count": 350,
     "metadata": {},
     "output_type": "execute_result"
    }
   ],
   "source": [
    "dia_gold.profile_score.describe()"
   ]
  },
  {
   "cell_type": "code",
   "execution_count": 359,
   "metadata": {},
   "outputs": [],
   "source": [
    "# new_gold = 50 - 70\n",
    "new_gold = pure_profiles.loc[(pure_profiles.profile_score >= 50) & (pure_profiles.profile_score < 70.16)]\n",
    "new_dia = pure_profiles.loc[pure_profiles.profile_score >= 70.16]"
   ]
  },
  {
   "cell_type": "code",
   "execution_count": 364,
   "metadata": {},
   "outputs": [
    {
     "data": {
      "text/plain": [
       "count     4565.000000\n",
       "mean       406.657174\n",
       "std        834.678926\n",
       "min         30.000000\n",
       "25%         68.000000\n",
       "50%        110.000000\n",
       "75%        670.000000\n",
       "max      20361.000000\n",
       "Name: confirm_to_rating_seconds, dtype: float64"
      ]
     },
     "execution_count": 364,
     "metadata": {},
     "output_type": "execute_result"
    }
   ],
   "source": [
    "new_gold.confirm_to_rating_seconds.describe()"
   ]
  },
  {
   "cell_type": "code",
   "execution_count": 339,
   "metadata": {},
   "outputs": [
    {
     "data": {
      "text/plain": [
       "Diamond    0.619780\n",
       "Gold       0.292408\n",
       "Silver     0.086014\n",
       "Bronze     0.001798\n",
       "Name: profile_tier, dtype: float64"
      ]
     },
     "execution_count": 339,
     "metadata": {},
     "output_type": "execute_result"
    }
   ],
   "source": [
    "pure_profiles.profile_tier.value_counts(normalize = True)"
   ]
  },
  {
   "cell_type": "code",
   "execution_count": 337,
   "metadata": {},
   "outputs": [
    {
     "data": {
      "text/plain": [
       "Diamond    0.406061\n",
       "Gold       0.375758\n",
       "Silver     0.212121\n",
       "Bronze     0.006061\n",
       "Name: profile_tier, dtype: float64"
      ]
     },
     "execution_count": 337,
     "metadata": {},
     "output_type": "execute_result"
    }
   ],
   "source": [
    "pure_profiles.loc[pure_profiles.stage_updated_at > pure_profiles.last_activity_at, 'profile_tier'].value_counts(normalize = True)"
   ]
  },
  {
   "cell_type": "markdown",
   "metadata": {},
   "source": [
    "한국인은 bio를 안쓰는 경향이 있음(비교적)"
   ]
  },
  {
   "cell_type": "code",
   "execution_count": 442,
   "metadata": {},
   "outputs": [
    {
     "data": {
      "image/png": "[encoded data removed]",
      "text/plain": [
       "<Figure size 1152x720 with 1 Axes>"
      ]
     },
     "metadata": {},
     "output_type": "display_data"
    }
   ],
   "source": [
    "tiers = ['Diamond', 'Gold', 'Silver', 'Bronze']\n",
    "\n",
    "for tier in tiers:\n",
    "    \n",
    "    y = pure_profiles.loc[pure_profiles.profile_tier == tier, 'created_to_last_activity_days'].value_counts().sort_index()\n",
    "    x = y.index\n",
    "    \n",
    "    plt.plot(x, y)\n",
    "plt.show()"
   ]
  },
  {
   "cell_type": "markdown",
   "metadata": {},
   "source": [
    "Rating -> Stage"
   ]
  },
  {
   "cell_type": "code",
   "execution_count": 448,
   "metadata": {},
   "outputs": [],
   "source": [
    "temp_users = pure_profiles.loc[pure_profiles.sign_up_completed == 'Y']"
   ]
  },
  {
   "cell_type": "code",
   "execution_count": 452,
   "metadata": {},
   "outputs": [
    {
     "name": "stderr",
     "output_type": "stream",
     "text": [
      "/Users/keonhoseo/opt/anaconda3/lib/python3.7/site-packages/ipykernel_launcher.py:1: SettingWithCopyWarning: \n",
      "A value is trying to be set on a copy of a slice from a DataFrame.\n",
      "Try using .loc[row_indexer,col_indexer] = value instead\n",
      "\n",
      "See the caveats in the documentation: http://pandas.pydata.org/pandas-docs/stable/user_guide/indexing.html#returning-a-view-versus-a-copy\n",
      "  \"\"\"Entry point for launching an IPython kernel.\n"
     ]
    }
   ],
   "source": [
    "temp_users['rating_to_activate_seconds'] = (pd.DatetimeIndex(temp_users.stage_updated_at) - pd.DatetimeIndex(temp_users.rating_completed_at)).seconds"
   ]
  },
  {
   "cell_type": "markdown",
   "metadata": {},
   "source": [
    "#### Deactivated Profiles"
   ]
  },
  {
   "cell_type": "code",
   "execution_count": 136,
   "metadata": {},
   "outputs": [],
   "source": [
    "deactivated_mask = (users.is_confirm == 'Y') & (users.is_blocked.isna()) & (users.is_deactivated == 'Y')\n",
    "deactivated_profiles = users.loc[deactivated_mask]"
   ]
  },
  {
   "cell_type": "markdown",
   "metadata": {},
   "source": [
    "#### Turn Over Profiles"
   ]
  },
  {
   "cell_type": "code",
   "execution_count": 137,
   "metadata": {},
   "outputs": [],
   "source": [
    "turn_over_mask = ((users.is_confirm == 'Y') & (users.is_blocked.isna())) & ((users.is_deactivated == 'Y') | (users.is_out == 'Y'))\n",
    "turn_over_profiles = users.loc[turn_over_mask]"
   ]
  },
  {
   "cell_type": "code",
   "execution_count": 105,
   "metadata": {},
   "outputs": [
    {
     "data": {
      "text/plain": [
       "Diamond    0.619780\n",
       "Gold       0.292408\n",
       "Silver     0.086014\n",
       "Bronze     0.001798\n",
       "Name: profile_tier, dtype: float64"
      ]
     },
     "execution_count": 105,
     "metadata": {},
     "output_type": "execute_result"
    }
   ],
   "source": [
    "pure_profiles.profile_tier.value_counts(normalize = True)"
   ]
  },
  {
   "cell_type": "code",
   "execution_count": 138,
   "metadata": {},
   "outputs": [
    {
     "data": {
      "text/plain": [
       "Diamond    0.601689\n",
       "Gold       0.306855\n",
       "Silver     0.090156\n",
       "Bronze     0.001300\n",
       "Name: profile_tier, dtype: float64"
      ]
     },
     "execution_count": 138,
     "metadata": {},
     "output_type": "execute_result"
    }
   ],
   "source": [
    "turn_over_profiles.profile_tier.value_counts(normalize = True)"
   ]
  },
  {
   "cell_type": "markdown",
   "metadata": {},
   "source": [
    "#### Active Profiles"
   ]
  },
  {
   "cell_type": "code",
   "execution_count": 139,
   "metadata": {},
   "outputs": [],
   "source": [
    "active_mask = (users.is_out == 'N') & (users.is_deactivated == 'N') & (users.is_confirm == 'Y') & (users.is_blocked != 'Y')\n",
    "active_profiles = users.loc[active_mask]"
   ]
  },
  {
   "cell_type": "code",
   "execution_count": 140,
   "metadata": {},
   "outputs": [
    {
     "data": {
      "text/plain": [
       "count     3854.000000\n",
       "mean      2730.092631\n",
       "std      10053.708125\n",
       "min        100.000000\n",
       "25%        297.000000\n",
       "50%        453.500000\n",
       "75%        804.750000\n",
       "max      86067.000000\n",
       "Name: created_to_confirm_seconds, dtype: float64"
      ]
     },
     "execution_count": 140,
     "metadata": {},
     "output_type": "execute_result"
    }
   ],
   "source": [
    "active_profiles.created_to_confirm_seconds.describe()"
   ]
  },
  {
   "cell_type": "code",
   "execution_count": 141,
   "metadata": {},
   "outputs": [
    {
     "data": {
      "text/plain": [
       "count    813.000000\n",
       "mean       3.132841\n",
       "std        2.917936\n",
       "min        1.000000\n",
       "25%        1.000000\n",
       "50%        2.000000\n",
       "75%        4.000000\n",
       "max       36.000000\n",
       "Name: reject_counts, dtype: float64"
      ]
     },
     "execution_count": 141,
     "metadata": {},
     "output_type": "execute_result"
    }
   ],
   "source": [
    "active_profiles.reject_counts.describe()"
   ]
  },
  {
   "cell_type": "code",
   "execution_count": 472,
   "metadata": {},
   "outputs": [
    {
     "data": {
      "text/plain": [
       "Index(['user_id', 'birthday', 'gender', 'photo_count', 'profile_score',\n",
       "       'profile_tier', 'bio', 'characters', 'height', 'body_type',\n",
       "       'blood_type', 'education', 'school', 'job', 'company', 'religion',\n",
       "       'smoking', 'drinking', 'region', 'state', 'locality', 'longitude',\n",
       "       'latitude', 'current_region', 'language', 'is_out', 'is_deactivated',\n",
       "       'is_blocked', 'phone_number', 'facebook_email_address',\n",
       "       'account_created_at', 'is_confirm', 'confirm_admin_id',\n",
       "       'admin_confirmed_at', 'rating_completed_at', 'sign_up_completed',\n",
       "       'stage', 'stage_updated_at', 'last_activity_at', 'age',\n",
       "       'account_created_day', 'account_created_weekday',\n",
       "       'account_created_hour', 'created_to_confirm_seconds',\n",
       "       'confirm_to_complete_seconds', 'reject_counts',\n",
       "       'confirm_to_rating_seconds', 'created_to_last_activity_seconds',\n",
       "       'created_to_last_activity_days'],\n",
       "      dtype='object')"
      ]
     },
     "execution_count": 472,
     "metadata": {},
     "output_type": "execute_result"
    }
   ],
   "source": [
    "active_profiles.columns"
   ]
  },
  {
   "cell_type": "code",
   "execution_count": 476,
   "metadata": {},
   "outputs": [
    {
     "data": {
      "text/html": [
       "<div>\n",
       "<style scoped>\n",
       "    .dataframe tbody tr th:only-of-type {\n",
       "        vertical-align: middle;\n",
       "    }\n",
       "\n",
       "    .dataframe tbody tr th {\n",
       "        vertical-align: top;\n",
       "    }\n",
       "\n",
       "    .dataframe thead th {\n",
       "        text-align: right;\n",
       "    }\n",
       "</style>\n",
       "<table border=\"1\" class=\"dataframe\">\n",
       "  <thead>\n",
       "    <tr style=\"text-align: right;\">\n",
       "      <th></th>\n",
       "      <th>user_id</th>\n",
       "      <th>birthday</th>\n",
       "      <th>gender</th>\n",
       "      <th>photo_count</th>\n",
       "      <th>profile_score</th>\n",
       "      <th>profile_tier</th>\n",
       "      <th>bio</th>\n",
       "      <th>characters</th>\n",
       "      <th>height</th>\n",
       "      <th>body_type</th>\n",
       "      <th>...</th>\n",
       "      <th>age</th>\n",
       "      <th>account_created_day</th>\n",
       "      <th>account_created_weekday</th>\n",
       "      <th>account_created_hour</th>\n",
       "      <th>created_to_confirm_seconds</th>\n",
       "      <th>confirm_to_complete_seconds</th>\n",
       "      <th>reject_counts</th>\n",
       "      <th>confirm_to_rating_seconds</th>\n",
       "      <th>created_to_last_activity_seconds</th>\n",
       "      <th>created_to_last_activity_days</th>\n",
       "    </tr>\n",
       "  </thead>\n",
       "  <tbody>\n",
       "    <tr>\n",
       "      <td>12711</td>\n",
       "      <td>1920194</td>\n",
       "      <td>1998-12-10</td>\n",
       "      <td>F</td>\n",
       "      <td>2</td>\n",
       "      <td>85.22</td>\n",
       "      <td>Diamond</td>\n",
       "      <td>NaN</td>\n",
       "      <td>UC04|UC08|UC15</td>\n",
       "      <td>160.0</td>\n",
       "      <td>BF02</td>\n",
       "      <td>...</td>\n",
       "      <td>21</td>\n",
       "      <td>14</td>\n",
       "      <td>3</td>\n",
       "      <td>14</td>\n",
       "      <td>601.0</td>\n",
       "      <td>802.0</td>\n",
       "      <td>NaN</td>\n",
       "      <td>666.0</td>\n",
       "      <td>57489</td>\n",
       "      <td>0</td>\n",
       "    </tr>\n",
       "    <tr>\n",
       "      <td>12712</td>\n",
       "      <td>1920197</td>\n",
       "      <td>1997-05-10</td>\n",
       "      <td>F</td>\n",
       "      <td>4</td>\n",
       "      <td>65.28</td>\n",
       "      <td>Diamond</td>\n",
       "      <td>NaN</td>\n",
       "      <td>NaN</td>\n",
       "      <td>168.0</td>\n",
       "      <td>BF02</td>\n",
       "      <td>...</td>\n",
       "      <td>22</td>\n",
       "      <td>14</td>\n",
       "      <td>3</td>\n",
       "      <td>14</td>\n",
       "      <td>589.0</td>\n",
       "      <td>197.0</td>\n",
       "      <td>NaN</td>\n",
       "      <td>78.0</td>\n",
       "      <td>77105</td>\n",
       "      <td>0</td>\n",
       "    </tr>\n",
       "    <tr>\n",
       "      <td>12713</td>\n",
       "      <td>1920213</td>\n",
       "      <td>1997-06-07</td>\n",
       "      <td>F</td>\n",
       "      <td>4</td>\n",
       "      <td>73.97</td>\n",
       "      <td>Diamond</td>\n",
       "      <td>NaN</td>\n",
       "      <td>NaN</td>\n",
       "      <td>155.0</td>\n",
       "      <td>BF02</td>\n",
       "      <td>...</td>\n",
       "      <td>22</td>\n",
       "      <td>14</td>\n",
       "      <td>3</td>\n",
       "      <td>14</td>\n",
       "      <td>336.0</td>\n",
       "      <td>95.0</td>\n",
       "      <td>NaN</td>\n",
       "      <td>78.0</td>\n",
       "      <td>75150</td>\n",
       "      <td>0</td>\n",
       "    </tr>\n",
       "  </tbody>\n",
       "</table>\n",
       "<p>3 rows × 49 columns</p>\n",
       "</div>"
      ],
      "text/plain": [
       "       user_id   birthday gender  photo_count  profile_score profile_tier  \\\n",
       "12711  1920194 1998-12-10      F            2          85.22      Diamond   \n",
       "12712  1920197 1997-05-10      F            4          65.28      Diamond   \n",
       "12713  1920213 1997-06-07      F            4          73.97      Diamond   \n",
       "\n",
       "       bio      characters  height body_type  ... age account_created_day  \\\n",
       "12711  NaN  UC04|UC08|UC15   160.0      BF02  ...  21                  14   \n",
       "12712  NaN             NaN   168.0      BF02  ...  22                  14   \n",
       "12713  NaN             NaN   155.0      BF02  ...  22                  14   \n",
       "\n",
       "      account_created_weekday account_created_hour created_to_confirm_seconds  \\\n",
       "12711                       3                   14                      601.0   \n",
       "12712                       3                   14                      589.0   \n",
       "12713                       3                   14                      336.0   \n",
       "\n",
       "      confirm_to_complete_seconds reject_counts confirm_to_rating_seconds  \\\n",
       "12711                       802.0           NaN                     666.0   \n",
       "12712                       197.0           NaN                      78.0   \n",
       "12713                        95.0           NaN                      78.0   \n",
       "\n",
       "      created_to_last_activity_seconds created_to_last_activity_days  \n",
       "12711                            57489                             0  \n",
       "12712                            77105                             0  \n",
       "12713                            75150                             0  \n",
       "\n",
       "[3 rows x 49 columns]"
      ]
     },
     "execution_count": 476,
     "metadata": {},
     "output_type": "execute_result"
    }
   ],
   "source": [
    "active_profiles.tail(3)"
   ]
  },
  {
   "cell_type": "code",
   "execution_count": 482,
   "metadata": {},
   "outputs": [
    {
     "data": {
      "text/plain": [
       "Timestamp('2019-03-09 14:00:00')"
      ]
     },
     "execution_count": 482,
     "metadata": {},
     "output_type": "execute_result"
    }
   ],
   "source": [
    "pd.to_datetime('3/9/19 14:00')"
   ]
  },
  {
   "cell_type": "code",
   "execution_count": 486,
   "metadata": {},
   "outputs": [
    {
     "data": {
      "text/plain": [
       "3854"
      ]
     },
     "execution_count": 486,
     "metadata": {},
     "output_type": "execute_result"
    }
   ],
   "source": [
    "len(active_profiles)"
   ]
  },
  {
   "cell_type": "code",
   "execution_count": 485,
   "metadata": {},
   "outputs": [
    {
     "data": {
      "text/plain": [
       "9690     2019-03-09 14:02:05\n",
       "9691     2019-03-09 14:02:28\n",
       "9693     2019-03-09 14:04:36\n",
       "9699     2019-03-09 14:12:09\n",
       "9702     2019-03-09 14:16:39\n",
       "                ...         \n",
       "12709    2019-03-14 14:52:53\n",
       "12710    2019-03-14 14:53:43\n",
       "12711    2019-03-14 14:53:56\n",
       "12712    2019-03-14 14:54:28\n",
       "12713    2019-03-14 14:58:29\n",
       "Name: account_created_at, Length: 1593, dtype: object"
      ]
     },
     "execution_count": 485,
     "metadata": {},
     "output_type": "execute_result"
    }
   ],
   "source": [
    "date_mask = (pd.DatetimeIndex(active_profiles.account_created_at) > pd.to_datetime('3/9/19 14:00'))\n",
    "active_profiles.loc[date_mask,'account_created_at']"
   ]
  }
 ],
 "metadata": {
  "kernelspec": {
   "display_name": "Python 3",
   "language": "python",
   "name": "python3"
  },
  "language_info": {
   "codemirror_mode": {
    "name": "ipython",
    "version": 3
   },
   "file_extension": ".py",
   "mimetype": "text/x-python",
   "name": "python",
   "nbconvert_exporter": "python",
   "pygments_lexer": "ipython3",
   "version": "3.7.4"
  }
 },
 "nbformat": 4,
 "nbformat_minor": 2
}
