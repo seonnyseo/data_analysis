{
 "cells": [
  {
   "cell_type": "code",
   "execution_count": 51,
   "metadata": {},
   "outputs": [],
   "source": [
    "import pandas as pd\n",
    "import numpy as np\n",
    "from matplotlib import pyplot as plt\n",
    "import matplotlib.pyplot as plt\n",
    "plt.rcParams['figure.figsize'] = [12, 8]"
   ]
  },
  {
   "cell_type": "code",
   "execution_count": 278,
   "metadata": {},
   "outputs": [],
   "source": [
    "import plotly.graph_objects as go\n",
    "fig = go.Figure(data=go.Bar(y=[2, 3, 1]))\n",
    "fig.write_html('first_figure.html', auto_open=True)"
   ]
  },
  {
   "cell_type": "code",
   "execution_count": 52,
   "metadata": {},
   "outputs": [],
   "source": [
    "from collections import defaultdict"
   ]
  },
  {
   "cell_type": "code",
   "execution_count": 210,
   "metadata": {},
   "outputs": [],
   "source": [
    "df_train = pd.read_csv('../data/train_users.csv')"
   ]
  },
  {
   "cell_type": "code",
   "execution_count": 211,
   "metadata": {
    "scrolled": true
   },
   "outputs": [
    {
     "name": "stdout",
     "output_type": "stream",
     "text": [
      "<class 'pandas.core.frame.DataFrame'>\n",
      "RangeIndex: 213451 entries, 0 to 213450\n",
      "Data columns (total 16 columns):\n",
      "id                         213451 non-null object\n",
      "date_account_created       213451 non-null object\n",
      "timestamp_first_active     213451 non-null int64\n",
      "date_first_booking         88908 non-null object\n",
      "gender                     213451 non-null object\n",
      "age                        125461 non-null float64\n",
      "signup_method              213451 non-null object\n",
      "signup_flow                213451 non-null int64\n",
      "language                   213451 non-null object\n",
      "affiliate_channel          213451 non-null object\n",
      "affiliate_provider         213451 non-null object\n",
      "first_affiliate_tracked    207386 non-null object\n",
      "signup_app                 213451 non-null object\n",
      "first_device_type          213451 non-null object\n",
      "first_browser              213451 non-null object\n",
      "country_destination        213451 non-null object\n",
      "dtypes: float64(1), int64(2), object(13)\n",
      "memory usage: 26.1+ MB\n"
     ]
    }
   ],
   "source": [
    "df_train.info()"
   ]
  },
  {
   "cell_type": "code",
   "execution_count": 312,
   "metadata": {},
   "outputs": [],
   "source": [
    "df_test = pd.read_csv('../data/test_users.csv')"
   ]
  },
  {
   "cell_type": "code",
   "execution_count": 212,
   "metadata": {},
   "outputs": [
    {
     "data": {
      "text/plain": [
       "88908"
      ]
     },
     "execution_count": 212,
     "metadata": {},
     "output_type": "execute_result"
    }
   ],
   "source": [
    "len(df_train.date_first_booking.dropna())"
   ]
  },
  {
   "cell_type": "code",
   "execution_count": 213,
   "metadata": {},
   "outputs": [
    {
     "data": {
      "text/plain": [
       "88908"
      ]
     },
     "execution_count": 213,
     "metadata": {},
     "output_type": "execute_result"
    }
   ],
   "source": [
    "len(df_train.loc[df_train.country_destination != 'NDF'])"
   ]
  },
  {
   "cell_type": "code",
   "execution_count": 214,
   "metadata": {},
   "outputs": [],
   "source": [
    "#df_train = df_train.drop(columns = ['date_first_booking'], axis = 1)"
   ]
  },
  {
   "cell_type": "code",
   "execution_count": 215,
   "metadata": {},
   "outputs": [],
   "source": [
    "df_train['booked'] = df_train.date_first_booking.notnull()"
   ]
  },
  {
   "cell_type": "markdown",
   "metadata": {},
   "source": [
    "DatetimeIndex"
   ]
  },
  {
   "cell_type": "code",
   "execution_count": 216,
   "metadata": {},
   "outputs": [],
   "source": [
    "#df_train['date_account_created'] = pd.to_datetime(date_account_created, format='%Y-%m-%d', errors='ignore')\n",
    "df_train['account_created_year'] = pd.DatetimeIndex(df_train['date_account_created']).year\n",
    "df_train['account_created_month'] = pd.DatetimeIndex(df_train['date_account_created']).month\n",
    "df_train['account_created_day'] = pd.DatetimeIndex(df_train['date_account_created']).day\n",
    "#df_train = df_train.drop(['date_account_created'], axis = 1)"
   ]
  },
  {
   "cell_type": "code",
   "execution_count": 317,
   "metadata": {},
   "outputs": [],
   "source": [
    "#df_train['date_account_created'] = pd.to_datetime(date_account_created, format='%Y-%m-%d', errors='ignore')\n",
    "df_test['account_created_year'] = pd.DatetimeIndex(df_test['date_account_created']).year\n",
    "df_test['account_created_month'] = pd.DatetimeIndex(df_test['date_account_created']).month\n",
    "df_test['account_created_day'] = pd.DatetimeIndex(df_test['date_account_created']).day\n",
    "#df_train = df_train.drop(['date_account_created'], axis = 1)"
   ]
  },
  {
   "cell_type": "code",
   "execution_count": 294,
   "metadata": {},
   "outputs": [
    {
     "data": {
      "image/png": "[encoded data removed]",
      "text/plain": [
       "<Figure size 1152x288 with 1 Axes>"
      ]
     },
     "metadata": {
      "needs_background": "light"
     },
     "output_type": "display_data"
    }
   ],
   "source": [
    "y = df_train.groupby('account_created_year').size()\n",
    "x = y.index\n",
    "\n",
    "plt.figure(figsize=(16,4))\n",
    "plt.bar(x, y)\n",
    "plt.grid(alpha = 0.2)\n",
    "plt.show()"
   ]
  },
  {
   "cell_type": "code",
   "execution_count": 296,
   "metadata": {},
   "outputs": [
    {
     "data": {
      "application/vnd.plotly.v1+json": {
       "config": {
        "plotlyServerURL": "https://plot.ly"
       },
       "data": [
        {
         "alignmentgroup": "True",
         "hovertemplate": "account_created_year=%{x}<br>0=%{y}<extra></extra>",
         "legendgroup": "",
         "marker": {
          "color": "#636efa"
         },
         "name": "",
         "offsetgroup": "",
         "orientation": "v",
         "showlegend": false,
         "textposition": "auto",
         "type": "bar",
         "x": [
          2010,
          2011,
          2012,
          2013,
          2014
         ],
         "xaxis": "x",
         "y": [
          2788,
          11775,
          39462,
          82960,
          76466
         ],
         "yaxis": "y"
        }
       ],
       "layout": {
        "barmode": "relative",
        "legend": {
         "tracegroupgap": 0
        },
        "margin": {
         "t": 60
        },
        "template": {
         "data": {
          "bar": [
           {
            "error_x": {
             "color": "#2a3f5f"
            },
            "error_y": {
             "color": "#2a3f5f"
            },
            "marker": {
             "line": {
              "color": "#E5ECF6",
              "width": 0.5
             }
            },
            "type": "bar"
           }
          ],
          "barpolar": [
           {
            "marker": {
             "line": {
              "color": "#E5ECF6",
              "width": 0.5
             }
            },
            "type": "barpolar"
           }
          ],
          "carpet": [
           {
            "aaxis": {
             "endlinecolor": "#2a3f5f",
             "gridcolor": "white",
             "linecolor": "white",
             "minorgridcolor": "white",
             "startlinecolor": "#2a3f5f"
            },
            "baxis": {
             "endlinecolor": "#2a3f5f",
             "gridcolor": "white",
             "linecolor": "white",
             "minorgridcolor": "white",
             "startlinecolor": "#2a3f5f"
            },
            "type": "carpet"
           }
          ],
          "choropleth": [
           {
            "colorbar": {
             "outlinewidth": 0,
             "ticks": ""
            },
            "type": "choropleth"
           }
          ],
          "contour": [
           {
            "colorbar": {
             "outlinewidth": 0,
             "ticks": ""
            },
            "colorscale": [
             [
              0,
              "#0d0887"
             ],
             [
              0.1111111111111111,
              "#46039f"
             ],
             [
              0.2222222222222222,
              "#7201a8"
             ],
             [
              0.3333333333333333,
              "#9c179e"
             ],
             [
              0.4444444444444444,
              "#bd3786"
             ],
             [
              0.5555555555555556,
              "#d8576b"
             ],
             [
              0.6666666666666666,
              "#ed7953"
             ],
             [
              0.7777777777777778,
              "#fb9f3a"
             ],
             [
              0.8888888888888888,
              "#fdca26"
             ],
             [
              1,
              "#f0f921"
             ]
            ],
            "type": "contour"
           }
          ],
          "contourcarpet": [
           {
            "colorbar": {
             "outlinewidth": 0,
             "ticks": ""
            },
            "type": "contourcarpet"
           }
          ],
          "heatmap": [
           {
            "colorbar": {
             "outlinewidth": 0,
             "ticks": ""
            },
            "colorscale": [
             [
              0,
              "#0d0887"
             ],
             [
              0.1111111111111111,
              "#46039f"
             ],
             [
              0.2222222222222222,
              "#7201a8"
             ],
             [
              0.3333333333333333,
              "#9c179e"
             ],
             [
              0.4444444444444444,
              "#bd3786"
             ],
             [
              0.5555555555555556,
              "#d8576b"
             ],
             [
              0.6666666666666666,
              "#ed7953"
             ],
             [
              0.7777777777777778,
              "#fb9f3a"
             ],
             [
              0.8888888888888888,
              "#fdca26"
             ],
             [
              1,
              "#f0f921"
             ]
            ],
            "type": "heatmap"
           }
          ],
          "heatmapgl": [
           {
            "colorbar": {
             "outlinewidth": 0,
             "ticks": ""
            },
            "colorscale": [
             [
              0,
              "#0d0887"
             ],
             [
              0.1111111111111111,
              "#46039f"
             ],
             [
              0.2222222222222222,
              "#7201a8"
             ],
             [
              0.3333333333333333,
              "#9c179e"
             ],
             [
              0.4444444444444444,
              "#bd3786"
             ],
             [
              0.5555555555555556,
              "#d8576b"
             ],
             [
              0.6666666666666666,
              "#ed7953"
             ],
             [
              0.7777777777777778,
              "#fb9f3a"
             ],
             [
              0.8888888888888888,
              "#fdca26"
             ],
             [
              1,
              "#f0f921"
             ]
            ],
            "type": "heatmapgl"
           }
          ],
          "histogram": [
           {
            "marker": {
             "colorbar": {
              "outlinewidth": 0,
              "ticks": ""
             }
            },
            "type": "histogram"
           }
          ],
          "histogram2d": [
           {
            "colorbar": {
             "outlinewidth": 0,
             "ticks": ""
            },
            "colorscale": [
             [
              0,
              "#0d0887"
             ],
             [
              0.1111111111111111,
              "#46039f"
             ],
             [
              0.2222222222222222,
              "#7201a8"
             ],
             [
              0.3333333333333333,
              "#9c179e"
             ],
             [
              0.4444444444444444,
              "#bd3786"
             ],
             [
              0.5555555555555556,
              "#d8576b"
             ],
             [
              0.6666666666666666,
              "#ed7953"
             ],
             [
              0.7777777777777778,
              "#fb9f3a"
             ],
             [
              0.8888888888888888,
              "#fdca26"
             ],
             [
              1,
              "#f0f921"
             ]
            ],
            "type": "histogram2d"
           }
          ],
          "histogram2dcontour": [
           {
            "colorbar": {
             "outlinewidth": 0,
             "ticks": ""
            },
            "colorscale": [
             [
              0,
              "#0d0887"
             ],
             [
              0.1111111111111111,
              "#46039f"
             ],
             [
              0.2222222222222222,
              "#7201a8"
             ],
             [
              0.3333333333333333,
              "#9c179e"
             ],
             [
              0.4444444444444444,
              "#bd3786"
             ],
             [
              0.5555555555555556,
              "#d8576b"
             ],
             [
              0.6666666666666666,
              "#ed7953"
             ],
             [
              0.7777777777777778,
              "#fb9f3a"
             ],
             [
              0.8888888888888888,
              "#fdca26"
             ],
             [
              1,
              "#f0f921"
             ]
            ],
            "type": "histogram2dcontour"
           }
          ],
          "mesh3d": [
           {
            "colorbar": {
             "outlinewidth": 0,
             "ticks": ""
            },
            "type": "mesh3d"
           }
          ],
          "parcoords": [
           {
            "line": {
             "colorbar": {
              "outlinewidth": 0,
              "ticks": ""
             }
            },
            "type": "parcoords"
           }
          ],
          "pie": [
           {
            "automargin": true,
            "type": "pie"
           }
          ],
          "scatter": [
           {
            "marker": {
             "colorbar": {
              "outlinewidth": 0,
              "ticks": ""
             }
            },
            "type": "scatter"
           }
          ],
          "scatter3d": [
           {
            "line": {
             "colorbar": {
              "outlinewidth": 0,
              "ticks": ""
             }
            },
            "marker": {
             "colorbar": {
              "outlinewidth": 0,
              "ticks": ""
             }
            },
            "type": "scatter3d"
           }
          ],
          "scattercarpet": [
           {
            "marker": {
             "colorbar": {
              "outlinewidth": 0,
              "ticks": ""
             }
            },
            "type": "scattercarpet"
           }
          ],
          "scattergeo": [
           {
            "marker": {
             "colorbar": {
              "outlinewidth": 0,
              "ticks": ""
             }
            },
            "type": "scattergeo"
           }
          ],
          "scattergl": [
           {
            "marker": {
             "colorbar": {
              "outlinewidth": 0,
              "ticks": ""
             }
            },
            "type": "scattergl"
           }
          ],
          "scattermapbox": [
           {
            "marker": {
             "colorbar": {
              "outlinewidth": 0,
              "ticks": ""
             }
            },
            "type": "scattermapbox"
           }
          ],
          "scatterpolar": [
           {
            "marker": {
             "colorbar": {
              "outlinewidth": 0,
              "ticks": ""
             }
            },
            "type": "scatterpolar"
           }
          ],
          "scatterpolargl": [
           {
            "marker": {
             "colorbar": {
              "outlinewidth": 0,
              "ticks": ""
             }
            },
            "type": "scatterpolargl"
           }
          ],
          "scatterternary": [
           {
            "marker": {
             "colorbar": {
              "outlinewidth": 0,
              "ticks": ""
             }
            },
            "type": "scatterternary"
           }
          ],
          "surface": [
           {
            "colorbar": {
             "outlinewidth": 0,
             "ticks": ""
            },
            "colorscale": [
             [
              0,
              "#0d0887"
             ],
             [
              0.1111111111111111,
              "#46039f"
             ],
             [
              0.2222222222222222,
              "#7201a8"
             ],
             [
              0.3333333333333333,
              "#9c179e"
             ],
             [
              0.4444444444444444,
              "#bd3786"
             ],
             [
              0.5555555555555556,
              "#d8576b"
             ],
             [
              0.6666666666666666,
              "#ed7953"
             ],
             [
              0.7777777777777778,
              "#fb9f3a"
             ],
             [
              0.8888888888888888,
              "#fdca26"
             ],
             [
              1,
              "#f0f921"
             ]
            ],
            "type": "surface"
           }
          ],
          "table": [
           {
            "cells": {
             "fill": {
              "color": "#EBF0F8"
             },
             "line": {
              "color": "white"
             }
            },
            "header": {
             "fill": {
              "color": "#C8D4E3"
             },
             "line": {
              "color": "white"
             }
            },
            "type": "table"
           }
          ]
         },
         "layout": {
          "annotationdefaults": {
           "arrowcolor": "#2a3f5f",
           "arrowhead": 0,
           "arrowwidth": 1
          },
          "coloraxis": {
           "colorbar": {
            "outlinewidth": 0,
            "ticks": ""
           }
          },
          "colorscale": {
           "diverging": [
            [
             0,
             "#8e0152"
            ],
            [
             0.1,
             "#c51b7d"
            ],
            [
             0.2,
             "#de77ae"
            ],
            [
             0.3,
             "#f1b6da"
            ],
            [
             0.4,
             "#fde0ef"
            ],
            [
             0.5,
             "#f7f7f7"
            ],
            [
             0.6,
             "#e6f5d0"
            ],
            [
             0.7,
             "#b8e186"
            ],
            [
             0.8,
             "#7fbc41"
            ],
            [
             0.9,
             "#4d9221"
            ],
            [
             1,
             "#276419"
            ]
           ],
           "sequential": [
            [
             0,
             "#0d0887"
            ],
            [
             0.1111111111111111,
             "#46039f"
            ],
            [
             0.2222222222222222,
             "#7201a8"
            ],
            [
             0.3333333333333333,
             "#9c179e"
            ],
            [
             0.4444444444444444,
             "#bd3786"
            ],
            [
             0.5555555555555556,
             "#d8576b"
            ],
            [
             0.6666666666666666,
             "#ed7953"
            ],
            [
             0.7777777777777778,
             "#fb9f3a"
            ],
            [
             0.8888888888888888,
             "#fdca26"
            ],
            [
             1,
             "#f0f921"
            ]
           ],
           "sequentialminus": [
            [
             0,
             "#0d0887"
            ],
            [
             0.1111111111111111,
             "#46039f"
            ],
            [
             0.2222222222222222,
             "#7201a8"
            ],
            [
             0.3333333333333333,
             "#9c179e"
            ],
            [
             0.4444444444444444,
             "#bd3786"
            ],
            [
             0.5555555555555556,
             "#d8576b"
            ],
            [
             0.6666666666666666,
             "#ed7953"
            ],
            [
             0.7777777777777778,
             "#fb9f3a"
            ],
            [
             0.8888888888888888,
             "#fdca26"
            ],
            [
             1,
             "#f0f921"
            ]
           ]
          },
          "colorway": [
           "#636efa",
           "#EF553B",
           "#00cc96",
           "#ab63fa",
           "#FFA15A",
           "#19d3f3",
           "#FF6692",
           "#B6E880",
           "#FF97FF",
           "#FECB52"
          ],
          "font": {
           "color": "#2a3f5f"
          },
          "geo": {
           "bgcolor": "white",
           "lakecolor": "white",
           "landcolor": "#E5ECF6",
           "showlakes": true,
           "showland": true,
           "subunitcolor": "white"
          },
          "hoverlabel": {
           "align": "left"
          },
          "hovermode": "closest",
          "mapbox": {
           "style": "light"
          },
          "paper_bgcolor": "white",
          "plot_bgcolor": "#E5ECF6",
          "polar": {
           "angularaxis": {
            "gridcolor": "white",
            "linecolor": "white",
            "ticks": ""
           },
           "bgcolor": "#E5ECF6",
           "radialaxis": {
            "gridcolor": "white",
            "linecolor": "white",
            "ticks": ""
           }
          },
          "scene": {
           "xaxis": {
            "backgroundcolor": "#E5ECF6",
            "gridcolor": "white",
            "gridwidth": 2,
            "linecolor": "white",
            "showbackground": true,
            "ticks": "",
            "zerolinecolor": "white"
           },
           "yaxis": {
            "backgroundcolor": "#E5ECF6",
            "gridcolor": "white",
            "gridwidth": 2,
            "linecolor": "white",
            "showbackground": true,
            "ticks": "",
            "zerolinecolor": "white"
           },
           "zaxis": {
            "backgroundcolor": "#E5ECF6",
            "gridcolor": "white",
            "gridwidth": 2,
            "linecolor": "white",
            "showbackground": true,
            "ticks": "",
            "zerolinecolor": "white"
           }
          },
          "shapedefaults": {
           "line": {
            "color": "#2a3f5f"
           }
          },
          "ternary": {
           "aaxis": {
            "gridcolor": "white",
            "linecolor": "white",
            "ticks": ""
           },
           "baxis": {
            "gridcolor": "white",
            "linecolor": "white",
            "ticks": ""
           },
           "bgcolor": "#E5ECF6",
           "caxis": {
            "gridcolor": "white",
            "linecolor": "white",
            "ticks": ""
           }
          },
          "title": {
           "x": 0.05
          },
          "xaxis": {
           "automargin": true,
           "gridcolor": "white",
           "linecolor": "white",
           "ticks": "",
           "title": {
            "standoff": 15
           },
           "zerolinecolor": "white",
           "zerolinewidth": 2
          },
          "yaxis": {
           "automargin": true,
           "gridcolor": "white",
           "linecolor": "white",
           "ticks": "",
           "title": {
            "standoff": 15
           },
           "zerolinecolor": "white",
           "zerolinewidth": 2
          }
         }
        },
        "xaxis": {
         "anchor": "y",
         "domain": [
          0,
          1
         ],
         "title": {
          "text": "account_created_year"
         }
        },
        "yaxis": {
         "anchor": "x",
         "domain": [
          0,
          1
         ],
         "title": {
          "text": "0"
         }
        }
       }
      },
      "text/html": [
       "<div>\n",
       "        \n",
       "        \n",
       "            <div id=\"a6f5e0f8-0232-40c6-a332-e145f42b7dc3\" class=\"plotly-graph-div\" style=\"height:525px; width:100%;\"></div>\n",
       "            <script type=\"text/javascript\">\n",
       "                require([\"plotly\"], function(Plotly) {\n",
       "                    window.PLOTLYENV=window.PLOTLYENV || {};\n",
       "                    \n",
       "                if (document.getElementById(\"a6f5e0f8-0232-40c6-a332-e145f42b7dc3\")) {\n",
       "                    Plotly.newPlot(\n",
       "                        'a6f5e0f8-0232-40c6-a332-e145f42b7dc3',\n",
       "                        [{\"alignmentgroup\": \"True\", \"hovertemplate\": \"account_created_year=%{x}<br>0=%{y}<extra></extra>\", \"legendgroup\": \"\", \"marker\": {\"color\": \"#636efa\"}, \"name\": \"\", \"offsetgroup\": \"\", \"orientation\": \"v\", \"showlegend\": false, \"textposition\": \"auto\", \"type\": \"bar\", \"x\": [2010, 2011, 2012, 2013, 2014], \"xaxis\": \"x\", \"y\": [2788, 11775, 39462, 82960, 76466], \"yaxis\": \"y\"}],\n",
       "                        {\"barmode\": \"relative\", \"legend\": {\"tracegroupgap\": 0}, \"margin\": {\"t\": 60}, \"template\": {\"data\": {\"bar\": [{\"error_x\": {\"color\": \"#2a3f5f\"}, \"error_y\": {\"color\": \"#2a3f5f\"}, \"marker\": {\"line\": {\"color\": \"#E5ECF6\", \"width\": 0.5}}, \"type\": \"bar\"}], \"barpolar\": [{\"marker\": {\"line\": {\"color\": \"#E5ECF6\", \"width\": 0.5}}, \"type\": \"barpolar\"}], \"carpet\": [{\"aaxis\": {\"endlinecolor\": \"#2a3f5f\", \"gridcolor\": \"white\", \"linecolor\": \"white\", \"minorgridcolor\": \"white\", \"startlinecolor\": \"#2a3f5f\"}, \"baxis\": {\"endlinecolor\": \"#2a3f5f\", \"gridcolor\": \"white\", \"linecolor\": \"white\", \"minorgridcolor\": \"white\", \"startlinecolor\": \"#2a3f5f\"}, \"type\": \"carpet\"}], \"choropleth\": [{\"colorbar\": {\"outlinewidth\": 0, \"ticks\": \"\"}, \"type\": \"choropleth\"}], \"contour\": [{\"colorbar\": {\"outlinewidth\": 0, \"ticks\": \"\"}, \"colorscale\": [[0.0, \"#0d0887\"], [0.1111111111111111, \"#46039f\"], [0.2222222222222222, \"#7201a8\"], [0.3333333333333333, \"#9c179e\"], [0.4444444444444444, \"#bd3786\"], [0.5555555555555556, \"#d8576b\"], [0.6666666666666666, \"#ed7953\"], [0.7777777777777778, \"#fb9f3a\"], [0.8888888888888888, \"#fdca26\"], [1.0, \"#f0f921\"]], \"type\": \"contour\"}], \"contourcarpet\": [{\"colorbar\": {\"outlinewidth\": 0, \"ticks\": \"\"}, \"type\": \"contourcarpet\"}], \"heatmap\": [{\"colorbar\": {\"outlinewidth\": 0, \"ticks\": \"\"}, \"colorscale\": [[0.0, \"#0d0887\"], [0.1111111111111111, \"#46039f\"], [0.2222222222222222, \"#7201a8\"], [0.3333333333333333, \"#9c179e\"], [0.4444444444444444, \"#bd3786\"], [0.5555555555555556, \"#d8576b\"], [0.6666666666666666, \"#ed7953\"], [0.7777777777777778, \"#fb9f3a\"], [0.8888888888888888, \"#fdca26\"], [1.0, \"#f0f921\"]], \"type\": \"heatmap\"}], \"heatmapgl\": [{\"colorbar\": {\"outlinewidth\": 0, \"ticks\": \"\"}, \"colorscale\": [[0.0, \"#0d0887\"], [0.1111111111111111, \"#46039f\"], [0.2222222222222222, \"#7201a8\"], [0.3333333333333333, \"#9c179e\"], [0.4444444444444444, \"#bd3786\"], [0.5555555555555556, \"#d8576b\"], [0.6666666666666666, \"#ed7953\"], [0.7777777777777778, \"#fb9f3a\"], [0.8888888888888888, \"#fdca26\"], [1.0, \"#f0f921\"]], \"type\": \"heatmapgl\"}], \"histogram\": [{\"marker\": {\"colorbar\": {\"outlinewidth\": 0, \"ticks\": \"\"}}, \"type\": \"histogram\"}], \"histogram2d\": [{\"colorbar\": {\"outlinewidth\": 0, \"ticks\": \"\"}, \"colorscale\": [[0.0, \"#0d0887\"], [0.1111111111111111, \"#46039f\"], [0.2222222222222222, \"#7201a8\"], [0.3333333333333333, \"#9c179e\"], [0.4444444444444444, \"#bd3786\"], [0.5555555555555556, \"#d8576b\"], [0.6666666666666666, \"#ed7953\"], [0.7777777777777778, \"#fb9f3a\"], [0.8888888888888888, \"#fdca26\"], [1.0, \"#f0f921\"]], \"type\": \"histogram2d\"}], \"histogram2dcontour\": [{\"colorbar\": {\"outlinewidth\": 0, \"ticks\": \"\"}, \"colorscale\": [[0.0, \"#0d0887\"], [0.1111111111111111, \"#46039f\"], [0.2222222222222222, \"#7201a8\"], [0.3333333333333333, \"#9c179e\"], [0.4444444444444444, \"#bd3786\"], [0.5555555555555556, \"#d8576b\"], [0.6666666666666666, \"#ed7953\"], [0.7777777777777778, \"#fb9f3a\"], [0.8888888888888888, \"#fdca26\"], [1.0, \"#f0f921\"]], \"type\": \"histogram2dcontour\"}], \"mesh3d\": [{\"colorbar\": {\"outlinewidth\": 0, \"ticks\": \"\"}, \"type\": \"mesh3d\"}], \"parcoords\": [{\"line\": {\"colorbar\": {\"outlinewidth\": 0, \"ticks\": \"\"}}, \"type\": \"parcoords\"}], \"pie\": [{\"automargin\": true, \"type\": \"pie\"}], \"scatter\": [{\"marker\": {\"colorbar\": {\"outlinewidth\": 0, \"ticks\": \"\"}}, \"type\": \"scatter\"}], \"scatter3d\": [{\"line\": {\"colorbar\": {\"outlinewidth\": 0, \"ticks\": \"\"}}, \"marker\": {\"colorbar\": {\"outlinewidth\": 0, \"ticks\": \"\"}}, \"type\": \"scatter3d\"}], \"scattercarpet\": [{\"marker\": {\"colorbar\": {\"outlinewidth\": 0, \"ticks\": \"\"}}, \"type\": \"scattercarpet\"}], \"scattergeo\": [{\"marker\": {\"colorbar\": {\"outlinewidth\": 0, \"ticks\": \"\"}}, \"type\": \"scattergeo\"}], \"scattergl\": [{\"marker\": {\"colorbar\": {\"outlinewidth\": 0, \"ticks\": \"\"}}, \"type\": \"scattergl\"}], \"scattermapbox\": [{\"marker\": {\"colorbar\": {\"outlinewidth\": 0, \"ticks\": \"\"}}, \"type\": \"scattermapbox\"}], \"scatterpolar\": [{\"marker\": {\"colorbar\": {\"outlinewidth\": 0, \"ticks\": \"\"}}, \"type\": \"scatterpolar\"}], \"scatterpolargl\": [{\"marker\": {\"colorbar\": {\"outlinewidth\": 0, \"ticks\": \"\"}}, \"type\": \"scatterpolargl\"}], \"scatterternary\": [{\"marker\": {\"colorbar\": {\"outlinewidth\": 0, \"ticks\": \"\"}}, \"type\": \"scatterternary\"}], \"surface\": [{\"colorbar\": {\"outlinewidth\": 0, \"ticks\": \"\"}, \"colorscale\": [[0.0, \"#0d0887\"], [0.1111111111111111, \"#46039f\"], [0.2222222222222222, \"#7201a8\"], [0.3333333333333333, \"#9c179e\"], [0.4444444444444444, \"#bd3786\"], [0.5555555555555556, \"#d8576b\"], [0.6666666666666666, \"#ed7953\"], [0.7777777777777778, \"#fb9f3a\"], [0.8888888888888888, \"#fdca26\"], [1.0, \"#f0f921\"]], \"type\": \"surface\"}], \"table\": [{\"cells\": {\"fill\": {\"color\": \"#EBF0F8\"}, \"line\": {\"color\": \"white\"}}, \"header\": {\"fill\": {\"color\": \"#C8D4E3\"}, \"line\": {\"color\": \"white\"}}, \"type\": \"table\"}]}, \"layout\": {\"annotationdefaults\": {\"arrowcolor\": \"#2a3f5f\", \"arrowhead\": 0, \"arrowwidth\": 1}, \"coloraxis\": {\"colorbar\": {\"outlinewidth\": 0, \"ticks\": \"\"}}, \"colorscale\": {\"diverging\": [[0, \"#8e0152\"], [0.1, \"#c51b7d\"], [0.2, \"#de77ae\"], [0.3, \"#f1b6da\"], [0.4, \"#fde0ef\"], [0.5, \"#f7f7f7\"], [0.6, \"#e6f5d0\"], [0.7, \"#b8e186\"], [0.8, \"#7fbc41\"], [0.9, \"#4d9221\"], [1, \"#276419\"]], \"sequential\": [[0.0, \"#0d0887\"], [0.1111111111111111, \"#46039f\"], [0.2222222222222222, \"#7201a8\"], [0.3333333333333333, \"#9c179e\"], [0.4444444444444444, \"#bd3786\"], [0.5555555555555556, \"#d8576b\"], [0.6666666666666666, \"#ed7953\"], [0.7777777777777778, \"#fb9f3a\"], [0.8888888888888888, \"#fdca26\"], [1.0, \"#f0f921\"]], \"sequentialminus\": [[0.0, \"#0d0887\"], [0.1111111111111111, \"#46039f\"], [0.2222222222222222, \"#7201a8\"], [0.3333333333333333, \"#9c179e\"], [0.4444444444444444, \"#bd3786\"], [0.5555555555555556, \"#d8576b\"], [0.6666666666666666, \"#ed7953\"], [0.7777777777777778, \"#fb9f3a\"], [0.8888888888888888, \"#fdca26\"], [1.0, \"#f0f921\"]]}, \"colorway\": [\"#636efa\", \"#EF553B\", \"#00cc96\", \"#ab63fa\", \"#FFA15A\", \"#19d3f3\", \"#FF6692\", \"#B6E880\", \"#FF97FF\", \"#FECB52\"], \"font\": {\"color\": \"#2a3f5f\"}, \"geo\": {\"bgcolor\": \"white\", \"lakecolor\": \"white\", \"landcolor\": \"#E5ECF6\", \"showlakes\": true, \"showland\": true, \"subunitcolor\": \"white\"}, \"hoverlabel\": {\"align\": \"left\"}, \"hovermode\": \"closest\", \"mapbox\": {\"style\": \"light\"}, \"paper_bgcolor\": \"white\", \"plot_bgcolor\": \"#E5ECF6\", \"polar\": {\"angularaxis\": {\"gridcolor\": \"white\", \"linecolor\": \"white\", \"ticks\": \"\"}, \"bgcolor\": \"#E5ECF6\", \"radialaxis\": {\"gridcolor\": \"white\", \"linecolor\": \"white\", \"ticks\": \"\"}}, \"scene\": {\"xaxis\": {\"backgroundcolor\": \"#E5ECF6\", \"gridcolor\": \"white\", \"gridwidth\": 2, \"linecolor\": \"white\", \"showbackground\": true, \"ticks\": \"\", \"zerolinecolor\": \"white\"}, \"yaxis\": {\"backgroundcolor\": \"#E5ECF6\", \"gridcolor\": \"white\", \"gridwidth\": 2, \"linecolor\": \"white\", \"showbackground\": true, \"ticks\": \"\", \"zerolinecolor\": \"white\"}, \"zaxis\": {\"backgroundcolor\": \"#E5ECF6\", \"gridcolor\": \"white\", \"gridwidth\": 2, \"linecolor\": \"white\", \"showbackground\": true, \"ticks\": \"\", \"zerolinecolor\": \"white\"}}, \"shapedefaults\": {\"line\": {\"color\": \"#2a3f5f\"}}, \"ternary\": {\"aaxis\": {\"gridcolor\": \"white\", \"linecolor\": \"white\", \"ticks\": \"\"}, \"baxis\": {\"gridcolor\": \"white\", \"linecolor\": \"white\", \"ticks\": \"\"}, \"bgcolor\": \"#E5ECF6\", \"caxis\": {\"gridcolor\": \"white\", \"linecolor\": \"white\", \"ticks\": \"\"}}, \"title\": {\"x\": 0.05}, \"xaxis\": {\"automargin\": true, \"gridcolor\": \"white\", \"linecolor\": \"white\", \"ticks\": \"\", \"title\": {\"standoff\": 15}, \"zerolinecolor\": \"white\", \"zerolinewidth\": 2}, \"yaxis\": {\"automargin\": true, \"gridcolor\": \"white\", \"linecolor\": \"white\", \"ticks\": \"\", \"title\": {\"standoff\": 15}, \"zerolinecolor\": \"white\", \"zerolinewidth\": 2}}}, \"xaxis\": {\"anchor\": \"y\", \"domain\": [0.0, 1.0], \"title\": {\"text\": \"account_created_year\"}}, \"yaxis\": {\"anchor\": \"x\", \"domain\": [0.0, 1.0], \"title\": {\"text\": \"0\"}}},\n",
       "                        {\"responsive\": true}\n",
       "                    ).then(function(){\n",
       "                            \n",
       "var gd = document.getElementById('a6f5e0f8-0232-40c6-a332-e145f42b7dc3');\n",
       "var x = new MutationObserver(function (mutations, observer) {{\n",
       "        var display = window.getComputedStyle(gd).display;\n",
       "        if (!display || display === 'none') {{\n",
       "            console.log([gd, 'removed!']);\n",
       "            Plotly.purge(gd);\n",
       "            observer.disconnect();\n",
       "        }}\n",
       "}});\n",
       "\n",
       "// Listen for the removal of the full notebook cells\n",
       "var notebookContainer = gd.closest('#notebook-container');\n",
       "if (notebookContainer) {{\n",
       "    x.observe(notebookContainer, {childList: true});\n",
       "}}\n",
       "\n",
       "// Listen for the clearing of the current output cell\n",
       "var outputEl = gd.closest('.output');\n",
       "if (outputEl) {{\n",
       "    x.observe(outputEl, {childList: true});\n",
       "}}\n",
       "\n",
       "                        })\n",
       "                };\n",
       "                });\n",
       "            </script>\n",
       "        </div>"
      ]
     },
     "metadata": {},
     "output_type": "display_data"
    }
   ],
   "source": [
    "import plotly.express as px\n",
    "year_data = px.data.gapminder().query(\"country == 'year'\")\n",
    "fig = px.bar(pd.DataFrame(df_train.groupby('account_created_year').size()).reset_index(), x = 'account_created_year', y = 0)\n",
    "fig.show()"
   ]
  },
  {
   "cell_type": "markdown",
   "metadata": {},
   "source": [
    "df.groupby().size()"
   ]
  },
  {
   "cell_type": "code",
   "execution_count": 218,
   "metadata": {},
   "outputs": [],
   "source": [
    "year_month = df_train.groupby(['account_created_year', 'account_created_month']).size()"
   ]
  },
  {
   "cell_type": "code",
   "execution_count": 219,
   "metadata": {},
   "outputs": [],
   "source": [
    "from collections import defaultdict"
   ]
  },
  {
   "cell_type": "markdown",
   "metadata": {},
   "source": [
    "defaultdict(lambda :) -> lambda 작성하는 법"
   ]
  },
  {
   "cell_type": "code",
   "execution_count": 220,
   "metadata": {},
   "outputs": [],
   "source": [
    "account_year_month = defaultdict(lambda: [-1 for x in range(13)])\n",
    "for idx, val in zip(year_month.index, year_month):\n",
    "    year = idx[0]\n",
    "    month = idx[1]\n",
    "    account_year_month[year][month] = val"
   ]
  },
  {
   "cell_type": "code",
   "execution_count": 221,
   "metadata": {},
   "outputs": [
    {
     "data": {
      "image/png": "[encoded data removed]",
      "text/plain": [
       "<Figure size 864x576 with 5 Axes>"
      ]
     },
     "metadata": {
      "needs_background": "light"
     },
     "output_type": "display_data"
    }
   ],
   "source": [
    "fig, axes = plt.subplots(len(account_year_month.keys()), 1)\n",
    "\n",
    "for year, ax in zip(account_year_month.keys(), axes):\n",
    "    \n",
    "    vals = account_year_month[year]\n",
    "    start = next(x for x, val in enumerate(vals) if val != -1)\n",
    "    end = next(x for x, val in enumerate(vals[::-1]) if val != -1)\n",
    "    \n",
    "    start = start if start != 0 else 1\n",
    "    end = end if end != 0 else 13\n",
    "\n",
    "    ax.plot([m for m in range(len(vals))], vals)\n",
    "    ax.set_title(year, loc = 'left')"
   ]
  },
  {
   "cell_type": "code",
   "execution_count": 222,
   "metadata": {},
   "outputs": [],
   "source": [
    "def draw_line_plot(data):\n",
    "    \n",
    "    for year in data.keys():\n",
    "        start = next(x for x, val in enumerate(data[year]) if val != -1)\n",
    "        end = next(x for x, val in enumerate(data[year][::-1]) if val != -1)\n",
    "\n",
    "        start = start if start != 0 else 1\n",
    "        end = end if end != 0 else 13\n",
    "        \n",
    "        plt.plot([x for x in range(start, end)], data[year][start:end], label = year)\n",
    "    \n",
    "    plt.xticks([x for x in range(start, end)])"
   ]
  },
  {
   "cell_type": "code",
   "execution_count": 223,
   "metadata": {
    "scrolled": false
   },
   "outputs": [
    {
     "data": {
      "image/png": "[encoded data removed]",
      "text/plain": [
       "<Figure size 864x576 with 1 Axes>"
      ]
     },
     "metadata": {
      "needs_background": "light"
     },
     "output_type": "display_data"
    }
   ],
   "source": [
    "draw_line_plot(account_year_month)"
   ]
  },
  {
   "cell_type": "code",
   "execution_count": 224,
   "metadata": {},
   "outputs": [],
   "source": [
    "activation = pd.DataFrame(df_train.groupby(['account_created_year', 'account_created_month']).size())\n",
    "activation = activation.rename(columns = {0:'number_of_users'})"
   ]
  },
  {
   "cell_type": "code",
   "execution_count": 225,
   "metadata": {
    "scrolled": true
   },
   "outputs": [
    {
     "data": {
      "image/png": "[encoded data removed]",
      "text/plain": [
       "<Figure size 1152x360 with 1 Axes>"
      ]
     },
     "metadata": {
      "needs_background": "light"
     },
     "output_type": "display_data"
    }
   ],
   "source": [
    "plt.figure(figsize=(16, 5))  \n",
    "x = ['{}-{:02}'.format(y, m) for (y, m) in activation.index]\n",
    "y = activation['number_of_users']\n",
    "plt.bar(x, y)\n",
    "plt.xticks(rotation = 90)\n",
    "plt.grid(alpha = 0.5)\n",
    "plt.show()"
   ]
  },
  {
   "cell_type": "code",
   "execution_count": 18,
   "metadata": {
    "scrolled": true
   },
   "outputs": [
    {
     "data": {
      "text/plain": [
       "array(['direct', 'seo', 'other', 'sem-non-brand', 'content', 'sem-brand',\n",
       "       'remarketing', 'api'], dtype=object)"
      ]
     },
     "execution_count": 18,
     "metadata": {},
     "output_type": "execute_result"
    }
   ],
   "source": [
    "df_train.affiliate_channel.unique()"
   ]
  },
  {
   "cell_type": "code",
   "execution_count": 19,
   "metadata": {},
   "outputs": [],
   "source": [
    "affi_channel_month = df_train.groupby(['account_created_year', 'account_created_month','affiliate_channel']).size().unstack()\n",
    "affi_channel_month = affi_channel_month.fillna(0)"
   ]
  },
  {
   "cell_type": "code",
   "execution_count": 20,
   "metadata": {},
   "outputs": [],
   "source": [
    "month_range = ['{}-{:02}'.format(y, m) for (y, m) in affi_channel_month.index]"
   ]
  },
  {
   "cell_type": "code",
   "execution_count": 21,
   "metadata": {},
   "outputs": [],
   "source": [
    "channel_count = defaultdict(list)\n",
    "for channel in affi_channel_month.columns:\n",
    "    for m in range(len(affi_channel_month[channel])):\n",
    "        count = affi_channel_month[channel][m]\n",
    "        channel_count[channel].append(count) "
   ]
  },
  {
   "cell_type": "code",
   "execution_count": 62,
   "metadata": {},
   "outputs": [
    {
     "data": {
      "image/png": "[encoded data removed]",
      "text/plain": [
       "<Figure size 1152x576 with 1 Axes>"
      ]
     },
     "metadata": {
      "needs_background": "light"
     },
     "output_type": "display_data"
    }
   ],
   "source": [
    "plt.figure(figsize=(16,8))\n",
    "for channel in channel_count.keys():\n",
    "    plt.plot(month_range, channel_count[channel], label = channel)\n",
    "plt.xticks(rotation = 90)\n",
    "plt.legend(framealpha=1, frameon=True);\n",
    "plt.grid(alpha=0.5)\n",
    "plt.show()"
   ]
  },
  {
   "cell_type": "code",
   "execution_count": 23,
   "metadata": {},
   "outputs": [],
   "source": [
    "count_by_month = pd.DataFrame.from_dict(channel_count, orient = 'index', columns = x)"
   ]
  },
  {
   "cell_type": "code",
   "execution_count": 24,
   "metadata": {},
   "outputs": [],
   "source": [
    "add = pd.DataFrame([])\n",
    "for idx in range(1, len(x)):\n",
    "    previous = month_range[idx - 1]\n",
    "    current = month_range[idx]\n",
    "    add = pd.concat([add, pd.DataFrame(count_by_month[current] / count_by_month[previous], columns = [current])], axis = 1)"
   ]
  },
  {
   "cell_type": "code",
   "execution_count": 25,
   "metadata": {},
   "outputs": [],
   "source": [
    "def color_negative_red(value):\n",
    "    \"\"\"\n",
    "    Colors elements in a dateframe\n",
    "    green if positive and red if\n",
    "    negative. Does not color NaN\n",
    "    values.\n",
    "    \"\"\"\n",
    "    \n",
    "    if value == 0:\n",
    "        color = 'black'\n",
    "    elif value >= 1:\n",
    "        color = 'red'\n",
    "    else:\n",
    "        color = 'blue'\n",
    "    return 'color: %s'%color"
   ]
  },
  {
   "cell_type": "code",
   "execution_count": 26,
   "metadata": {},
   "outputs": [
    {
     "data": {
      "text/html": [
       "<style  type=\"text/css\" >\n",
       "    #T_331c138a_8cea_11ea_b2a2_acde48001122row0_col0 {\n",
       "            color:  black;\n",
       "        }    #T_331c138a_8cea_11ea_b2a2_acde48001122row0_col1 {\n",
       "            color:  black;\n",
       "        }    #T_331c138a_8cea_11ea_b2a2_acde48001122row0_col2 {\n",
       "            color:  black;\n",
       "        }    #T_331c138a_8cea_11ea_b2a2_acde48001122row0_col3 {\n",
       "            color:  black;\n",
       "        }    #T_331c138a_8cea_11ea_b2a2_acde48001122row0_col4 {\n",
       "            color:  black;\n",
       "        }    #T_331c138a_8cea_11ea_b2a2_acde48001122row0_col5 {\n",
       "            color:  black;\n",
       "        }    #T_331c138a_8cea_11ea_b2a2_acde48001122row0_col6 {\n",
       "            color:  black;\n",
       "        }    #T_331c138a_8cea_11ea_b2a2_acde48001122row0_col7 {\n",
       "            color:  black;\n",
       "        }    #T_331c138a_8cea_11ea_b2a2_acde48001122row0_col8 {\n",
       "            color:  black;\n",
       "        }    #T_331c138a_8cea_11ea_b2a2_acde48001122row0_col9 {\n",
       "            color:  black;\n",
       "        }    #T_331c138a_8cea_11ea_b2a2_acde48001122row0_col10 {\n",
       "            color:  black;\n",
       "        }    #T_331c138a_8cea_11ea_b2a2_acde48001122row0_col11 {\n",
       "            color:  black;\n",
       "        }    #T_331c138a_8cea_11ea_b2a2_acde48001122row0_col12 {\n",
       "            color:  black;\n",
       "        }    #T_331c138a_8cea_11ea_b2a2_acde48001122row0_col13 {\n",
       "            color:  black;\n",
       "        }    #T_331c138a_8cea_11ea_b2a2_acde48001122row0_col14 {\n",
       "            color:  black;\n",
       "        }    #T_331c138a_8cea_11ea_b2a2_acde48001122row0_col15 {\n",
       "            color:  black;\n",
       "        }    #T_331c138a_8cea_11ea_b2a2_acde48001122row0_col16 {\n",
       "            color:  black;\n",
       "        }    #T_331c138a_8cea_11ea_b2a2_acde48001122row0_col17 {\n",
       "            color:  black;\n",
       "        }    #T_331c138a_8cea_11ea_b2a2_acde48001122row0_col18 {\n",
       "            color:  black;\n",
       "        }    #T_331c138a_8cea_11ea_b2a2_acde48001122row0_col19 {\n",
       "            color:  black;\n",
       "        }    #T_331c138a_8cea_11ea_b2a2_acde48001122row0_col20 {\n",
       "            color:  black;\n",
       "        }    #T_331c138a_8cea_11ea_b2a2_acde48001122row0_col21 {\n",
       "            color:  black;\n",
       "        }    #T_331c138a_8cea_11ea_b2a2_acde48001122row0_col22 {\n",
       "            color:  black;\n",
       "        }    #T_331c138a_8cea_11ea_b2a2_acde48001122row0_col23 {\n",
       "            color:  red;\n",
       "        }    #T_331c138a_8cea_11ea_b2a2_acde48001122row0_col24 {\n",
       "            color:  blue;\n",
       "        }    #T_331c138a_8cea_11ea_b2a2_acde48001122row0_col25 {\n",
       "            color:  red;\n",
       "        }    #T_331c138a_8cea_11ea_b2a2_acde48001122row0_col26 {\n",
       "            color:  blue;\n",
       "        }    #T_331c138a_8cea_11ea_b2a2_acde48001122row0_col27 {\n",
       "            color:  red;\n",
       "        }    #T_331c138a_8cea_11ea_b2a2_acde48001122row0_col28 {\n",
       "            color:  red;\n",
       "        }    #T_331c138a_8cea_11ea_b2a2_acde48001122row0_col29 {\n",
       "            color:  red;\n",
       "        }    #T_331c138a_8cea_11ea_b2a2_acde48001122row0_col30 {\n",
       "            color:  red;\n",
       "        }    #T_331c138a_8cea_11ea_b2a2_acde48001122row0_col31 {\n",
       "            color:  blue;\n",
       "        }    #T_331c138a_8cea_11ea_b2a2_acde48001122row0_col32 {\n",
       "            color:  red;\n",
       "        }    #T_331c138a_8cea_11ea_b2a2_acde48001122row0_col33 {\n",
       "            color:  red;\n",
       "        }    #T_331c138a_8cea_11ea_b2a2_acde48001122row0_col34 {\n",
       "            color:  red;\n",
       "        }    #T_331c138a_8cea_11ea_b2a2_acde48001122row0_col35 {\n",
       "            color:  blue;\n",
       "        }    #T_331c138a_8cea_11ea_b2a2_acde48001122row0_col36 {\n",
       "            color:  blue;\n",
       "        }    #T_331c138a_8cea_11ea_b2a2_acde48001122row0_col37 {\n",
       "            color:  red;\n",
       "        }    #T_331c138a_8cea_11ea_b2a2_acde48001122row0_col38 {\n",
       "            color:  blue;\n",
       "        }    #T_331c138a_8cea_11ea_b2a2_acde48001122row0_col39 {\n",
       "            color:  red;\n",
       "        }    #T_331c138a_8cea_11ea_b2a2_acde48001122row0_col40 {\n",
       "            color:  red;\n",
       "        }    #T_331c138a_8cea_11ea_b2a2_acde48001122row0_col41 {\n",
       "            color:  red;\n",
       "        }    #T_331c138a_8cea_11ea_b2a2_acde48001122row0_col42 {\n",
       "            color:  red;\n",
       "        }    #T_331c138a_8cea_11ea_b2a2_acde48001122row0_col43 {\n",
       "            color:  red;\n",
       "        }    #T_331c138a_8cea_11ea_b2a2_acde48001122row0_col44 {\n",
       "            color:  blue;\n",
       "        }    #T_331c138a_8cea_11ea_b2a2_acde48001122row0_col45 {\n",
       "            color:  red;\n",
       "        }    #T_331c138a_8cea_11ea_b2a2_acde48001122row0_col46 {\n",
       "            color:  red;\n",
       "        }    #T_331c138a_8cea_11ea_b2a2_acde48001122row0_col47 {\n",
       "            color:  red;\n",
       "        }    #T_331c138a_8cea_11ea_b2a2_acde48001122row0_col48 {\n",
       "            color:  blue;\n",
       "        }    #T_331c138a_8cea_11ea_b2a2_acde48001122row0_col49 {\n",
       "            color:  red;\n",
       "        }    #T_331c138a_8cea_11ea_b2a2_acde48001122row0_col50 {\n",
       "            color:  blue;\n",
       "        }    #T_331c138a_8cea_11ea_b2a2_acde48001122row0_col51 {\n",
       "            color:  black;\n",
       "        }    #T_331c138a_8cea_11ea_b2a2_acde48001122row0_col52 {\n",
       "            color:  black;\n",
       "        }    #T_331c138a_8cea_11ea_b2a2_acde48001122row1_col0 {\n",
       "            color:  black;\n",
       "        }    #T_331c138a_8cea_11ea_b2a2_acde48001122row1_col1 {\n",
       "            color:  red;\n",
       "        }    #T_331c138a_8cea_11ea_b2a2_acde48001122row1_col2 {\n",
       "            color:  red;\n",
       "        }    #T_331c138a_8cea_11ea_b2a2_acde48001122row1_col3 {\n",
       "            color:  blue;\n",
       "        }    #T_331c138a_8cea_11ea_b2a2_acde48001122row1_col4 {\n",
       "            color:  blue;\n",
       "        }    #T_331c138a_8cea_11ea_b2a2_acde48001122row1_col5 {\n",
       "            color:  red;\n",
       "        }    #T_331c138a_8cea_11ea_b2a2_acde48001122row1_col6 {\n",
       "            color:  red;\n",
       "        }    #T_331c138a_8cea_11ea_b2a2_acde48001122row1_col7 {\n",
       "            color:  blue;\n",
       "        }    #T_331c138a_8cea_11ea_b2a2_acde48001122row1_col8 {\n",
       "            color:  red;\n",
       "        }    #T_331c138a_8cea_11ea_b2a2_acde48001122row1_col9 {\n",
       "            color:  blue;\n",
       "        }    #T_331c138a_8cea_11ea_b2a2_acde48001122row1_col10 {\n",
       "            color:  blue;\n",
       "        }    #T_331c138a_8cea_11ea_b2a2_acde48001122row1_col11 {\n",
       "            color:  red;\n",
       "        }    #T_331c138a_8cea_11ea_b2a2_acde48001122row1_col12 {\n",
       "            color:  blue;\n",
       "        }    #T_331c138a_8cea_11ea_b2a2_acde48001122row1_col13 {\n",
       "            color:  blue;\n",
       "        }    #T_331c138a_8cea_11ea_b2a2_acde48001122row1_col14 {\n",
       "            color:  blue;\n",
       "        }    #T_331c138a_8cea_11ea_b2a2_acde48001122row1_col15 {\n",
       "            color:  red;\n",
       "        }    #T_331c138a_8cea_11ea_b2a2_acde48001122row1_col16 {\n",
       "            color:  red;\n",
       "        }    #T_331c138a_8cea_11ea_b2a2_acde48001122row1_col17 {\n",
       "            color:  red;\n",
       "        }    #T_331c138a_8cea_11ea_b2a2_acde48001122row1_col18 {\n",
       "            color:  red;\n",
       "        }    #T_331c138a_8cea_11ea_b2a2_acde48001122row1_col19 {\n",
       "            color:  red;\n",
       "        }    #T_331c138a_8cea_11ea_b2a2_acde48001122row1_col20 {\n",
       "            color:  blue;\n",
       "        }    #T_331c138a_8cea_11ea_b2a2_acde48001122row1_col21 {\n",
       "            color:  blue;\n",
       "        }    #T_331c138a_8cea_11ea_b2a2_acde48001122row1_col22 {\n",
       "            color:  blue;\n",
       "        }    #T_331c138a_8cea_11ea_b2a2_acde48001122row1_col23 {\n",
       "            color:  blue;\n",
       "        }    #T_331c138a_8cea_11ea_b2a2_acde48001122row1_col24 {\n",
       "            color:  red;\n",
       "        }    #T_331c138a_8cea_11ea_b2a2_acde48001122row1_col25 {\n",
       "            color:  red;\n",
       "        }    #T_331c138a_8cea_11ea_b2a2_acde48001122row1_col26 {\n",
       "            color:  blue;\n",
       "        }    #T_331c138a_8cea_11ea_b2a2_acde48001122row1_col27 {\n",
       "            color:  red;\n",
       "        }    #T_331c138a_8cea_11ea_b2a2_acde48001122row1_col28 {\n",
       "            color:  red;\n",
       "        }    #T_331c138a_8cea_11ea_b2a2_acde48001122row1_col29 {\n",
       "            color:  red;\n",
       "        }    #T_331c138a_8cea_11ea_b2a2_acde48001122row1_col30 {\n",
       "            color:  blue;\n",
       "        }    #T_331c138a_8cea_11ea_b2a2_acde48001122row1_col31 {\n",
       "            color:  red;\n",
       "        }    #T_331c138a_8cea_11ea_b2a2_acde48001122row1_col32 {\n",
       "            color:  blue;\n",
       "        }    #T_331c138a_8cea_11ea_b2a2_acde48001122row1_col33 {\n",
       "            color:  red;\n",
       "        }    #T_331c138a_8cea_11ea_b2a2_acde48001122row1_col34 {\n",
       "            color:  red;\n",
       "        }    #T_331c138a_8cea_11ea_b2a2_acde48001122row1_col35 {\n",
       "            color:  blue;\n",
       "        }    #T_331c138a_8cea_11ea_b2a2_acde48001122row1_col36 {\n",
       "            color:  blue;\n",
       "        }    #T_331c138a_8cea_11ea_b2a2_acde48001122row1_col37 {\n",
       "            color:  red;\n",
       "        }    #T_331c138a_8cea_11ea_b2a2_acde48001122row1_col38 {\n",
       "            color:  red;\n",
       "        }    #T_331c138a_8cea_11ea_b2a2_acde48001122row1_col39 {\n",
       "            color:  red;\n",
       "        }    #T_331c138a_8cea_11ea_b2a2_acde48001122row1_col40 {\n",
       "            color:  blue;\n",
       "        }    #T_331c138a_8cea_11ea_b2a2_acde48001122row1_col41 {\n",
       "            color:  red;\n",
       "        }    #T_331c138a_8cea_11ea_b2a2_acde48001122row1_col42 {\n",
       "            color:  red;\n",
       "        }    #T_331c138a_8cea_11ea_b2a2_acde48001122row1_col43 {\n",
       "            color:  red;\n",
       "        }    #T_331c138a_8cea_11ea_b2a2_acde48001122row1_col44 {\n",
       "            color:  red;\n",
       "        }    #T_331c138a_8cea_11ea_b2a2_acde48001122row1_col45 {\n",
       "            color:  blue;\n",
       "        }    #T_331c138a_8cea_11ea_b2a2_acde48001122row1_col46 {\n",
       "            color:  blue;\n",
       "        }    #T_331c138a_8cea_11ea_b2a2_acde48001122row1_col47 {\n",
       "            color:  red;\n",
       "        }    #T_331c138a_8cea_11ea_b2a2_acde48001122row1_col48 {\n",
       "            color:  blue;\n",
       "        }    #T_331c138a_8cea_11ea_b2a2_acde48001122row1_col49 {\n",
       "            color:  blue;\n",
       "        }    #T_331c138a_8cea_11ea_b2a2_acde48001122row1_col50 {\n",
       "            color:  blue;\n",
       "        }    #T_331c138a_8cea_11ea_b2a2_acde48001122row1_col51 {\n",
       "            color:  blue;\n",
       "        }    #T_331c138a_8cea_11ea_b2a2_acde48001122row1_col52 {\n",
       "            color:  blue;\n",
       "        }    #T_331c138a_8cea_11ea_b2a2_acde48001122row2_col0 {\n",
       "            color:  red;\n",
       "        }    #T_331c138a_8cea_11ea_b2a2_acde48001122row2_col1 {\n",
       "            color:  red;\n",
       "        }    #T_331c138a_8cea_11ea_b2a2_acde48001122row2_col2 {\n",
       "            color:  red;\n",
       "        }    #T_331c138a_8cea_11ea_b2a2_acde48001122row2_col3 {\n",
       "            color:  red;\n",
       "        }    #T_331c138a_8cea_11ea_b2a2_acde48001122row2_col4 {\n",
       "            color:  red;\n",
       "        }    #T_331c138a_8cea_11ea_b2a2_acde48001122row2_col5 {\n",
       "            color:  red;\n",
       "        }    #T_331c138a_8cea_11ea_b2a2_acde48001122row2_col6 {\n",
       "            color:  blue;\n",
       "        }    #T_331c138a_8cea_11ea_b2a2_acde48001122row2_col7 {\n",
       "            color:  red;\n",
       "        }    #T_331c138a_8cea_11ea_b2a2_acde48001122row2_col8 {\n",
       "            color:  blue;\n",
       "        }    #T_331c138a_8cea_11ea_b2a2_acde48001122row2_col9 {\n",
       "            color:  red;\n",
       "        }    #T_331c138a_8cea_11ea_b2a2_acde48001122row2_col10 {\n",
       "            color:  blue;\n",
       "        }    #T_331c138a_8cea_11ea_b2a2_acde48001122row2_col11 {\n",
       "            color:  red;\n",
       "        }    #T_331c138a_8cea_11ea_b2a2_acde48001122row2_col12 {\n",
       "            color:  blue;\n",
       "        }    #T_331c138a_8cea_11ea_b2a2_acde48001122row2_col13 {\n",
       "            color:  red;\n",
       "        }    #T_331c138a_8cea_11ea_b2a2_acde48001122row2_col14 {\n",
       "            color:  red;\n",
       "        }    #T_331c138a_8cea_11ea_b2a2_acde48001122row2_col15 {\n",
       "            color:  red;\n",
       "        }    #T_331c138a_8cea_11ea_b2a2_acde48001122row2_col16 {\n",
       "            color:  red;\n",
       "        }    #T_331c138a_8cea_11ea_b2a2_acde48001122row2_col17 {\n",
       "            color:  red;\n",
       "        }    #T_331c138a_8cea_11ea_b2a2_acde48001122row2_col18 {\n",
       "            color:  red;\n",
       "        }    #T_331c138a_8cea_11ea_b2a2_acde48001122row2_col19 {\n",
       "            color:  red;\n",
       "        }    #T_331c138a_8cea_11ea_b2a2_acde48001122row2_col20 {\n",
       "            color:  blue;\n",
       "        }    #T_331c138a_8cea_11ea_b2a2_acde48001122row2_col21 {\n",
       "            color:  red;\n",
       "        }    #T_331c138a_8cea_11ea_b2a2_acde48001122row2_col22 {\n",
       "            color:  blue;\n",
       "        }    #T_331c138a_8cea_11ea_b2a2_acde48001122row2_col23 {\n",
       "            color:  red;\n",
       "        }    #T_331c138a_8cea_11ea_b2a2_acde48001122row2_col24 {\n",
       "            color:  red;\n",
       "        }    #T_331c138a_8cea_11ea_b2a2_acde48001122row2_col25 {\n",
       "            color:  red;\n",
       "        }    #T_331c138a_8cea_11ea_b2a2_acde48001122row2_col26 {\n",
       "            color:  red;\n",
       "        }    #T_331c138a_8cea_11ea_b2a2_acde48001122row2_col27 {\n",
       "            color:  red;\n",
       "        }    #T_331c138a_8cea_11ea_b2a2_acde48001122row2_col28 {\n",
       "            color:  red;\n",
       "        }    #T_331c138a_8cea_11ea_b2a2_acde48001122row2_col29 {\n",
       "            color:  red;\n",
       "        }    #T_331c138a_8cea_11ea_b2a2_acde48001122row2_col30 {\n",
       "            color:  red;\n",
       "        }    #T_331c138a_8cea_11ea_b2a2_acde48001122row2_col31 {\n",
       "            color:  blue;\n",
       "        }    #T_331c138a_8cea_11ea_b2a2_acde48001122row2_col32 {\n",
       "            color:  blue;\n",
       "        }    #T_331c138a_8cea_11ea_b2a2_acde48001122row2_col33 {\n",
       "            color:  blue;\n",
       "        }    #T_331c138a_8cea_11ea_b2a2_acde48001122row2_col34 {\n",
       "            color:  blue;\n",
       "        }    #T_331c138a_8cea_11ea_b2a2_acde48001122row2_col35 {\n",
       "            color:  red;\n",
       "        }    #T_331c138a_8cea_11ea_b2a2_acde48001122row2_col36 {\n",
       "            color:  red;\n",
       "        }    #T_331c138a_8cea_11ea_b2a2_acde48001122row2_col37 {\n",
       "            color:  red;\n",
       "        }    #T_331c138a_8cea_11ea_b2a2_acde48001122row2_col38 {\n",
       "            color:  red;\n",
       "        }    #T_331c138a_8cea_11ea_b2a2_acde48001122row2_col39 {\n",
       "            color:  red;\n",
       "        }    #T_331c138a_8cea_11ea_b2a2_acde48001122row2_col40 {\n",
       "            color:  red;\n",
       "        }    #T_331c138a_8cea_11ea_b2a2_acde48001122row2_col41 {\n",
       "            color:  red;\n",
       "        }    #T_331c138a_8cea_11ea_b2a2_acde48001122row2_col42 {\n",
       "            color:  red;\n",
       "        }    #T_331c138a_8cea_11ea_b2a2_acde48001122row2_col43 {\n",
       "            color:  blue;\n",
       "        }    #T_331c138a_8cea_11ea_b2a2_acde48001122row2_col44 {\n",
       "            color:  blue;\n",
       "        }    #T_331c138a_8cea_11ea_b2a2_acde48001122row2_col45 {\n",
       "            color:  blue;\n",
       "        }    #T_331c138a_8cea_11ea_b2a2_acde48001122row2_col46 {\n",
       "            color:  red;\n",
       "        }    #T_331c138a_8cea_11ea_b2a2_acde48001122row2_col47 {\n",
       "            color:  red;\n",
       "        }    #T_331c138a_8cea_11ea_b2a2_acde48001122row2_col48 {\n",
       "            color:  blue;\n",
       "        }    #T_331c138a_8cea_11ea_b2a2_acde48001122row2_col49 {\n",
       "            color:  red;\n",
       "        }    #T_331c138a_8cea_11ea_b2a2_acde48001122row2_col50 {\n",
       "            color:  red;\n",
       "        }    #T_331c138a_8cea_11ea_b2a2_acde48001122row2_col51 {\n",
       "            color:  red;\n",
       "        }    #T_331c138a_8cea_11ea_b2a2_acde48001122row2_col52 {\n",
       "            color:  red;\n",
       "        }    #T_331c138a_8cea_11ea_b2a2_acde48001122row3_col0 {\n",
       "            color:  red;\n",
       "        }    #T_331c138a_8cea_11ea_b2a2_acde48001122row3_col1 {\n",
       "            color:  red;\n",
       "        }    #T_331c138a_8cea_11ea_b2a2_acde48001122row3_col2 {\n",
       "            color:  blue;\n",
       "        }    #T_331c138a_8cea_11ea_b2a2_acde48001122row3_col3 {\n",
       "            color:  red;\n",
       "        }    #T_331c138a_8cea_11ea_b2a2_acde48001122row3_col4 {\n",
       "            color:  red;\n",
       "        }    #T_331c138a_8cea_11ea_b2a2_acde48001122row3_col5 {\n",
       "            color:  blue;\n",
       "        }    #T_331c138a_8cea_11ea_b2a2_acde48001122row3_col6 {\n",
       "            color:  red;\n",
       "        }    #T_331c138a_8cea_11ea_b2a2_acde48001122row3_col7 {\n",
       "            color:  blue;\n",
       "        }    #T_331c138a_8cea_11ea_b2a2_acde48001122row3_col8 {\n",
       "            color:  blue;\n",
       "        }    #T_331c138a_8cea_11ea_b2a2_acde48001122row3_col9 {\n",
       "            color:  blue;\n",
       "        }    #T_331c138a_8cea_11ea_b2a2_acde48001122row3_col10 {\n",
       "            color:  blue;\n",
       "        }    #T_331c138a_8cea_11ea_b2a2_acde48001122row3_col11 {\n",
       "            color:  blue;\n",
       "        }    #T_331c138a_8cea_11ea_b2a2_acde48001122row3_col12 {\n",
       "            color:  red;\n",
       "        }    #T_331c138a_8cea_11ea_b2a2_acde48001122row3_col13 {\n",
       "            color:  red;\n",
       "        }    #T_331c138a_8cea_11ea_b2a2_acde48001122row3_col14 {\n",
       "            color:  blue;\n",
       "        }    #T_331c138a_8cea_11ea_b2a2_acde48001122row3_col15 {\n",
       "            color:  red;\n",
       "        }    #T_331c138a_8cea_11ea_b2a2_acde48001122row3_col16 {\n",
       "            color:  red;\n",
       "        }    #T_331c138a_8cea_11ea_b2a2_acde48001122row3_col17 {\n",
       "            color:  red;\n",
       "        }    #T_331c138a_8cea_11ea_b2a2_acde48001122row3_col18 {\n",
       "            color:  red;\n",
       "        }    #T_331c138a_8cea_11ea_b2a2_acde48001122row3_col19 {\n",
       "            color:  red;\n",
       "        }    #T_331c138a_8cea_11ea_b2a2_acde48001122row3_col20 {\n",
       "            color:  blue;\n",
       "        }    #T_331c138a_8cea_11ea_b2a2_acde48001122row3_col21 {\n",
       "            color:  blue;\n",
       "        }    #T_331c138a_8cea_11ea_b2a2_acde48001122row3_col22 {\n",
       "            color:  blue;\n",
       "        }    #T_331c138a_8cea_11ea_b2a2_acde48001122row3_col23 {\n",
       "            color:  red;\n",
       "        }    #T_331c138a_8cea_11ea_b2a2_acde48001122row3_col24 {\n",
       "            color:  red;\n",
       "        }    #T_331c138a_8cea_11ea_b2a2_acde48001122row3_col25 {\n",
       "            color:  red;\n",
       "        }    #T_331c138a_8cea_11ea_b2a2_acde48001122row3_col26 {\n",
       "            color:  red;\n",
       "        }    #T_331c138a_8cea_11ea_b2a2_acde48001122row3_col27 {\n",
       "            color:  red;\n",
       "        }    #T_331c138a_8cea_11ea_b2a2_acde48001122row3_col28 {\n",
       "            color:  red;\n",
       "        }    #T_331c138a_8cea_11ea_b2a2_acde48001122row3_col29 {\n",
       "            color:  red;\n",
       "        }    #T_331c138a_8cea_11ea_b2a2_acde48001122row3_col30 {\n",
       "            color:  blue;\n",
       "        }    #T_331c138a_8cea_11ea_b2a2_acde48001122row3_col31 {\n",
       "            color:  blue;\n",
       "        }    #T_331c138a_8cea_11ea_b2a2_acde48001122row3_col32 {\n",
       "            color:  red;\n",
       "        }    #T_331c138a_8cea_11ea_b2a2_acde48001122row3_col33 {\n",
       "            color:  red;\n",
       "        }    #T_331c138a_8cea_11ea_b2a2_acde48001122row3_col34 {\n",
       "            color:  blue;\n",
       "        }    #T_331c138a_8cea_11ea_b2a2_acde48001122row3_col35 {\n",
       "            color:  red;\n",
       "        }    #T_331c138a_8cea_11ea_b2a2_acde48001122row3_col36 {\n",
       "            color:  red;\n",
       "        }    #T_331c138a_8cea_11ea_b2a2_acde48001122row3_col37 {\n",
       "            color:  red;\n",
       "        }    #T_331c138a_8cea_11ea_b2a2_acde48001122row3_col38 {\n",
       "            color:  red;\n",
       "        }    #T_331c138a_8cea_11ea_b2a2_acde48001122row3_col39 {\n",
       "            color:  blue;\n",
       "        }    #T_331c138a_8cea_11ea_b2a2_acde48001122row3_col40 {\n",
       "            color:  blue;\n",
       "        }    #T_331c138a_8cea_11ea_b2a2_acde48001122row3_col41 {\n",
       "            color:  blue;\n",
       "        }    #T_331c138a_8cea_11ea_b2a2_acde48001122row3_col42 {\n",
       "            color:  red;\n",
       "        }    #T_331c138a_8cea_11ea_b2a2_acde48001122row3_col43 {\n",
       "            color:  red;\n",
       "        }    #T_331c138a_8cea_11ea_b2a2_acde48001122row3_col44 {\n",
       "            color:  blue;\n",
       "        }    #T_331c138a_8cea_11ea_b2a2_acde48001122row3_col45 {\n",
       "            color:  blue;\n",
       "        }    #T_331c138a_8cea_11ea_b2a2_acde48001122row3_col46 {\n",
       "            color:  blue;\n",
       "        }    #T_331c138a_8cea_11ea_b2a2_acde48001122row3_col47 {\n",
       "            color:  red;\n",
       "        }    #T_331c138a_8cea_11ea_b2a2_acde48001122row3_col48 {\n",
       "            color:  blue;\n",
       "        }    #T_331c138a_8cea_11ea_b2a2_acde48001122row3_col49 {\n",
       "            color:  blue;\n",
       "        }    #T_331c138a_8cea_11ea_b2a2_acde48001122row3_col50 {\n",
       "            color:  blue;\n",
       "        }    #T_331c138a_8cea_11ea_b2a2_acde48001122row3_col51 {\n",
       "            color:  red;\n",
       "        }    #T_331c138a_8cea_11ea_b2a2_acde48001122row3_col52 {\n",
       "            color:  red;\n",
       "        }    #T_331c138a_8cea_11ea_b2a2_acde48001122row4_col0 {\n",
       "            color:  black;\n",
       "        }    #T_331c138a_8cea_11ea_b2a2_acde48001122row4_col1 {\n",
       "            color:  black;\n",
       "        }    #T_331c138a_8cea_11ea_b2a2_acde48001122row4_col2 {\n",
       "            color:  black;\n",
       "        }    #T_331c138a_8cea_11ea_b2a2_acde48001122row4_col3 {\n",
       "            color:  black;\n",
       "        }    #T_331c138a_8cea_11ea_b2a2_acde48001122row4_col4 {\n",
       "            color:  black;\n",
       "        }    #T_331c138a_8cea_11ea_b2a2_acde48001122row4_col5 {\n",
       "            color:  black;\n",
       "        }    #T_331c138a_8cea_11ea_b2a2_acde48001122row4_col6 {\n",
       "            color:  black;\n",
       "        }    #T_331c138a_8cea_11ea_b2a2_acde48001122row4_col7 {\n",
       "            color:  black;\n",
       "        }    #T_331c138a_8cea_11ea_b2a2_acde48001122row4_col8 {\n",
       "            color:  black;\n",
       "        }    #T_331c138a_8cea_11ea_b2a2_acde48001122row4_col9 {\n",
       "            color:  black;\n",
       "        }    #T_331c138a_8cea_11ea_b2a2_acde48001122row4_col10 {\n",
       "            color:  black;\n",
       "        }    #T_331c138a_8cea_11ea_b2a2_acde48001122row4_col11 {\n",
       "            color:  black;\n",
       "        }    #T_331c138a_8cea_11ea_b2a2_acde48001122row4_col12 {\n",
       "            color:  black;\n",
       "        }    #T_331c138a_8cea_11ea_b2a2_acde48001122row4_col13 {\n",
       "            color:  black;\n",
       "        }    #T_331c138a_8cea_11ea_b2a2_acde48001122row4_col14 {\n",
       "            color:  black;\n",
       "        }    #T_331c138a_8cea_11ea_b2a2_acde48001122row4_col15 {\n",
       "            color:  black;\n",
       "        }    #T_331c138a_8cea_11ea_b2a2_acde48001122row4_col16 {\n",
       "            color:  black;\n",
       "        }    #T_331c138a_8cea_11ea_b2a2_acde48001122row4_col17 {\n",
       "            color:  black;\n",
       "        }    #T_331c138a_8cea_11ea_b2a2_acde48001122row4_col18 {\n",
       "            color:  red;\n",
       "        }    #T_331c138a_8cea_11ea_b2a2_acde48001122row4_col19 {\n",
       "            color:  red;\n",
       "        }    #T_331c138a_8cea_11ea_b2a2_acde48001122row4_col20 {\n",
       "            color:  blue;\n",
       "        }    #T_331c138a_8cea_11ea_b2a2_acde48001122row4_col21 {\n",
       "            color:  red;\n",
       "        }    #T_331c138a_8cea_11ea_b2a2_acde48001122row4_col22 {\n",
       "            color:  red;\n",
       "        }    #T_331c138a_8cea_11ea_b2a2_acde48001122row4_col23 {\n",
       "            color:  red;\n",
       "        }    #T_331c138a_8cea_11ea_b2a2_acde48001122row4_col24 {\n",
       "            color:  red;\n",
       "        }    #T_331c138a_8cea_11ea_b2a2_acde48001122row4_col25 {\n",
       "            color:  blue;\n",
       "        }    #T_331c138a_8cea_11ea_b2a2_acde48001122row4_col26 {\n",
       "            color:  red;\n",
       "        }    #T_331c138a_8cea_11ea_b2a2_acde48001122row4_col27 {\n",
       "            color:  blue;\n",
       "        }    #T_331c138a_8cea_11ea_b2a2_acde48001122row4_col28 {\n",
       "            color:  red;\n",
       "        }    #T_331c138a_8cea_11ea_b2a2_acde48001122row4_col29 {\n",
       "            color:  red;\n",
       "        }    #T_331c138a_8cea_11ea_b2a2_acde48001122row4_col30 {\n",
       "            color:  blue;\n",
       "        }    #T_331c138a_8cea_11ea_b2a2_acde48001122row4_col31 {\n",
       "            color:  red;\n",
       "        }    #T_331c138a_8cea_11ea_b2a2_acde48001122row4_col32 {\n",
       "            color:  red;\n",
       "        }    #T_331c138a_8cea_11ea_b2a2_acde48001122row4_col33 {\n",
       "            color:  blue;\n",
       "        }    #T_331c138a_8cea_11ea_b2a2_acde48001122row4_col34 {\n",
       "            color:  red;\n",
       "        }    #T_331c138a_8cea_11ea_b2a2_acde48001122row4_col35 {\n",
       "            color:  blue;\n",
       "        }    #T_331c138a_8cea_11ea_b2a2_acde48001122row4_col36 {\n",
       "            color:  blue;\n",
       "        }    #T_331c138a_8cea_11ea_b2a2_acde48001122row4_col37 {\n",
       "            color:  black;\n",
       "        }    #T_331c138a_8cea_11ea_b2a2_acde48001122row4_col38 {\n",
       "            color:  black;\n",
       "        }    #T_331c138a_8cea_11ea_b2a2_acde48001122row4_col39 {\n",
       "            color:  red;\n",
       "        }    #T_331c138a_8cea_11ea_b2a2_acde48001122row4_col40 {\n",
       "            color:  blue;\n",
       "        }    #T_331c138a_8cea_11ea_b2a2_acde48001122row4_col41 {\n",
       "            color:  red;\n",
       "        }    #T_331c138a_8cea_11ea_b2a2_acde48001122row4_col42 {\n",
       "            color:  blue;\n",
       "        }    #T_331c138a_8cea_11ea_b2a2_acde48001122row4_col43 {\n",
       "            color:  red;\n",
       "        }    #T_331c138a_8cea_11ea_b2a2_acde48001122row4_col44 {\n",
       "            color:  blue;\n",
       "        }    #T_331c138a_8cea_11ea_b2a2_acde48001122row4_col45 {\n",
       "            color:  red;\n",
       "        }    #T_331c138a_8cea_11ea_b2a2_acde48001122row4_col46 {\n",
       "            color:  red;\n",
       "        }    #T_331c138a_8cea_11ea_b2a2_acde48001122row4_col47 {\n",
       "            color:  red;\n",
       "        }    #T_331c138a_8cea_11ea_b2a2_acde48001122row4_col48 {\n",
       "            color:  blue;\n",
       "        }    #T_331c138a_8cea_11ea_b2a2_acde48001122row4_col49 {\n",
       "            color:  red;\n",
       "        }    #T_331c138a_8cea_11ea_b2a2_acde48001122row4_col50 {\n",
       "            color:  blue;\n",
       "        }    #T_331c138a_8cea_11ea_b2a2_acde48001122row4_col51 {\n",
       "            color:  red;\n",
       "        }    #T_331c138a_8cea_11ea_b2a2_acde48001122row4_col52 {\n",
       "            color:  blue;\n",
       "        }    #T_331c138a_8cea_11ea_b2a2_acde48001122row5_col0 {\n",
       "            color:  black;\n",
       "        }    #T_331c138a_8cea_11ea_b2a2_acde48001122row5_col1 {\n",
       "            color:  black;\n",
       "        }    #T_331c138a_8cea_11ea_b2a2_acde48001122row5_col2 {\n",
       "            color:  black;\n",
       "        }    #T_331c138a_8cea_11ea_b2a2_acde48001122row5_col3 {\n",
       "            color:  black;\n",
       "        }    #T_331c138a_8cea_11ea_b2a2_acde48001122row5_col4 {\n",
       "            color:  black;\n",
       "        }    #T_331c138a_8cea_11ea_b2a2_acde48001122row5_col5 {\n",
       "            color:  black;\n",
       "        }    #T_331c138a_8cea_11ea_b2a2_acde48001122row5_col6 {\n",
       "            color:  red;\n",
       "        }    #T_331c138a_8cea_11ea_b2a2_acde48001122row5_col7 {\n",
       "            color:  red;\n",
       "        }    #T_331c138a_8cea_11ea_b2a2_acde48001122row5_col8 {\n",
       "            color:  blue;\n",
       "        }    #T_331c138a_8cea_11ea_b2a2_acde48001122row5_col9 {\n",
       "            color:  blue;\n",
       "        }    #T_331c138a_8cea_11ea_b2a2_acde48001122row5_col10 {\n",
       "            color:  red;\n",
       "        }    #T_331c138a_8cea_11ea_b2a2_acde48001122row5_col11 {\n",
       "            color:  red;\n",
       "        }    #T_331c138a_8cea_11ea_b2a2_acde48001122row5_col12 {\n",
       "            color:  red;\n",
       "        }    #T_331c138a_8cea_11ea_b2a2_acde48001122row5_col13 {\n",
       "            color:  red;\n",
       "        }    #T_331c138a_8cea_11ea_b2a2_acde48001122row5_col14 {\n",
       "            color:  red;\n",
       "        }    #T_331c138a_8cea_11ea_b2a2_acde48001122row5_col15 {\n",
       "            color:  red;\n",
       "        }    #T_331c138a_8cea_11ea_b2a2_acde48001122row5_col16 {\n",
       "            color:  red;\n",
       "        }    #T_331c138a_8cea_11ea_b2a2_acde48001122row5_col17 {\n",
       "            color:  red;\n",
       "        }    #T_331c138a_8cea_11ea_b2a2_acde48001122row5_col18 {\n",
       "            color:  red;\n",
       "        }    #T_331c138a_8cea_11ea_b2a2_acde48001122row5_col19 {\n",
       "            color:  red;\n",
       "        }    #T_331c138a_8cea_11ea_b2a2_acde48001122row5_col20 {\n",
       "            color:  blue;\n",
       "        }    #T_331c138a_8cea_11ea_b2a2_acde48001122row5_col21 {\n",
       "            color:  blue;\n",
       "        }    #T_331c138a_8cea_11ea_b2a2_acde48001122row5_col22 {\n",
       "            color:  red;\n",
       "        }    #T_331c138a_8cea_11ea_b2a2_acde48001122row5_col23 {\n",
       "            color:  red;\n",
       "        }    #T_331c138a_8cea_11ea_b2a2_acde48001122row5_col24 {\n",
       "            color:  blue;\n",
       "        }    #T_331c138a_8cea_11ea_b2a2_acde48001122row5_col25 {\n",
       "            color:  red;\n",
       "        }    #T_331c138a_8cea_11ea_b2a2_acde48001122row5_col26 {\n",
       "            color:  red;\n",
       "        }    #T_331c138a_8cea_11ea_b2a2_acde48001122row5_col27 {\n",
       "            color:  red;\n",
       "        }    #T_331c138a_8cea_11ea_b2a2_acde48001122row5_col28 {\n",
       "            color:  blue;\n",
       "        }    #T_331c138a_8cea_11ea_b2a2_acde48001122row5_col29 {\n",
       "            color:  red;\n",
       "        }    #T_331c138a_8cea_11ea_b2a2_acde48001122row5_col30 {\n",
       "            color:  red;\n",
       "        }    #T_331c138a_8cea_11ea_b2a2_acde48001122row5_col31 {\n",
       "            color:  red;\n",
       "        }    #T_331c138a_8cea_11ea_b2a2_acde48001122row5_col32 {\n",
       "            color:  red;\n",
       "        }    #T_331c138a_8cea_11ea_b2a2_acde48001122row5_col33 {\n",
       "            color:  blue;\n",
       "        }    #T_331c138a_8cea_11ea_b2a2_acde48001122row5_col34 {\n",
       "            color:  blue;\n",
       "        }    #T_331c138a_8cea_11ea_b2a2_acde48001122row5_col35 {\n",
       "            color:  red;\n",
       "        }    #T_331c138a_8cea_11ea_b2a2_acde48001122row5_col36 {\n",
       "            color:  red;\n",
       "        }    #T_331c138a_8cea_11ea_b2a2_acde48001122row5_col37 {\n",
       "            color:  red;\n",
       "        }    #T_331c138a_8cea_11ea_b2a2_acde48001122row5_col38 {\n",
       "            color:  red;\n",
       "        }    #T_331c138a_8cea_11ea_b2a2_acde48001122row5_col39 {\n",
       "            color:  red;\n",
       "        }    #T_331c138a_8cea_11ea_b2a2_acde48001122row5_col40 {\n",
       "            color:  red;\n",
       "        }    #T_331c138a_8cea_11ea_b2a2_acde48001122row5_col41 {\n",
       "            color:  red;\n",
       "        }    #T_331c138a_8cea_11ea_b2a2_acde48001122row5_col42 {\n",
       "            color:  blue;\n",
       "        }    #T_331c138a_8cea_11ea_b2a2_acde48001122row5_col43 {\n",
       "            color:  red;\n",
       "        }    #T_331c138a_8cea_11ea_b2a2_acde48001122row5_col44 {\n",
       "            color:  blue;\n",
       "        }    #T_331c138a_8cea_11ea_b2a2_acde48001122row5_col45 {\n",
       "            color:  blue;\n",
       "        }    #T_331c138a_8cea_11ea_b2a2_acde48001122row5_col46 {\n",
       "            color:  red;\n",
       "        }    #T_331c138a_8cea_11ea_b2a2_acde48001122row5_col47 {\n",
       "            color:  red;\n",
       "        }    #T_331c138a_8cea_11ea_b2a2_acde48001122row5_col48 {\n",
       "            color:  blue;\n",
       "        }    #T_331c138a_8cea_11ea_b2a2_acde48001122row5_col49 {\n",
       "            color:  red;\n",
       "        }    #T_331c138a_8cea_11ea_b2a2_acde48001122row5_col50 {\n",
       "            color:  red;\n",
       "        }    #T_331c138a_8cea_11ea_b2a2_acde48001122row5_col51 {\n",
       "            color:  red;\n",
       "        }    #T_331c138a_8cea_11ea_b2a2_acde48001122row5_col52 {\n",
       "            color:  red;\n",
       "        }    #T_331c138a_8cea_11ea_b2a2_acde48001122row6_col0 {\n",
       "            color:  red;\n",
       "        }    #T_331c138a_8cea_11ea_b2a2_acde48001122row6_col1 {\n",
       "            color:  red;\n",
       "        }    #T_331c138a_8cea_11ea_b2a2_acde48001122row6_col2 {\n",
       "            color:  red;\n",
       "        }    #T_331c138a_8cea_11ea_b2a2_acde48001122row6_col3 {\n",
       "            color:  red;\n",
       "        }    #T_331c138a_8cea_11ea_b2a2_acde48001122row6_col4 {\n",
       "            color:  red;\n",
       "        }    #T_331c138a_8cea_11ea_b2a2_acde48001122row6_col5 {\n",
       "            color:  red;\n",
       "        }    #T_331c138a_8cea_11ea_b2a2_acde48001122row6_col6 {\n",
       "            color:  blue;\n",
       "        }    #T_331c138a_8cea_11ea_b2a2_acde48001122row6_col7 {\n",
       "            color:  red;\n",
       "        }    #T_331c138a_8cea_11ea_b2a2_acde48001122row6_col8 {\n",
       "            color:  blue;\n",
       "        }    #T_331c138a_8cea_11ea_b2a2_acde48001122row6_col9 {\n",
       "            color:  blue;\n",
       "        }    #T_331c138a_8cea_11ea_b2a2_acde48001122row6_col10 {\n",
       "            color:  red;\n",
       "        }    #T_331c138a_8cea_11ea_b2a2_acde48001122row6_col11 {\n",
       "            color:  red;\n",
       "        }    #T_331c138a_8cea_11ea_b2a2_acde48001122row6_col12 {\n",
       "            color:  red;\n",
       "        }    #T_331c138a_8cea_11ea_b2a2_acde48001122row6_col13 {\n",
       "            color:  red;\n",
       "        }    #T_331c138a_8cea_11ea_b2a2_acde48001122row6_col14 {\n",
       "            color:  red;\n",
       "        }    #T_331c138a_8cea_11ea_b2a2_acde48001122row6_col15 {\n",
       "            color:  red;\n",
       "        }    #T_331c138a_8cea_11ea_b2a2_acde48001122row6_col16 {\n",
       "            color:  blue;\n",
       "        }    #T_331c138a_8cea_11ea_b2a2_acde48001122row6_col17 {\n",
       "            color:  red;\n",
       "        }    #T_331c138a_8cea_11ea_b2a2_acde48001122row6_col18 {\n",
       "            color:  red;\n",
       "        }    #T_331c138a_8cea_11ea_b2a2_acde48001122row6_col19 {\n",
       "            color:  red;\n",
       "        }    #T_331c138a_8cea_11ea_b2a2_acde48001122row6_col20 {\n",
       "            color:  red;\n",
       "        }    #T_331c138a_8cea_11ea_b2a2_acde48001122row6_col21 {\n",
       "            color:  blue;\n",
       "        }    #T_331c138a_8cea_11ea_b2a2_acde48001122row6_col22 {\n",
       "            color:  blue;\n",
       "        }    #T_331c138a_8cea_11ea_b2a2_acde48001122row6_col23 {\n",
       "            color:  red;\n",
       "        }    #T_331c138a_8cea_11ea_b2a2_acde48001122row6_col24 {\n",
       "            color:  red;\n",
       "        }    #T_331c138a_8cea_11ea_b2a2_acde48001122row6_col25 {\n",
       "            color:  red;\n",
       "        }    #T_331c138a_8cea_11ea_b2a2_acde48001122row6_col26 {\n",
       "            color:  red;\n",
       "        }    #T_331c138a_8cea_11ea_b2a2_acde48001122row6_col27 {\n",
       "            color:  red;\n",
       "        }    #T_331c138a_8cea_11ea_b2a2_acde48001122row6_col28 {\n",
       "            color:  red;\n",
       "        }    #T_331c138a_8cea_11ea_b2a2_acde48001122row6_col29 {\n",
       "            color:  red;\n",
       "        }    #T_331c138a_8cea_11ea_b2a2_acde48001122row6_col30 {\n",
       "            color:  blue;\n",
       "        }    #T_331c138a_8cea_11ea_b2a2_acde48001122row6_col31 {\n",
       "            color:  blue;\n",
       "        }    #T_331c138a_8cea_11ea_b2a2_acde48001122row6_col32 {\n",
       "            color:  blue;\n",
       "        }    #T_331c138a_8cea_11ea_b2a2_acde48001122row6_col33 {\n",
       "            color:  blue;\n",
       "        }    #T_331c138a_8cea_11ea_b2a2_acde48001122row6_col34 {\n",
       "            color:  blue;\n",
       "        }    #T_331c138a_8cea_11ea_b2a2_acde48001122row6_col35 {\n",
       "            color:  red;\n",
       "        }    #T_331c138a_8cea_11ea_b2a2_acde48001122row6_col36 {\n",
       "            color:  red;\n",
       "        }    #T_331c138a_8cea_11ea_b2a2_acde48001122row6_col37 {\n",
       "            color:  red;\n",
       "        }    #T_331c138a_8cea_11ea_b2a2_acde48001122row6_col38 {\n",
       "            color:  red;\n",
       "        }    #T_331c138a_8cea_11ea_b2a2_acde48001122row6_col39 {\n",
       "            color:  red;\n",
       "        }    #T_331c138a_8cea_11ea_b2a2_acde48001122row6_col40 {\n",
       "            color:  red;\n",
       "        }    #T_331c138a_8cea_11ea_b2a2_acde48001122row6_col41 {\n",
       "            color:  red;\n",
       "        }    #T_331c138a_8cea_11ea_b2a2_acde48001122row6_col42 {\n",
       "            color:  blue;\n",
       "        }    #T_331c138a_8cea_11ea_b2a2_acde48001122row6_col43 {\n",
       "            color:  blue;\n",
       "        }    #T_331c138a_8cea_11ea_b2a2_acde48001122row6_col44 {\n",
       "            color:  blue;\n",
       "        }    #T_331c138a_8cea_11ea_b2a2_acde48001122row6_col45 {\n",
       "            color:  blue;\n",
       "        }    #T_331c138a_8cea_11ea_b2a2_acde48001122row6_col46 {\n",
       "            color:  red;\n",
       "        }    #T_331c138a_8cea_11ea_b2a2_acde48001122row6_col47 {\n",
       "            color:  red;\n",
       "        }    #T_331c138a_8cea_11ea_b2a2_acde48001122row6_col48 {\n",
       "            color:  red;\n",
       "        }    #T_331c138a_8cea_11ea_b2a2_acde48001122row6_col49 {\n",
       "            color:  red;\n",
       "        }    #T_331c138a_8cea_11ea_b2a2_acde48001122row6_col50 {\n",
       "            color:  red;\n",
       "        }    #T_331c138a_8cea_11ea_b2a2_acde48001122row6_col51 {\n",
       "            color:  red;\n",
       "        }    #T_331c138a_8cea_11ea_b2a2_acde48001122row6_col52 {\n",
       "            color:  blue;\n",
       "        }    #T_331c138a_8cea_11ea_b2a2_acde48001122row7_col0 {\n",
       "            color:  red;\n",
       "        }    #T_331c138a_8cea_11ea_b2a2_acde48001122row7_col1 {\n",
       "            color:  red;\n",
       "        }    #T_331c138a_8cea_11ea_b2a2_acde48001122row7_col2 {\n",
       "            color:  blue;\n",
       "        }    #T_331c138a_8cea_11ea_b2a2_acde48001122row7_col3 {\n",
       "            color:  red;\n",
       "        }    #T_331c138a_8cea_11ea_b2a2_acde48001122row7_col4 {\n",
       "            color:  blue;\n",
       "        }    #T_331c138a_8cea_11ea_b2a2_acde48001122row7_col5 {\n",
       "            color:  red;\n",
       "        }    #T_331c138a_8cea_11ea_b2a2_acde48001122row7_col6 {\n",
       "            color:  blue;\n",
       "        }    #T_331c138a_8cea_11ea_b2a2_acde48001122row7_col7 {\n",
       "            color:  blue;\n",
       "        }    #T_331c138a_8cea_11ea_b2a2_acde48001122row7_col8 {\n",
       "            color:  red;\n",
       "        }    #T_331c138a_8cea_11ea_b2a2_acde48001122row7_col9 {\n",
       "            color:  blue;\n",
       "        }    #T_331c138a_8cea_11ea_b2a2_acde48001122row7_col10 {\n",
       "            color:  red;\n",
       "        }    #T_331c138a_8cea_11ea_b2a2_acde48001122row7_col11 {\n",
       "            color:  blue;\n",
       "        }    #T_331c138a_8cea_11ea_b2a2_acde48001122row7_col12 {\n",
       "            color:  red;\n",
       "        }    #T_331c138a_8cea_11ea_b2a2_acde48001122row7_col13 {\n",
       "            color:  red;\n",
       "        }    #T_331c138a_8cea_11ea_b2a2_acde48001122row7_col14 {\n",
       "            color:  blue;\n",
       "        }    #T_331c138a_8cea_11ea_b2a2_acde48001122row7_col15 {\n",
       "            color:  red;\n",
       "        }    #T_331c138a_8cea_11ea_b2a2_acde48001122row7_col16 {\n",
       "            color:  red;\n",
       "        }    #T_331c138a_8cea_11ea_b2a2_acde48001122row7_col17 {\n",
       "            color:  red;\n",
       "        }    #T_331c138a_8cea_11ea_b2a2_acde48001122row7_col18 {\n",
       "            color:  red;\n",
       "        }    #T_331c138a_8cea_11ea_b2a2_acde48001122row7_col19 {\n",
       "            color:  red;\n",
       "        }    #T_331c138a_8cea_11ea_b2a2_acde48001122row7_col20 {\n",
       "            color:  blue;\n",
       "        }    #T_331c138a_8cea_11ea_b2a2_acde48001122row7_col21 {\n",
       "            color:  blue;\n",
       "        }    #T_331c138a_8cea_11ea_b2a2_acde48001122row7_col22 {\n",
       "            color:  blue;\n",
       "        }    #T_331c138a_8cea_11ea_b2a2_acde48001122row7_col23 {\n",
       "            color:  red;\n",
       "        }    #T_331c138a_8cea_11ea_b2a2_acde48001122row7_col24 {\n",
       "            color:  red;\n",
       "        }    #T_331c138a_8cea_11ea_b2a2_acde48001122row7_col25 {\n",
       "            color:  blue;\n",
       "        }    #T_331c138a_8cea_11ea_b2a2_acde48001122row7_col26 {\n",
       "            color:  red;\n",
       "        }    #T_331c138a_8cea_11ea_b2a2_acde48001122row7_col27 {\n",
       "            color:  blue;\n",
       "        }    #T_331c138a_8cea_11ea_b2a2_acde48001122row7_col28 {\n",
       "            color:  red;\n",
       "        }    #T_331c138a_8cea_11ea_b2a2_acde48001122row7_col29 {\n",
       "            color:  red;\n",
       "        }    #T_331c138a_8cea_11ea_b2a2_acde48001122row7_col30 {\n",
       "            color:  red;\n",
       "        }    #T_331c138a_8cea_11ea_b2a2_acde48001122row7_col31 {\n",
       "            color:  blue;\n",
       "        }    #T_331c138a_8cea_11ea_b2a2_acde48001122row7_col32 {\n",
       "            color:  blue;\n",
       "        }    #T_331c138a_8cea_11ea_b2a2_acde48001122row7_col33 {\n",
       "            color:  red;\n",
       "        }    #T_331c138a_8cea_11ea_b2a2_acde48001122row7_col34 {\n",
       "            color:  blue;\n",
       "        }    #T_331c138a_8cea_11ea_b2a2_acde48001122row7_col35 {\n",
       "            color:  red;\n",
       "        }    #T_331c138a_8cea_11ea_b2a2_acde48001122row7_col36 {\n",
       "            color:  red;\n",
       "        }    #T_331c138a_8cea_11ea_b2a2_acde48001122row7_col37 {\n",
       "            color:  red;\n",
       "        }    #T_331c138a_8cea_11ea_b2a2_acde48001122row7_col38 {\n",
       "            color:  red;\n",
       "        }    #T_331c138a_8cea_11ea_b2a2_acde48001122row7_col39 {\n",
       "            color:  blue;\n",
       "        }    #T_331c138a_8cea_11ea_b2a2_acde48001122row7_col40 {\n",
       "            color:  blue;\n",
       "        }    #T_331c138a_8cea_11ea_b2a2_acde48001122row7_col41 {\n",
       "            color:  red;\n",
       "        }    #T_331c138a_8cea_11ea_b2a2_acde48001122row7_col42 {\n",
       "            color:  red;\n",
       "        }    #T_331c138a_8cea_11ea_b2a2_acde48001122row7_col43 {\n",
       "            color:  red;\n",
       "        }    #T_331c138a_8cea_11ea_b2a2_acde48001122row7_col44 {\n",
       "            color:  blue;\n",
       "        }    #T_331c138a_8cea_11ea_b2a2_acde48001122row7_col45 {\n",
       "            color:  blue;\n",
       "        }    #T_331c138a_8cea_11ea_b2a2_acde48001122row7_col46 {\n",
       "            color:  red;\n",
       "        }    #T_331c138a_8cea_11ea_b2a2_acde48001122row7_col47 {\n",
       "            color:  red;\n",
       "        }    #T_331c138a_8cea_11ea_b2a2_acde48001122row7_col48 {\n",
       "            color:  red;\n",
       "        }    #T_331c138a_8cea_11ea_b2a2_acde48001122row7_col49 {\n",
       "            color:  blue;\n",
       "        }    #T_331c138a_8cea_11ea_b2a2_acde48001122row7_col50 {\n",
       "            color:  blue;\n",
       "        }    #T_331c138a_8cea_11ea_b2a2_acde48001122row7_col51 {\n",
       "            color:  red;\n",
       "        }    #T_331c138a_8cea_11ea_b2a2_acde48001122row7_col52 {\n",
       "            color:  red;\n",
       "        }</style><table id=\"T_331c138a_8cea_11ea_b2a2_acde48001122\" ><thead>    <tr>        <th class=\"blank level0\" ></th>        <th class=\"col_heading level0 col0\" >2010-02</th>        <th class=\"col_heading level0 col1\" >2010-03</th>        <th class=\"col_heading level0 col2\" >2010-04</th>        <th class=\"col_heading level0 col3\" >2010-05</th>        <th class=\"col_heading level0 col4\" >2010-06</th>        <th class=\"col_heading level0 col5\" >2010-07</th>        <th class=\"col_heading level0 col6\" >2010-08</th>        <th class=\"col_heading level0 col7\" >2010-09</th>        <th class=\"col_heading level0 col8\" >2010-10</th>        <th class=\"col_heading level0 col9\" >2010-11</th>        <th class=\"col_heading level0 col10\" >2010-12</th>        <th class=\"col_heading level0 col11\" >2011-01</th>        <th class=\"col_heading level0 col12\" >2011-02</th>        <th class=\"col_heading level0 col13\" >2011-03</th>        <th class=\"col_heading level0 col14\" >2011-04</th>        <th class=\"col_heading level0 col15\" >2011-05</th>        <th class=\"col_heading level0 col16\" >2011-06</th>        <th class=\"col_heading level0 col17\" >2011-07</th>        <th class=\"col_heading level0 col18\" >2011-08</th>        <th class=\"col_heading level0 col19\" >2011-09</th>        <th class=\"col_heading level0 col20\" >2011-10</th>        <th class=\"col_heading level0 col21\" >2011-11</th>        <th class=\"col_heading level0 col22\" >2011-12</th>        <th class=\"col_heading level0 col23\" >2012-01</th>        <th class=\"col_heading level0 col24\" >2012-02</th>        <th class=\"col_heading level0 col25\" >2012-03</th>        <th class=\"col_heading level0 col26\" >2012-04</th>        <th class=\"col_heading level0 col27\" >2012-05</th>        <th class=\"col_heading level0 col28\" >2012-06</th>        <th class=\"col_heading level0 col29\" >2012-07</th>        <th class=\"col_heading level0 col30\" >2012-08</th>        <th class=\"col_heading level0 col31\" >2012-09</th>        <th class=\"col_heading level0 col32\" >2012-10</th>        <th class=\"col_heading level0 col33\" >2012-11</th>        <th class=\"col_heading level0 col34\" >2012-12</th>        <th class=\"col_heading level0 col35\" >2013-01</th>        <th class=\"col_heading level0 col36\" >2013-02</th>        <th class=\"col_heading level0 col37\" >2013-03</th>        <th class=\"col_heading level0 col38\" >2013-04</th>        <th class=\"col_heading level0 col39\" >2013-05</th>        <th class=\"col_heading level0 col40\" >2013-06</th>        <th class=\"col_heading level0 col41\" >2013-07</th>        <th class=\"col_heading level0 col42\" >2013-08</th>        <th class=\"col_heading level0 col43\" >2013-09</th>        <th class=\"col_heading level0 col44\" >2013-10</th>        <th class=\"col_heading level0 col45\" >2013-11</th>        <th class=\"col_heading level0 col46\" >2013-12</th>        <th class=\"col_heading level0 col47\" >2014-01</th>        <th class=\"col_heading level0 col48\" >2014-02</th>        <th class=\"col_heading level0 col49\" >2014-03</th>        <th class=\"col_heading level0 col50\" >2014-04</th>        <th class=\"col_heading level0 col51\" >2014-05</th>        <th class=\"col_heading level0 col52\" >2014-06</th>    </tr></thead><tbody>\n",
       "                <tr>\n",
       "                        <th id=\"T_331c138a_8cea_11ea_b2a2_acde48001122level0_row0\" class=\"row_heading level0 row0\" >api</th>\n",
       "                        <td id=\"T_331c138a_8cea_11ea_b2a2_acde48001122row0_col0\" class=\"data row0 col0\" >0</td>\n",
       "                        <td id=\"T_331c138a_8cea_11ea_b2a2_acde48001122row0_col1\" class=\"data row0 col1\" >0</td>\n",
       "                        <td id=\"T_331c138a_8cea_11ea_b2a2_acde48001122row0_col2\" class=\"data row0 col2\" >0</td>\n",
       "                        <td id=\"T_331c138a_8cea_11ea_b2a2_acde48001122row0_col3\" class=\"data row0 col3\" >0</td>\n",
       "                        <td id=\"T_331c138a_8cea_11ea_b2a2_acde48001122row0_col4\" class=\"data row0 col4\" >0</td>\n",
       "                        <td id=\"T_331c138a_8cea_11ea_b2a2_acde48001122row0_col5\" class=\"data row0 col5\" >0</td>\n",
       "                        <td id=\"T_331c138a_8cea_11ea_b2a2_acde48001122row0_col6\" class=\"data row0 col6\" >0</td>\n",
       "                        <td id=\"T_331c138a_8cea_11ea_b2a2_acde48001122row0_col7\" class=\"data row0 col7\" >0</td>\n",
       "                        <td id=\"T_331c138a_8cea_11ea_b2a2_acde48001122row0_col8\" class=\"data row0 col8\" >0</td>\n",
       "                        <td id=\"T_331c138a_8cea_11ea_b2a2_acde48001122row0_col9\" class=\"data row0 col9\" >0</td>\n",
       "                        <td id=\"T_331c138a_8cea_11ea_b2a2_acde48001122row0_col10\" class=\"data row0 col10\" >0</td>\n",
       "                        <td id=\"T_331c138a_8cea_11ea_b2a2_acde48001122row0_col11\" class=\"data row0 col11\" >0</td>\n",
       "                        <td id=\"T_331c138a_8cea_11ea_b2a2_acde48001122row0_col12\" class=\"data row0 col12\" >0</td>\n",
       "                        <td id=\"T_331c138a_8cea_11ea_b2a2_acde48001122row0_col13\" class=\"data row0 col13\" >0</td>\n",
       "                        <td id=\"T_331c138a_8cea_11ea_b2a2_acde48001122row0_col14\" class=\"data row0 col14\" >0</td>\n",
       "                        <td id=\"T_331c138a_8cea_11ea_b2a2_acde48001122row0_col15\" class=\"data row0 col15\" >0</td>\n",
       "                        <td id=\"T_331c138a_8cea_11ea_b2a2_acde48001122row0_col16\" class=\"data row0 col16\" >0</td>\n",
       "                        <td id=\"T_331c138a_8cea_11ea_b2a2_acde48001122row0_col17\" class=\"data row0 col17\" >0</td>\n",
       "                        <td id=\"T_331c138a_8cea_11ea_b2a2_acde48001122row0_col18\" class=\"data row0 col18\" >0</td>\n",
       "                        <td id=\"T_331c138a_8cea_11ea_b2a2_acde48001122row0_col19\" class=\"data row0 col19\" >0</td>\n",
       "                        <td id=\"T_331c138a_8cea_11ea_b2a2_acde48001122row0_col20\" class=\"data row0 col20\" >0</td>\n",
       "                        <td id=\"T_331c138a_8cea_11ea_b2a2_acde48001122row0_col21\" class=\"data row0 col21\" >0</td>\n",
       "                        <td id=\"T_331c138a_8cea_11ea_b2a2_acde48001122row0_col22\" class=\"data row0 col22\" >0</td>\n",
       "                        <td id=\"T_331c138a_8cea_11ea_b2a2_acde48001122row0_col23\" class=\"data row0 col23\" >30</td>\n",
       "                        <td id=\"T_331c138a_8cea_11ea_b2a2_acde48001122row0_col24\" class=\"data row0 col24\" >0.8</td>\n",
       "                        <td id=\"T_331c138a_8cea_11ea_b2a2_acde48001122row0_col25\" class=\"data row0 col25\" >2.42</td>\n",
       "                        <td id=\"T_331c138a_8cea_11ea_b2a2_acde48001122row0_col26\" class=\"data row0 col26\" >0.83</td>\n",
       "                        <td id=\"T_331c138a_8cea_11ea_b2a2_acde48001122row0_col27\" class=\"data row0 col27\" >2.35</td>\n",
       "                        <td id=\"T_331c138a_8cea_11ea_b2a2_acde48001122row0_col28\" class=\"data row0 col28\" >1.5</td>\n",
       "                        <td id=\"T_331c138a_8cea_11ea_b2a2_acde48001122row0_col29\" class=\"data row0 col29\" >1.13</td>\n",
       "                        <td id=\"T_331c138a_8cea_11ea_b2a2_acde48001122row0_col30\" class=\"data row0 col30\" >1.16</td>\n",
       "                        <td id=\"T_331c138a_8cea_11ea_b2a2_acde48001122row0_col31\" class=\"data row0 col31\" >0.95</td>\n",
       "                        <td id=\"T_331c138a_8cea_11ea_b2a2_acde48001122row0_col32\" class=\"data row0 col32\" >1.15</td>\n",
       "                        <td id=\"T_331c138a_8cea_11ea_b2a2_acde48001122row0_col33\" class=\"data row0 col33\" >1</td>\n",
       "                        <td id=\"T_331c138a_8cea_11ea_b2a2_acde48001122row0_col34\" class=\"data row0 col34\" >1.07</td>\n",
       "                        <td id=\"T_331c138a_8cea_11ea_b2a2_acde48001122row0_col35\" class=\"data row0 col35\" >0.76</td>\n",
       "                        <td id=\"T_331c138a_8cea_11ea_b2a2_acde48001122row0_col36\" class=\"data row0 col36\" >0.41</td>\n",
       "                        <td id=\"T_331c138a_8cea_11ea_b2a2_acde48001122row0_col37\" class=\"data row0 col37\" >1.43</td>\n",
       "                        <td id=\"T_331c138a_8cea_11ea_b2a2_acde48001122row0_col38\" class=\"data row0 col38\" >0.96</td>\n",
       "                        <td id=\"T_331c138a_8cea_11ea_b2a2_acde48001122row0_col39\" class=\"data row0 col39\" >1.33</td>\n",
       "                        <td id=\"T_331c138a_8cea_11ea_b2a2_acde48001122row0_col40\" class=\"data row0 col40\" >1.07</td>\n",
       "                        <td id=\"T_331c138a_8cea_11ea_b2a2_acde48001122row0_col41\" class=\"data row0 col41\" >1.29</td>\n",
       "                        <td id=\"T_331c138a_8cea_11ea_b2a2_acde48001122row0_col42\" class=\"data row0 col42\" >1.38</td>\n",
       "                        <td id=\"T_331c138a_8cea_11ea_b2a2_acde48001122row0_col43\" class=\"data row0 col43\" >1.24</td>\n",
       "                        <td id=\"T_331c138a_8cea_11ea_b2a2_acde48001122row0_col44\" class=\"data row0 col44\" >0.85</td>\n",
       "                        <td id=\"T_331c138a_8cea_11ea_b2a2_acde48001122row0_col45\" class=\"data row0 col45\" >2.28</td>\n",
       "                        <td id=\"T_331c138a_8cea_11ea_b2a2_acde48001122row0_col46\" class=\"data row0 col46\" >1.27</td>\n",
       "                        <td id=\"T_331c138a_8cea_11ea_b2a2_acde48001122row0_col47\" class=\"data row0 col47\" >1.06</td>\n",
       "                        <td id=\"T_331c138a_8cea_11ea_b2a2_acde48001122row0_col48\" class=\"data row0 col48\" >0.88</td>\n",
       "                        <td id=\"T_331c138a_8cea_11ea_b2a2_acde48001122row0_col49\" class=\"data row0 col49\" >1.28</td>\n",
       "                        <td id=\"T_331c138a_8cea_11ea_b2a2_acde48001122row0_col50\" class=\"data row0 col50\" >0.1</td>\n",
       "                        <td id=\"T_331c138a_8cea_11ea_b2a2_acde48001122row0_col51\" class=\"data row0 col51\" >0</td>\n",
       "                        <td id=\"T_331c138a_8cea_11ea_b2a2_acde48001122row0_col52\" class=\"data row0 col52\" >0</td>\n",
       "            </tr>\n",
       "            <tr>\n",
       "                        <th id=\"T_331c138a_8cea_11ea_b2a2_acde48001122level0_row1\" class=\"row_heading level0 row1\" >content</th>\n",
       "                        <td id=\"T_331c138a_8cea_11ea_b2a2_acde48001122row1_col0\" class=\"data row1 col0\" >0</td>\n",
       "                        <td id=\"T_331c138a_8cea_11ea_b2a2_acde48001122row1_col1\" class=\"data row1 col1\" >11</td>\n",
       "                        <td id=\"T_331c138a_8cea_11ea_b2a2_acde48001122row1_col2\" class=\"data row1 col2\" >1</td>\n",
       "                        <td id=\"T_331c138a_8cea_11ea_b2a2_acde48001122row1_col3\" class=\"data row1 col3\" >0.82</td>\n",
       "                        <td id=\"T_331c138a_8cea_11ea_b2a2_acde48001122row1_col4\" class=\"data row1 col4\" >0.67</td>\n",
       "                        <td id=\"T_331c138a_8cea_11ea_b2a2_acde48001122row1_col5\" class=\"data row1 col5\" >1.5</td>\n",
       "                        <td id=\"T_331c138a_8cea_11ea_b2a2_acde48001122row1_col6\" class=\"data row1 col6\" >1</td>\n",
       "                        <td id=\"T_331c138a_8cea_11ea_b2a2_acde48001122row1_col7\" class=\"data row1 col7\" >0.67</td>\n",
       "                        <td id=\"T_331c138a_8cea_11ea_b2a2_acde48001122row1_col8\" class=\"data row1 col8\" >2.5</td>\n",
       "                        <td id=\"T_331c138a_8cea_11ea_b2a2_acde48001122row1_col9\" class=\"data row1 col9\" >0.67</td>\n",
       "                        <td id=\"T_331c138a_8cea_11ea_b2a2_acde48001122row1_col10\" class=\"data row1 col10\" >0.8</td>\n",
       "                        <td id=\"T_331c138a_8cea_11ea_b2a2_acde48001122row1_col11\" class=\"data row1 col11\" >2.38</td>\n",
       "                        <td id=\"T_331c138a_8cea_11ea_b2a2_acde48001122row1_col12\" class=\"data row1 col12\" >0.95</td>\n",
       "                        <td id=\"T_331c138a_8cea_11ea_b2a2_acde48001122row1_col13\" class=\"data row1 col13\" >0.83</td>\n",
       "                        <td id=\"T_331c138a_8cea_11ea_b2a2_acde48001122row1_col14\" class=\"data row1 col14\" >0.67</td>\n",
       "                        <td id=\"T_331c138a_8cea_11ea_b2a2_acde48001122row1_col15\" class=\"data row1 col15\" >1.6</td>\n",
       "                        <td id=\"T_331c138a_8cea_11ea_b2a2_acde48001122row1_col16\" class=\"data row1 col16\" >1.06</td>\n",
       "                        <td id=\"T_331c138a_8cea_11ea_b2a2_acde48001122row1_col17\" class=\"data row1 col17\" >1.18</td>\n",
       "                        <td id=\"T_331c138a_8cea_11ea_b2a2_acde48001122row1_col18\" class=\"data row1 col18\" >2.3</td>\n",
       "                        <td id=\"T_331c138a_8cea_11ea_b2a2_acde48001122row1_col19\" class=\"data row1 col19\" >1.37</td>\n",
       "                        <td id=\"T_331c138a_8cea_11ea_b2a2_acde48001122row1_col20\" class=\"data row1 col20\" >0.62</td>\n",
       "                        <td id=\"T_331c138a_8cea_11ea_b2a2_acde48001122row1_col21\" class=\"data row1 col21\" >0.44</td>\n",
       "                        <td id=\"T_331c138a_8cea_11ea_b2a2_acde48001122row1_col22\" class=\"data row1 col22\" >0.94</td>\n",
       "                        <td id=\"T_331c138a_8cea_11ea_b2a2_acde48001122row1_col23\" class=\"data row1 col23\" >0.69</td>\n",
       "                        <td id=\"T_331c138a_8cea_11ea_b2a2_acde48001122row1_col24\" class=\"data row1 col24\" >2</td>\n",
       "                        <td id=\"T_331c138a_8cea_11ea_b2a2_acde48001122row1_col25\" class=\"data row1 col25\" >1.41</td>\n",
       "                        <td id=\"T_331c138a_8cea_11ea_b2a2_acde48001122row1_col26\" class=\"data row1 col26\" >0.58</td>\n",
       "                        <td id=\"T_331c138a_8cea_11ea_b2a2_acde48001122row1_col27\" class=\"data row1 col27\" >1.5</td>\n",
       "                        <td id=\"T_331c138a_8cea_11ea_b2a2_acde48001122row1_col28\" class=\"data row1 col28\" >1.44</td>\n",
       "                        <td id=\"T_331c138a_8cea_11ea_b2a2_acde48001122row1_col29\" class=\"data row1 col29\" >1.33</td>\n",
       "                        <td id=\"T_331c138a_8cea_11ea_b2a2_acde48001122row1_col30\" class=\"data row1 col30\" >0.52</td>\n",
       "                        <td id=\"T_331c138a_8cea_11ea_b2a2_acde48001122row1_col31\" class=\"data row1 col31\" >1</td>\n",
       "                        <td id=\"T_331c138a_8cea_11ea_b2a2_acde48001122row1_col32\" class=\"data row1 col32\" >0.48</td>\n",
       "                        <td id=\"T_331c138a_8cea_11ea_b2a2_acde48001122row1_col33\" class=\"data row1 col33\" >3</td>\n",
       "                        <td id=\"T_331c138a_8cea_11ea_b2a2_acde48001122row1_col34\" class=\"data row1 col34\" >3.23</td>\n",
       "                        <td id=\"T_331c138a_8cea_11ea_b2a2_acde48001122row1_col35\" class=\"data row1 col35\" >0.71</td>\n",
       "                        <td id=\"T_331c138a_8cea_11ea_b2a2_acde48001122row1_col36\" class=\"data row1 col36\" >0.17</td>\n",
       "                        <td id=\"T_331c138a_8cea_11ea_b2a2_acde48001122row1_col37\" class=\"data row1 col37\" >1.2</td>\n",
       "                        <td id=\"T_331c138a_8cea_11ea_b2a2_acde48001122row1_col38\" class=\"data row1 col38\" >2.83</td>\n",
       "                        <td id=\"T_331c138a_8cea_11ea_b2a2_acde48001122row1_col39\" class=\"data row1 col39\" >1.84</td>\n",
       "                        <td id=\"T_331c138a_8cea_11ea_b2a2_acde48001122row1_col40\" class=\"data row1 col40\" >0.1</td>\n",
       "                        <td id=\"T_331c138a_8cea_11ea_b2a2_acde48001122row1_col41\" class=\"data row1 col41\" >8.11</td>\n",
       "                        <td id=\"T_331c138a_8cea_11ea_b2a2_acde48001122row1_col42\" class=\"data row1 col42\" >2.58</td>\n",
       "                        <td id=\"T_331c138a_8cea_11ea_b2a2_acde48001122row1_col43\" class=\"data row1 col43\" >1.5</td>\n",
       "                        <td id=\"T_331c138a_8cea_11ea_b2a2_acde48001122row1_col44\" class=\"data row1 col44\" >1.13</td>\n",
       "                        <td id=\"T_331c138a_8cea_11ea_b2a2_acde48001122row1_col45\" class=\"data row1 col45\" >0.74</td>\n",
       "                        <td id=\"T_331c138a_8cea_11ea_b2a2_acde48001122row1_col46\" class=\"data row1 col46\" >0.45</td>\n",
       "                        <td id=\"T_331c138a_8cea_11ea_b2a2_acde48001122row1_col47\" class=\"data row1 col47\" >3.6</td>\n",
       "                        <td id=\"T_331c138a_8cea_11ea_b2a2_acde48001122row1_col48\" class=\"data row1 col48\" >0.9</td>\n",
       "                        <td id=\"T_331c138a_8cea_11ea_b2a2_acde48001122row1_col49\" class=\"data row1 col49\" >0.8</td>\n",
       "                        <td id=\"T_331c138a_8cea_11ea_b2a2_acde48001122row1_col50\" class=\"data row1 col50\" >0.96</td>\n",
       "                        <td id=\"T_331c138a_8cea_11ea_b2a2_acde48001122row1_col51\" class=\"data row1 col51\" >0.92</td>\n",
       "                        <td id=\"T_331c138a_8cea_11ea_b2a2_acde48001122row1_col52\" class=\"data row1 col52\" >0.47</td>\n",
       "            </tr>\n",
       "            <tr>\n",
       "                        <th id=\"T_331c138a_8cea_11ea_b2a2_acde48001122level0_row2\" class=\"row_heading level0 row2\" >direct</th>\n",
       "                        <td id=\"T_331c138a_8cea_11ea_b2a2_acde48001122row2_col0\" class=\"data row2 col0\" >1.78</td>\n",
       "                        <td id=\"T_331c138a_8cea_11ea_b2a2_acde48001122row2_col1\" class=\"data row2 col1\" >1.56</td>\n",
       "                        <td id=\"T_331c138a_8cea_11ea_b2a2_acde48001122row2_col2\" class=\"data row2 col2\" >1</td>\n",
       "                        <td id=\"T_331c138a_8cea_11ea_b2a2_acde48001122row2_col3\" class=\"data row2 col3\" >1.39</td>\n",
       "                        <td id=\"T_331c138a_8cea_11ea_b2a2_acde48001122row2_col4\" class=\"data row2 col4\" >1.07</td>\n",
       "                        <td id=\"T_331c138a_8cea_11ea_b2a2_acde48001122row2_col5\" class=\"data row2 col5\" >1.71</td>\n",
       "                        <td id=\"T_331c138a_8cea_11ea_b2a2_acde48001122row2_col6\" class=\"data row2 col6\" >0.94</td>\n",
       "                        <td id=\"T_331c138a_8cea_11ea_b2a2_acde48001122row2_col7\" class=\"data row2 col7\" >1.22</td>\n",
       "                        <td id=\"T_331c138a_8cea_11ea_b2a2_acde48001122row2_col8\" class=\"data row2 col8\" >0.78</td>\n",
       "                        <td id=\"T_331c138a_8cea_11ea_b2a2_acde48001122row2_col9\" class=\"data row2 col9\" >1.04</td>\n",
       "                        <td id=\"T_331c138a_8cea_11ea_b2a2_acde48001122row2_col10\" class=\"data row2 col10\" >0.89</td>\n",
       "                        <td id=\"T_331c138a_8cea_11ea_b2a2_acde48001122row2_col11\" class=\"data row2 col11\" >1.29</td>\n",
       "                        <td id=\"T_331c138a_8cea_11ea_b2a2_acde48001122row2_col12\" class=\"data row2 col12\" >0.99</td>\n",
       "                        <td id=\"T_331c138a_8cea_11ea_b2a2_acde48001122row2_col13\" class=\"data row2 col13\" >1.6</td>\n",
       "                        <td id=\"T_331c138a_8cea_11ea_b2a2_acde48001122row2_col14\" class=\"data row2 col14\" >1.06</td>\n",
       "                        <td id=\"T_331c138a_8cea_11ea_b2a2_acde48001122row2_col15\" class=\"data row2 col15\" >1.26</td>\n",
       "                        <td id=\"T_331c138a_8cea_11ea_b2a2_acde48001122row2_col16\" class=\"data row2 col16\" >1.16</td>\n",
       "                        <td id=\"T_331c138a_8cea_11ea_b2a2_acde48001122row2_col17\" class=\"data row2 col17\" >1.15</td>\n",
       "                        <td id=\"T_331c138a_8cea_11ea_b2a2_acde48001122row2_col18\" class=\"data row2 col18\" >1.64</td>\n",
       "                        <td id=\"T_331c138a_8cea_11ea_b2a2_acde48001122row2_col19\" class=\"data row2 col19\" >1.33</td>\n",
       "                        <td id=\"T_331c138a_8cea_11ea_b2a2_acde48001122row2_col20\" class=\"data row2 col20\" >0.76</td>\n",
       "                        <td id=\"T_331c138a_8cea_11ea_b2a2_acde48001122row2_col21\" class=\"data row2 col21\" >1.07</td>\n",
       "                        <td id=\"T_331c138a_8cea_11ea_b2a2_acde48001122row2_col22\" class=\"data row2 col22\" >0.95</td>\n",
       "                        <td id=\"T_331c138a_8cea_11ea_b2a2_acde48001122row2_col23\" class=\"data row2 col23\" >1.22</td>\n",
       "                        <td id=\"T_331c138a_8cea_11ea_b2a2_acde48001122row2_col24\" class=\"data row2 col24\" >1.11</td>\n",
       "                        <td id=\"T_331c138a_8cea_11ea_b2a2_acde48001122row2_col25\" class=\"data row2 col25\" >1.26</td>\n",
       "                        <td id=\"T_331c138a_8cea_11ea_b2a2_acde48001122row2_col26\" class=\"data row2 col26\" >1.11</td>\n",
       "                        <td id=\"T_331c138a_8cea_11ea_b2a2_acde48001122row2_col27\" class=\"data row2 col27\" >1.26</td>\n",
       "                        <td id=\"T_331c138a_8cea_11ea_b2a2_acde48001122row2_col28\" class=\"data row2 col28\" >1.19</td>\n",
       "                        <td id=\"T_331c138a_8cea_11ea_b2a2_acde48001122row2_col29\" class=\"data row2 col29\" >1.15</td>\n",
       "                        <td id=\"T_331c138a_8cea_11ea_b2a2_acde48001122row2_col30\" class=\"data row2 col30\" >1.1</td>\n",
       "                        <td id=\"T_331c138a_8cea_11ea_b2a2_acde48001122row2_col31\" class=\"data row2 col31\" >0.92</td>\n",
       "                        <td id=\"T_331c138a_8cea_11ea_b2a2_acde48001122row2_col32\" class=\"data row2 col32\" >0.94</td>\n",
       "                        <td id=\"T_331c138a_8cea_11ea_b2a2_acde48001122row2_col33\" class=\"data row2 col33\" >0.95</td>\n",
       "                        <td id=\"T_331c138a_8cea_11ea_b2a2_acde48001122row2_col34\" class=\"data row2 col34\" >0.96</td>\n",
       "                        <td id=\"T_331c138a_8cea_11ea_b2a2_acde48001122row2_col35\" class=\"data row2 col35\" >1.29</td>\n",
       "                        <td id=\"T_331c138a_8cea_11ea_b2a2_acde48001122row2_col36\" class=\"data row2 col36\" >1.01</td>\n",
       "                        <td id=\"T_331c138a_8cea_11ea_b2a2_acde48001122row2_col37\" class=\"data row2 col37\" >1.22</td>\n",
       "                        <td id=\"T_331c138a_8cea_11ea_b2a2_acde48001122row2_col38\" class=\"data row2 col38\" >1.03</td>\n",
       "                        <td id=\"T_331c138a_8cea_11ea_b2a2_acde48001122row2_col39\" class=\"data row2 col39\" >1.23</td>\n",
       "                        <td id=\"T_331c138a_8cea_11ea_b2a2_acde48001122row2_col40\" class=\"data row2 col40\" >1.01</td>\n",
       "                        <td id=\"T_331c138a_8cea_11ea_b2a2_acde48001122row2_col41\" class=\"data row2 col41\" >1.15</td>\n",
       "                        <td id=\"T_331c138a_8cea_11ea_b2a2_acde48001122row2_col42\" class=\"data row2 col42\" >1.06</td>\n",
       "                        <td id=\"T_331c138a_8cea_11ea_b2a2_acde48001122row2_col43\" class=\"data row2 col43\" >0.99</td>\n",
       "                        <td id=\"T_331c138a_8cea_11ea_b2a2_acde48001122row2_col44\" class=\"data row2 col44\" >0.9</td>\n",
       "                        <td id=\"T_331c138a_8cea_11ea_b2a2_acde48001122row2_col45\" class=\"data row2 col45\" >0.97</td>\n",
       "                        <td id=\"T_331c138a_8cea_11ea_b2a2_acde48001122row2_col46\" class=\"data row2 col46\" >1.02</td>\n",
       "                        <td id=\"T_331c138a_8cea_11ea_b2a2_acde48001122row2_col47\" class=\"data row2 col47\" >1.32</td>\n",
       "                        <td id=\"T_331c138a_8cea_11ea_b2a2_acde48001122row2_col48\" class=\"data row2 col48\" >0.9</td>\n",
       "                        <td id=\"T_331c138a_8cea_11ea_b2a2_acde48001122row2_col49\" class=\"data row2 col49\" >1.18</td>\n",
       "                        <td id=\"T_331c138a_8cea_11ea_b2a2_acde48001122row2_col50\" class=\"data row2 col50\" >1.15</td>\n",
       "                        <td id=\"T_331c138a_8cea_11ea_b2a2_acde48001122row2_col51\" class=\"data row2 col51\" >1.2</td>\n",
       "                        <td id=\"T_331c138a_8cea_11ea_b2a2_acde48001122row2_col52\" class=\"data row2 col52\" >1.13</td>\n",
       "            </tr>\n",
       "            <tr>\n",
       "                        <th id=\"T_331c138a_8cea_11ea_b2a2_acde48001122level0_row3\" class=\"row_heading level0 row3\" >other</th>\n",
       "                        <td id=\"T_331c138a_8cea_11ea_b2a2_acde48001122row3_col0\" class=\"data row3 col0\" >1.25</td>\n",
       "                        <td id=\"T_331c138a_8cea_11ea_b2a2_acde48001122row3_col1\" class=\"data row3 col1\" >1.23</td>\n",
       "                        <td id=\"T_331c138a_8cea_11ea_b2a2_acde48001122row3_col2\" class=\"data row3 col2\" >0.86</td>\n",
       "                        <td id=\"T_331c138a_8cea_11ea_b2a2_acde48001122row3_col3\" class=\"data row3 col3\" >1.45</td>\n",
       "                        <td id=\"T_331c138a_8cea_11ea_b2a2_acde48001122row3_col4\" class=\"data row3 col4\" >1.02</td>\n",
       "                        <td id=\"T_331c138a_8cea_11ea_b2a2_acde48001122row3_col5\" class=\"data row3 col5\" >0.92</td>\n",
       "                        <td id=\"T_331c138a_8cea_11ea_b2a2_acde48001122row3_col6\" class=\"data row3 col6\" >1.35</td>\n",
       "                        <td id=\"T_331c138a_8cea_11ea_b2a2_acde48001122row3_col7\" class=\"data row3 col7\" >0.87</td>\n",
       "                        <td id=\"T_331c138a_8cea_11ea_b2a2_acde48001122row3_col8\" class=\"data row3 col8\" >0.88</td>\n",
       "                        <td id=\"T_331c138a_8cea_11ea_b2a2_acde48001122row3_col9\" class=\"data row3 col9\" >0.92</td>\n",
       "                        <td id=\"T_331c138a_8cea_11ea_b2a2_acde48001122row3_col10\" class=\"data row3 col10\" >0.93</td>\n",
       "                        <td id=\"T_331c138a_8cea_11ea_b2a2_acde48001122row3_col11\" class=\"data row3 col11\" >0.86</td>\n",
       "                        <td id=\"T_331c138a_8cea_11ea_b2a2_acde48001122row3_col12\" class=\"data row3 col12\" >1.79</td>\n",
       "                        <td id=\"T_331c138a_8cea_11ea_b2a2_acde48001122row3_col13\" class=\"data row3 col13\" >1.04</td>\n",
       "                        <td id=\"T_331c138a_8cea_11ea_b2a2_acde48001122row3_col14\" class=\"data row3 col14\" >0.98</td>\n",
       "                        <td id=\"T_331c138a_8cea_11ea_b2a2_acde48001122row3_col15\" class=\"data row3 col15\" >1.56</td>\n",
       "                        <td id=\"T_331c138a_8cea_11ea_b2a2_acde48001122row3_col16\" class=\"data row3 col16\" >1.07</td>\n",
       "                        <td id=\"T_331c138a_8cea_11ea_b2a2_acde48001122row3_col17\" class=\"data row3 col17\" >1.37</td>\n",
       "                        <td id=\"T_331c138a_8cea_11ea_b2a2_acde48001122row3_col18\" class=\"data row3 col18\" >1.15</td>\n",
       "                        <td id=\"T_331c138a_8cea_11ea_b2a2_acde48001122row3_col19\" class=\"data row3 col19\" >1</td>\n",
       "                        <td id=\"T_331c138a_8cea_11ea_b2a2_acde48001122row3_col20\" class=\"data row3 col20\" >0.88</td>\n",
       "                        <td id=\"T_331c138a_8cea_11ea_b2a2_acde48001122row3_col21\" class=\"data row3 col21\" >0.82</td>\n",
       "                        <td id=\"T_331c138a_8cea_11ea_b2a2_acde48001122row3_col22\" class=\"data row3 col22\" >0.99</td>\n",
       "                        <td id=\"T_331c138a_8cea_11ea_b2a2_acde48001122row3_col23\" class=\"data row3 col23\" >1.38</td>\n",
       "                        <td id=\"T_331c138a_8cea_11ea_b2a2_acde48001122row3_col24\" class=\"data row3 col24\" >1.25</td>\n",
       "                        <td id=\"T_331c138a_8cea_11ea_b2a2_acde48001122row3_col25\" class=\"data row3 col25\" >1.06</td>\n",
       "                        <td id=\"T_331c138a_8cea_11ea_b2a2_acde48001122row3_col26\" class=\"data row3 col26\" >1.15</td>\n",
       "                        <td id=\"T_331c138a_8cea_11ea_b2a2_acde48001122row3_col27\" class=\"data row3 col27\" >1.25</td>\n",
       "                        <td id=\"T_331c138a_8cea_11ea_b2a2_acde48001122row3_col28\" class=\"data row3 col28\" >1.1</td>\n",
       "                        <td id=\"T_331c138a_8cea_11ea_b2a2_acde48001122row3_col29\" class=\"data row3 col29\" >1.16</td>\n",
       "                        <td id=\"T_331c138a_8cea_11ea_b2a2_acde48001122row3_col30\" class=\"data row3 col30\" >0.37</td>\n",
       "                        <td id=\"T_331c138a_8cea_11ea_b2a2_acde48001122row3_col31\" class=\"data row3 col31\" >0.71</td>\n",
       "                        <td id=\"T_331c138a_8cea_11ea_b2a2_acde48001122row3_col32\" class=\"data row3 col32\" >1.28</td>\n",
       "                        <td id=\"T_331c138a_8cea_11ea_b2a2_acde48001122row3_col33\" class=\"data row3 col33\" >1.47</td>\n",
       "                        <td id=\"T_331c138a_8cea_11ea_b2a2_acde48001122row3_col34\" class=\"data row3 col34\" >0.57</td>\n",
       "                        <td id=\"T_331c138a_8cea_11ea_b2a2_acde48001122row3_col35\" class=\"data row3 col35\" >1.21</td>\n",
       "                        <td id=\"T_331c138a_8cea_11ea_b2a2_acde48001122row3_col36\" class=\"data row3 col36\" >1.04</td>\n",
       "                        <td id=\"T_331c138a_8cea_11ea_b2a2_acde48001122row3_col37\" class=\"data row3 col37\" >1.15</td>\n",
       "                        <td id=\"T_331c138a_8cea_11ea_b2a2_acde48001122row3_col38\" class=\"data row3 col38\" >1.3</td>\n",
       "                        <td id=\"T_331c138a_8cea_11ea_b2a2_acde48001122row3_col39\" class=\"data row3 col39\" >0.98</td>\n",
       "                        <td id=\"T_331c138a_8cea_11ea_b2a2_acde48001122row3_col40\" class=\"data row3 col40\" >0.88</td>\n",
       "                        <td id=\"T_331c138a_8cea_11ea_b2a2_acde48001122row3_col41\" class=\"data row3 col41\" >0.92</td>\n",
       "                        <td id=\"T_331c138a_8cea_11ea_b2a2_acde48001122row3_col42\" class=\"data row3 col42\" >1</td>\n",
       "                        <td id=\"T_331c138a_8cea_11ea_b2a2_acde48001122row3_col43\" class=\"data row3 col43\" >2.22</td>\n",
       "                        <td id=\"T_331c138a_8cea_11ea_b2a2_acde48001122row3_col44\" class=\"data row3 col44\" >0.39</td>\n",
       "                        <td id=\"T_331c138a_8cea_11ea_b2a2_acde48001122row3_col45\" class=\"data row3 col45\" >0.91</td>\n",
       "                        <td id=\"T_331c138a_8cea_11ea_b2a2_acde48001122row3_col46\" class=\"data row3 col46\" >0.75</td>\n",
       "                        <td id=\"T_331c138a_8cea_11ea_b2a2_acde48001122row3_col47\" class=\"data row3 col47\" >2.57</td>\n",
       "                        <td id=\"T_331c138a_8cea_11ea_b2a2_acde48001122row3_col48\" class=\"data row3 col48\" >0.35</td>\n",
       "                        <td id=\"T_331c138a_8cea_11ea_b2a2_acde48001122row3_col49\" class=\"data row3 col49\" >0.94</td>\n",
       "                        <td id=\"T_331c138a_8cea_11ea_b2a2_acde48001122row3_col50\" class=\"data row3 col50\" >0.92</td>\n",
       "                        <td id=\"T_331c138a_8cea_11ea_b2a2_acde48001122row3_col51\" class=\"data row3 col51\" >1.17</td>\n",
       "                        <td id=\"T_331c138a_8cea_11ea_b2a2_acde48001122row3_col52\" class=\"data row3 col52\" >1</td>\n",
       "            </tr>\n",
       "            <tr>\n",
       "                        <th id=\"T_331c138a_8cea_11ea_b2a2_acde48001122level0_row4\" class=\"row_heading level0 row4\" >remarketing</th>\n",
       "                        <td id=\"T_331c138a_8cea_11ea_b2a2_acde48001122row4_col0\" class=\"data row4 col0\" >0</td>\n",
       "                        <td id=\"T_331c138a_8cea_11ea_b2a2_acde48001122row4_col1\" class=\"data row4 col1\" >0</td>\n",
       "                        <td id=\"T_331c138a_8cea_11ea_b2a2_acde48001122row4_col2\" class=\"data row4 col2\" >0</td>\n",
       "                        <td id=\"T_331c138a_8cea_11ea_b2a2_acde48001122row4_col3\" class=\"data row4 col3\" >0</td>\n",
       "                        <td id=\"T_331c138a_8cea_11ea_b2a2_acde48001122row4_col4\" class=\"data row4 col4\" >0</td>\n",
       "                        <td id=\"T_331c138a_8cea_11ea_b2a2_acde48001122row4_col5\" class=\"data row4 col5\" >0</td>\n",
       "                        <td id=\"T_331c138a_8cea_11ea_b2a2_acde48001122row4_col6\" class=\"data row4 col6\" >0</td>\n",
       "                        <td id=\"T_331c138a_8cea_11ea_b2a2_acde48001122row4_col7\" class=\"data row4 col7\" >0</td>\n",
       "                        <td id=\"T_331c138a_8cea_11ea_b2a2_acde48001122row4_col8\" class=\"data row4 col8\" >0</td>\n",
       "                        <td id=\"T_331c138a_8cea_11ea_b2a2_acde48001122row4_col9\" class=\"data row4 col9\" >0</td>\n",
       "                        <td id=\"T_331c138a_8cea_11ea_b2a2_acde48001122row4_col10\" class=\"data row4 col10\" >0</td>\n",
       "                        <td id=\"T_331c138a_8cea_11ea_b2a2_acde48001122row4_col11\" class=\"data row4 col11\" >0</td>\n",
       "                        <td id=\"T_331c138a_8cea_11ea_b2a2_acde48001122row4_col12\" class=\"data row4 col12\" >0</td>\n",
       "                        <td id=\"T_331c138a_8cea_11ea_b2a2_acde48001122row4_col13\" class=\"data row4 col13\" >0</td>\n",
       "                        <td id=\"T_331c138a_8cea_11ea_b2a2_acde48001122row4_col14\" class=\"data row4 col14\" >0</td>\n",
       "                        <td id=\"T_331c138a_8cea_11ea_b2a2_acde48001122row4_col15\" class=\"data row4 col15\" >0</td>\n",
       "                        <td id=\"T_331c138a_8cea_11ea_b2a2_acde48001122row4_col16\" class=\"data row4 col16\" >0</td>\n",
       "                        <td id=\"T_331c138a_8cea_11ea_b2a2_acde48001122row4_col17\" class=\"data row4 col17\" >0</td>\n",
       "                        <td id=\"T_331c138a_8cea_11ea_b2a2_acde48001122row4_col18\" class=\"data row4 col18\" >4.4</td>\n",
       "                        <td id=\"T_331c138a_8cea_11ea_b2a2_acde48001122row4_col19\" class=\"data row4 col19\" >1.09</td>\n",
       "                        <td id=\"T_331c138a_8cea_11ea_b2a2_acde48001122row4_col20\" class=\"data row4 col20\" >0.58</td>\n",
       "                        <td id=\"T_331c138a_8cea_11ea_b2a2_acde48001122row4_col21\" class=\"data row4 col21\" >1</td>\n",
       "                        <td id=\"T_331c138a_8cea_11ea_b2a2_acde48001122row4_col22\" class=\"data row4 col22\" >1</td>\n",
       "                        <td id=\"T_331c138a_8cea_11ea_b2a2_acde48001122row4_col23\" class=\"data row4 col23\" >1.21</td>\n",
       "                        <td id=\"T_331c138a_8cea_11ea_b2a2_acde48001122row4_col24\" class=\"data row4 col24\" >1.06</td>\n",
       "                        <td id=\"T_331c138a_8cea_11ea_b2a2_acde48001122row4_col25\" class=\"data row4 col25\" >0.67</td>\n",
       "                        <td id=\"T_331c138a_8cea_11ea_b2a2_acde48001122row4_col26\" class=\"data row4 col26\" >1.33</td>\n",
       "                        <td id=\"T_331c138a_8cea_11ea_b2a2_acde48001122row4_col27\" class=\"data row4 col27\" >0.38</td>\n",
       "                        <td id=\"T_331c138a_8cea_11ea_b2a2_acde48001122row4_col28\" class=\"data row4 col28\" >1.5</td>\n",
       "                        <td id=\"T_331c138a_8cea_11ea_b2a2_acde48001122row4_col29\" class=\"data row4 col29\" >1.11</td>\n",
       "                        <td id=\"T_331c138a_8cea_11ea_b2a2_acde48001122row4_col30\" class=\"data row4 col30\" >0.7</td>\n",
       "                        <td id=\"T_331c138a_8cea_11ea_b2a2_acde48001122row4_col31\" class=\"data row4 col31\" >1.43</td>\n",
       "                        <td id=\"T_331c138a_8cea_11ea_b2a2_acde48001122row4_col32\" class=\"data row4 col32\" >1</td>\n",
       "                        <td id=\"T_331c138a_8cea_11ea_b2a2_acde48001122row4_col33\" class=\"data row4 col33\" >0.7</td>\n",
       "                        <td id=\"T_331c138a_8cea_11ea_b2a2_acde48001122row4_col34\" class=\"data row4 col34\" >1</td>\n",
       "                        <td id=\"T_331c138a_8cea_11ea_b2a2_acde48001122row4_col35\" class=\"data row4 col35\" >0.86</td>\n",
       "                        <td id=\"T_331c138a_8cea_11ea_b2a2_acde48001122row4_col36\" class=\"data row4 col36\" >0.83</td>\n",
       "                        <td id=\"T_331c138a_8cea_11ea_b2a2_acde48001122row4_col37\" class=\"data row4 col37\" >0</td>\n",
       "                        <td id=\"T_331c138a_8cea_11ea_b2a2_acde48001122row4_col38\" class=\"data row4 col38\" >0</td>\n",
       "                        <td id=\"T_331c138a_8cea_11ea_b2a2_acde48001122row4_col39\" class=\"data row4 col39\" >8.5</td>\n",
       "                        <td id=\"T_331c138a_8cea_11ea_b2a2_acde48001122row4_col40\" class=\"data row4 col40\" >0.82</td>\n",
       "                        <td id=\"T_331c138a_8cea_11ea_b2a2_acde48001122row4_col41\" class=\"data row4 col41\" >1.86</td>\n",
       "                        <td id=\"T_331c138a_8cea_11ea_b2a2_acde48001122row4_col42\" class=\"data row4 col42\" >0.77</td>\n",
       "                        <td id=\"T_331c138a_8cea_11ea_b2a2_acde48001122row4_col43\" class=\"data row4 col43\" >1</td>\n",
       "                        <td id=\"T_331c138a_8cea_11ea_b2a2_acde48001122row4_col44\" class=\"data row4 col44\" >0.7</td>\n",
       "                        <td id=\"T_331c138a_8cea_11ea_b2a2_acde48001122row4_col45\" class=\"data row4 col45\" >1.43</td>\n",
       "                        <td id=\"T_331c138a_8cea_11ea_b2a2_acde48001122row4_col46\" class=\"data row4 col46\" >1.85</td>\n",
       "                        <td id=\"T_331c138a_8cea_11ea_b2a2_acde48001122row4_col47\" class=\"data row4 col47\" >2.81</td>\n",
       "                        <td id=\"T_331c138a_8cea_11ea_b2a2_acde48001122row4_col48\" class=\"data row4 col48\" >0.72</td>\n",
       "                        <td id=\"T_331c138a_8cea_11ea_b2a2_acde48001122row4_col49\" class=\"data row4 col49\" >2.01</td>\n",
       "                        <td id=\"T_331c138a_8cea_11ea_b2a2_acde48001122row4_col50\" class=\"data row4 col50\" >0.92</td>\n",
       "                        <td id=\"T_331c138a_8cea_11ea_b2a2_acde48001122row4_col51\" class=\"data row4 col51\" >1.06</td>\n",
       "                        <td id=\"T_331c138a_8cea_11ea_b2a2_acde48001122row4_col52\" class=\"data row4 col52\" >0.51</td>\n",
       "            </tr>\n",
       "            <tr>\n",
       "                        <th id=\"T_331c138a_8cea_11ea_b2a2_acde48001122level0_row5\" class=\"row_heading level0 row5\" >sem-brand</th>\n",
       "                        <td id=\"T_331c138a_8cea_11ea_b2a2_acde48001122row5_col0\" class=\"data row5 col0\" >0</td>\n",
       "                        <td id=\"T_331c138a_8cea_11ea_b2a2_acde48001122row5_col1\" class=\"data row5 col1\" >0</td>\n",
       "                        <td id=\"T_331c138a_8cea_11ea_b2a2_acde48001122row5_col2\" class=\"data row5 col2\" >0</td>\n",
       "                        <td id=\"T_331c138a_8cea_11ea_b2a2_acde48001122row5_col3\" class=\"data row5 col3\" >0</td>\n",
       "                        <td id=\"T_331c138a_8cea_11ea_b2a2_acde48001122row5_col4\" class=\"data row5 col4\" >0</td>\n",
       "                        <td id=\"T_331c138a_8cea_11ea_b2a2_acde48001122row5_col5\" class=\"data row5 col5\" >0</td>\n",
       "                        <td id=\"T_331c138a_8cea_11ea_b2a2_acde48001122row5_col6\" class=\"data row5 col6\" >5</td>\n",
       "                        <td id=\"T_331c138a_8cea_11ea_b2a2_acde48001122row5_col7\" class=\"data row5 col7\" >2.2</td>\n",
       "                        <td id=\"T_331c138a_8cea_11ea_b2a2_acde48001122row5_col8\" class=\"data row5 col8\" >0.55</td>\n",
       "                        <td id=\"T_331c138a_8cea_11ea_b2a2_acde48001122row5_col9\" class=\"data row5 col9\" >0.83</td>\n",
       "                        <td id=\"T_331c138a_8cea_11ea_b2a2_acde48001122row5_col10\" class=\"data row5 col10\" >1.8</td>\n",
       "                        <td id=\"T_331c138a_8cea_11ea_b2a2_acde48001122row5_col11\" class=\"data row5 col11\" >1.67</td>\n",
       "                        <td id=\"T_331c138a_8cea_11ea_b2a2_acde48001122row5_col12\" class=\"data row5 col12\" >1.07</td>\n",
       "                        <td id=\"T_331c138a_8cea_11ea_b2a2_acde48001122row5_col13\" class=\"data row5 col13\" >1.31</td>\n",
       "                        <td id=\"T_331c138a_8cea_11ea_b2a2_acde48001122row5_col14\" class=\"data row5 col14\" >2.05</td>\n",
       "                        <td id=\"T_331c138a_8cea_11ea_b2a2_acde48001122row5_col15\" class=\"data row5 col15\" >1.02</td>\n",
       "                        <td id=\"T_331c138a_8cea_11ea_b2a2_acde48001122row5_col16\" class=\"data row5 col16\" >1.25</td>\n",
       "                        <td id=\"T_331c138a_8cea_11ea_b2a2_acde48001122row5_col17\" class=\"data row5 col17\" >1.22</td>\n",
       "                        <td id=\"T_331c138a_8cea_11ea_b2a2_acde48001122row5_col18\" class=\"data row5 col18\" >1.33</td>\n",
       "                        <td id=\"T_331c138a_8cea_11ea_b2a2_acde48001122row5_col19\" class=\"data row5 col19\" >1.48</td>\n",
       "                        <td id=\"T_331c138a_8cea_11ea_b2a2_acde48001122row5_col20\" class=\"data row5 col20\" >0.81</td>\n",
       "                        <td id=\"T_331c138a_8cea_11ea_b2a2_acde48001122row5_col21\" class=\"data row5 col21\" >0.88</td>\n",
       "                        <td id=\"T_331c138a_8cea_11ea_b2a2_acde48001122row5_col22\" class=\"data row5 col22\" >1</td>\n",
       "                        <td id=\"T_331c138a_8cea_11ea_b2a2_acde48001122row5_col23\" class=\"data row5 col23\" >1.02</td>\n",
       "                        <td id=\"T_331c138a_8cea_11ea_b2a2_acde48001122row5_col24\" class=\"data row5 col24\" >0.85</td>\n",
       "                        <td id=\"T_331c138a_8cea_11ea_b2a2_acde48001122row5_col25\" class=\"data row5 col25\" >1.73</td>\n",
       "                        <td id=\"T_331c138a_8cea_11ea_b2a2_acde48001122row5_col26\" class=\"data row5 col26\" >1.14</td>\n",
       "                        <td id=\"T_331c138a_8cea_11ea_b2a2_acde48001122row5_col27\" class=\"data row5 col27\" >1.39</td>\n",
       "                        <td id=\"T_331c138a_8cea_11ea_b2a2_acde48001122row5_col28\" class=\"data row5 col28\" >0.96</td>\n",
       "                        <td id=\"T_331c138a_8cea_11ea_b2a2_acde48001122row5_col29\" class=\"data row5 col29\" >1.26</td>\n",
       "                        <td id=\"T_331c138a_8cea_11ea_b2a2_acde48001122row5_col30\" class=\"data row5 col30\" >1.03</td>\n",
       "                        <td id=\"T_331c138a_8cea_11ea_b2a2_acde48001122row5_col31\" class=\"data row5 col31\" >1.16</td>\n",
       "                        <td id=\"T_331c138a_8cea_11ea_b2a2_acde48001122row5_col32\" class=\"data row5 col32\" >1.03</td>\n",
       "                        <td id=\"T_331c138a_8cea_11ea_b2a2_acde48001122row5_col33\" class=\"data row5 col33\" >0.99</td>\n",
       "                        <td id=\"T_331c138a_8cea_11ea_b2a2_acde48001122row5_col34\" class=\"data row5 col34\" >0.96</td>\n",
       "                        <td id=\"T_331c138a_8cea_11ea_b2a2_acde48001122row5_col35\" class=\"data row5 col35\" >1.59</td>\n",
       "                        <td id=\"T_331c138a_8cea_11ea_b2a2_acde48001122row5_col36\" class=\"data row5 col36\" >1.05</td>\n",
       "                        <td id=\"T_331c138a_8cea_11ea_b2a2_acde48001122row5_col37\" class=\"data row5 col37\" >1.31</td>\n",
       "                        <td id=\"T_331c138a_8cea_11ea_b2a2_acde48001122row5_col38\" class=\"data row5 col38\" >1.01</td>\n",
       "                        <td id=\"T_331c138a_8cea_11ea_b2a2_acde48001122row5_col39\" class=\"data row5 col39\" >1.16</td>\n",
       "                        <td id=\"T_331c138a_8cea_11ea_b2a2_acde48001122row5_col40\" class=\"data row5 col40\" >1.1</td>\n",
       "                        <td id=\"T_331c138a_8cea_11ea_b2a2_acde48001122row5_col41\" class=\"data row5 col41\" >1.1</td>\n",
       "                        <td id=\"T_331c138a_8cea_11ea_b2a2_acde48001122row5_col42\" class=\"data row5 col42\" >0.68</td>\n",
       "                        <td id=\"T_331c138a_8cea_11ea_b2a2_acde48001122row5_col43\" class=\"data row5 col43\" >1.6</td>\n",
       "                        <td id=\"T_331c138a_8cea_11ea_b2a2_acde48001122row5_col44\" class=\"data row5 col44\" >0.89</td>\n",
       "                        <td id=\"T_331c138a_8cea_11ea_b2a2_acde48001122row5_col45\" class=\"data row5 col45\" >0.87</td>\n",
       "                        <td id=\"T_331c138a_8cea_11ea_b2a2_acde48001122row5_col46\" class=\"data row5 col46\" >1.36</td>\n",
       "                        <td id=\"T_331c138a_8cea_11ea_b2a2_acde48001122row5_col47\" class=\"data row5 col47\" >1.19</td>\n",
       "                        <td id=\"T_331c138a_8cea_11ea_b2a2_acde48001122row5_col48\" class=\"data row5 col48\" >0.89</td>\n",
       "                        <td id=\"T_331c138a_8cea_11ea_b2a2_acde48001122row5_col49\" class=\"data row5 col49\" >1.56</td>\n",
       "                        <td id=\"T_331c138a_8cea_11ea_b2a2_acde48001122row5_col50\" class=\"data row5 col50\" >1.26</td>\n",
       "                        <td id=\"T_331c138a_8cea_11ea_b2a2_acde48001122row5_col51\" class=\"data row5 col51\" >1.22</td>\n",
       "                        <td id=\"T_331c138a_8cea_11ea_b2a2_acde48001122row5_col52\" class=\"data row5 col52\" >1.08</td>\n",
       "            </tr>\n",
       "            <tr>\n",
       "                        <th id=\"T_331c138a_8cea_11ea_b2a2_acde48001122level0_row6\" class=\"row_heading level0 row6\" >sem-non-brand</th>\n",
       "                        <td id=\"T_331c138a_8cea_11ea_b2a2_acde48001122row6_col0\" class=\"data row6 col0\" >7</td>\n",
       "                        <td id=\"T_331c138a_8cea_11ea_b2a2_acde48001122row6_col1\" class=\"data row6 col1\" >1.21</td>\n",
       "                        <td id=\"T_331c138a_8cea_11ea_b2a2_acde48001122row6_col2\" class=\"data row6 col2\" >1.35</td>\n",
       "                        <td id=\"T_331c138a_8cea_11ea_b2a2_acde48001122row6_col3\" class=\"data row6 col3\" >1.48</td>\n",
       "                        <td id=\"T_331c138a_8cea_11ea_b2a2_acde48001122row6_col4\" class=\"data row6 col4\" >1</td>\n",
       "                        <td id=\"T_331c138a_8cea_11ea_b2a2_acde48001122row6_col5\" class=\"data row6 col5\" >1.18</td>\n",
       "                        <td id=\"T_331c138a_8cea_11ea_b2a2_acde48001122row6_col6\" class=\"data row6 col6\" >0.8</td>\n",
       "                        <td id=\"T_331c138a_8cea_11ea_b2a2_acde48001122row6_col7\" class=\"data row6 col7\" >2.12</td>\n",
       "                        <td id=\"T_331c138a_8cea_11ea_b2a2_acde48001122row6_col8\" class=\"data row6 col8\" >0.74</td>\n",
       "                        <td id=\"T_331c138a_8cea_11ea_b2a2_acde48001122row6_col9\" class=\"data row6 col9\" >0.8</td>\n",
       "                        <td id=\"T_331c138a_8cea_11ea_b2a2_acde48001122row6_col10\" class=\"data row6 col10\" >1.02</td>\n",
       "                        <td id=\"T_331c138a_8cea_11ea_b2a2_acde48001122row6_col11\" class=\"data row6 col11\" >1.2</td>\n",
       "                        <td id=\"T_331c138a_8cea_11ea_b2a2_acde48001122row6_col12\" class=\"data row6 col12\" >1.12</td>\n",
       "                        <td id=\"T_331c138a_8cea_11ea_b2a2_acde48001122row6_col13\" class=\"data row6 col13\" >1.36</td>\n",
       "                        <td id=\"T_331c138a_8cea_11ea_b2a2_acde48001122row6_col14\" class=\"data row6 col14\" >1.79</td>\n",
       "                        <td id=\"T_331c138a_8cea_11ea_b2a2_acde48001122row6_col15\" class=\"data row6 col15\" >1.13</td>\n",
       "                        <td id=\"T_331c138a_8cea_11ea_b2a2_acde48001122row6_col16\" class=\"data row6 col16\" >0.93</td>\n",
       "                        <td id=\"T_331c138a_8cea_11ea_b2a2_acde48001122row6_col17\" class=\"data row6 col17\" >1.23</td>\n",
       "                        <td id=\"T_331c138a_8cea_11ea_b2a2_acde48001122row6_col18\" class=\"data row6 col18\" >1.02</td>\n",
       "                        <td id=\"T_331c138a_8cea_11ea_b2a2_acde48001122row6_col19\" class=\"data row6 col19\" >1.32</td>\n",
       "                        <td id=\"T_331c138a_8cea_11ea_b2a2_acde48001122row6_col20\" class=\"data row6 col20\" >1</td>\n",
       "                        <td id=\"T_331c138a_8cea_11ea_b2a2_acde48001122row6_col21\" class=\"data row6 col21\" >0.93</td>\n",
       "                        <td id=\"T_331c138a_8cea_11ea_b2a2_acde48001122row6_col22\" class=\"data row6 col22\" >0.79</td>\n",
       "                        <td id=\"T_331c138a_8cea_11ea_b2a2_acde48001122row6_col23\" class=\"data row6 col23\" >1.22</td>\n",
       "                        <td id=\"T_331c138a_8cea_11ea_b2a2_acde48001122row6_col24\" class=\"data row6 col24\" >1.03</td>\n",
       "                        <td id=\"T_331c138a_8cea_11ea_b2a2_acde48001122row6_col25\" class=\"data row6 col25\" >1.09</td>\n",
       "                        <td id=\"T_331c138a_8cea_11ea_b2a2_acde48001122row6_col26\" class=\"data row6 col26\" >1.63</td>\n",
       "                        <td id=\"T_331c138a_8cea_11ea_b2a2_acde48001122row6_col27\" class=\"data row6 col27\" >1.38</td>\n",
       "                        <td id=\"T_331c138a_8cea_11ea_b2a2_acde48001122row6_col28\" class=\"data row6 col28\" >1.06</td>\n",
       "                        <td id=\"T_331c138a_8cea_11ea_b2a2_acde48001122row6_col29\" class=\"data row6 col29\" >1.37</td>\n",
       "                        <td id=\"T_331c138a_8cea_11ea_b2a2_acde48001122row6_col30\" class=\"data row6 col30\" >0.88</td>\n",
       "                        <td id=\"T_331c138a_8cea_11ea_b2a2_acde48001122row6_col31\" class=\"data row6 col31\" >0.75</td>\n",
       "                        <td id=\"T_331c138a_8cea_11ea_b2a2_acde48001122row6_col32\" class=\"data row6 col32\" >0.78</td>\n",
       "                        <td id=\"T_331c138a_8cea_11ea_b2a2_acde48001122row6_col33\" class=\"data row6 col33\" >0.7</td>\n",
       "                        <td id=\"T_331c138a_8cea_11ea_b2a2_acde48001122row6_col34\" class=\"data row6 col34\" >0.63</td>\n",
       "                        <td id=\"T_331c138a_8cea_11ea_b2a2_acde48001122row6_col35\" class=\"data row6 col35\" >1.53</td>\n",
       "                        <td id=\"T_331c138a_8cea_11ea_b2a2_acde48001122row6_col36\" class=\"data row6 col36\" >1.23</td>\n",
       "                        <td id=\"T_331c138a_8cea_11ea_b2a2_acde48001122row6_col37\" class=\"data row6 col37\" >1.44</td>\n",
       "                        <td id=\"T_331c138a_8cea_11ea_b2a2_acde48001122row6_col38\" class=\"data row6 col38\" >1.13</td>\n",
       "                        <td id=\"T_331c138a_8cea_11ea_b2a2_acde48001122row6_col39\" class=\"data row6 col39\" >1.05</td>\n",
       "                        <td id=\"T_331c138a_8cea_11ea_b2a2_acde48001122row6_col40\" class=\"data row6 col40\" >1.22</td>\n",
       "                        <td id=\"T_331c138a_8cea_11ea_b2a2_acde48001122row6_col41\" class=\"data row6 col41\" >1.21</td>\n",
       "                        <td id=\"T_331c138a_8cea_11ea_b2a2_acde48001122row6_col42\" class=\"data row6 col42\" >0.94</td>\n",
       "                        <td id=\"T_331c138a_8cea_11ea_b2a2_acde48001122row6_col43\" class=\"data row6 col43\" >0.83</td>\n",
       "                        <td id=\"T_331c138a_8cea_11ea_b2a2_acde48001122row6_col44\" class=\"data row6 col44\" >0.88</td>\n",
       "                        <td id=\"T_331c138a_8cea_11ea_b2a2_acde48001122row6_col45\" class=\"data row6 col45\" >0.81</td>\n",
       "                        <td id=\"T_331c138a_8cea_11ea_b2a2_acde48001122row6_col46\" class=\"data row6 col46\" >1.26</td>\n",
       "                        <td id=\"T_331c138a_8cea_11ea_b2a2_acde48001122row6_col47\" class=\"data row6 col47\" >1.28</td>\n",
       "                        <td id=\"T_331c138a_8cea_11ea_b2a2_acde48001122row6_col48\" class=\"data row6 col48\" >1.05</td>\n",
       "                        <td id=\"T_331c138a_8cea_11ea_b2a2_acde48001122row6_col49\" class=\"data row6 col49\" >1.21</td>\n",
       "                        <td id=\"T_331c138a_8cea_11ea_b2a2_acde48001122row6_col50\" class=\"data row6 col50\" >1.12</td>\n",
       "                        <td id=\"T_331c138a_8cea_11ea_b2a2_acde48001122row6_col51\" class=\"data row6 col51\" >1.09</td>\n",
       "                        <td id=\"T_331c138a_8cea_11ea_b2a2_acde48001122row6_col52\" class=\"data row6 col52\" >0.54</td>\n",
       "            </tr>\n",
       "            <tr>\n",
       "                        <th id=\"T_331c138a_8cea_11ea_b2a2_acde48001122level0_row7\" class=\"row_heading level0 row7\" >seo</th>\n",
       "                        <td id=\"T_331c138a_8cea_11ea_b2a2_acde48001122row7_col0\" class=\"data row7 col0\" >1.5</td>\n",
       "                        <td id=\"T_331c138a_8cea_11ea_b2a2_acde48001122row7_col1\" class=\"data row7 col1\" >3.67</td>\n",
       "                        <td id=\"T_331c138a_8cea_11ea_b2a2_acde48001122row7_col2\" class=\"data row7 col2\" >0.77</td>\n",
       "                        <td id=\"T_331c138a_8cea_11ea_b2a2_acde48001122row7_col3\" class=\"data row7 col3\" >2</td>\n",
       "                        <td id=\"T_331c138a_8cea_11ea_b2a2_acde48001122row7_col4\" class=\"data row7 col4\" >0.74</td>\n",
       "                        <td id=\"T_331c138a_8cea_11ea_b2a2_acde48001122row7_col5\" class=\"data row7 col5\" >1.52</td>\n",
       "                        <td id=\"T_331c138a_8cea_11ea_b2a2_acde48001122row7_col6\" class=\"data row7 col6\" >0.95</td>\n",
       "                        <td id=\"T_331c138a_8cea_11ea_b2a2_acde48001122row7_col7\" class=\"data row7 col7\" >0.92</td>\n",
       "                        <td id=\"T_331c138a_8cea_11ea_b2a2_acde48001122row7_col8\" class=\"data row7 col8\" >1</td>\n",
       "                        <td id=\"T_331c138a_8cea_11ea_b2a2_acde48001122row7_col9\" class=\"data row7 col9\" >0.76</td>\n",
       "                        <td id=\"T_331c138a_8cea_11ea_b2a2_acde48001122row7_col10\" class=\"data row7 col10\" >1.12</td>\n",
       "                        <td id=\"T_331c138a_8cea_11ea_b2a2_acde48001122row7_col11\" class=\"data row7 col11\" >0.57</td>\n",
       "                        <td id=\"T_331c138a_8cea_11ea_b2a2_acde48001122row7_col12\" class=\"data row7 col12\" >1.5</td>\n",
       "                        <td id=\"T_331c138a_8cea_11ea_b2a2_acde48001122row7_col13\" class=\"data row7 col13\" >1.04</td>\n",
       "                        <td id=\"T_331c138a_8cea_11ea_b2a2_acde48001122row7_col14\" class=\"data row7 col14\" >0.8</td>\n",
       "                        <td id=\"T_331c138a_8cea_11ea_b2a2_acde48001122row7_col15\" class=\"data row7 col15\" >2.25</td>\n",
       "                        <td id=\"T_331c138a_8cea_11ea_b2a2_acde48001122row7_col16\" class=\"data row7 col16\" >1.2</td>\n",
       "                        <td id=\"T_331c138a_8cea_11ea_b2a2_acde48001122row7_col17\" class=\"data row7 col17\" >1.11</td>\n",
       "                        <td id=\"T_331c138a_8cea_11ea_b2a2_acde48001122row7_col18\" class=\"data row7 col18\" >1.88</td>\n",
       "                        <td id=\"T_331c138a_8cea_11ea_b2a2_acde48001122row7_col19\" class=\"data row7 col19\" >1.21</td>\n",
       "                        <td id=\"T_331c138a_8cea_11ea_b2a2_acde48001122row7_col20\" class=\"data row7 col20\" >0.67</td>\n",
       "                        <td id=\"T_331c138a_8cea_11ea_b2a2_acde48001122row7_col21\" class=\"data row7 col21\" >0.29</td>\n",
       "                        <td id=\"T_331c138a_8cea_11ea_b2a2_acde48001122row7_col22\" class=\"data row7 col22\" >0.85</td>\n",
       "                        <td id=\"T_331c138a_8cea_11ea_b2a2_acde48001122row7_col23\" class=\"data row7 col23\" >1</td>\n",
       "                        <td id=\"T_331c138a_8cea_11ea_b2a2_acde48001122row7_col24\" class=\"data row7 col24\" >2.57</td>\n",
       "                        <td id=\"T_331c138a_8cea_11ea_b2a2_acde48001122row7_col25\" class=\"data row7 col25\" >0.71</td>\n",
       "                        <td id=\"T_331c138a_8cea_11ea_b2a2_acde48001122row7_col26\" class=\"data row7 col26\" >2.36</td>\n",
       "                        <td id=\"T_331c138a_8cea_11ea_b2a2_acde48001122row7_col27\" class=\"data row7 col27\" >0.77</td>\n",
       "                        <td id=\"T_331c138a_8cea_11ea_b2a2_acde48001122row7_col28\" class=\"data row7 col28\" >1.46</td>\n",
       "                        <td id=\"T_331c138a_8cea_11ea_b2a2_acde48001122row7_col29\" class=\"data row7 col29\" >1.04</td>\n",
       "                        <td id=\"T_331c138a_8cea_11ea_b2a2_acde48001122row7_col30\" class=\"data row7 col30\" >1.23</td>\n",
       "                        <td id=\"T_331c138a_8cea_11ea_b2a2_acde48001122row7_col31\" class=\"data row7 col31\" >0.8</td>\n",
       "                        <td id=\"T_331c138a_8cea_11ea_b2a2_acde48001122row7_col32\" class=\"data row7 col32\" >0.96</td>\n",
       "                        <td id=\"T_331c138a_8cea_11ea_b2a2_acde48001122row7_col33\" class=\"data row7 col33\" >1.11</td>\n",
       "                        <td id=\"T_331c138a_8cea_11ea_b2a2_acde48001122row7_col34\" class=\"data row7 col34\" >0.92</td>\n",
       "                        <td id=\"T_331c138a_8cea_11ea_b2a2_acde48001122row7_col35\" class=\"data row7 col35\" >1.32</td>\n",
       "                        <td id=\"T_331c138a_8cea_11ea_b2a2_acde48001122row7_col36\" class=\"data row7 col36\" >1.03</td>\n",
       "                        <td id=\"T_331c138a_8cea_11ea_b2a2_acde48001122row7_col37\" class=\"data row7 col37\" >1.11</td>\n",
       "                        <td id=\"T_331c138a_8cea_11ea_b2a2_acde48001122row7_col38\" class=\"data row7 col38\" >2.1</td>\n",
       "                        <td id=\"T_331c138a_8cea_11ea_b2a2_acde48001122row7_col39\" class=\"data row7 col39\" >0.33</td>\n",
       "                        <td id=\"T_331c138a_8cea_11ea_b2a2_acde48001122row7_col40\" class=\"data row7 col40\" >0.28</td>\n",
       "                        <td id=\"T_331c138a_8cea_11ea_b2a2_acde48001122row7_col41\" class=\"data row7 col41\" >4.61</td>\n",
       "                        <td id=\"T_331c138a_8cea_11ea_b2a2_acde48001122row7_col42\" class=\"data row7 col42\" >2.86</td>\n",
       "                        <td id=\"T_331c138a_8cea_11ea_b2a2_acde48001122row7_col43\" class=\"data row7 col43\" >1.26</td>\n",
       "                        <td id=\"T_331c138a_8cea_11ea_b2a2_acde48001122row7_col44\" class=\"data row7 col44\" >0.68</td>\n",
       "                        <td id=\"T_331c138a_8cea_11ea_b2a2_acde48001122row7_col45\" class=\"data row7 col45\" >0.95</td>\n",
       "                        <td id=\"T_331c138a_8cea_11ea_b2a2_acde48001122row7_col46\" class=\"data row7 col46\" >1.19</td>\n",
       "                        <td id=\"T_331c138a_8cea_11ea_b2a2_acde48001122row7_col47\" class=\"data row7 col47\" >1.33</td>\n",
       "                        <td id=\"T_331c138a_8cea_11ea_b2a2_acde48001122row7_col48\" class=\"data row7 col48\" >1.05</td>\n",
       "                        <td id=\"T_331c138a_8cea_11ea_b2a2_acde48001122row7_col49\" class=\"data row7 col49\" >0.94</td>\n",
       "                        <td id=\"T_331c138a_8cea_11ea_b2a2_acde48001122row7_col50\" class=\"data row7 col50\" >0.86</td>\n",
       "                        <td id=\"T_331c138a_8cea_11ea_b2a2_acde48001122row7_col51\" class=\"data row7 col51\" >1.14</td>\n",
       "                        <td id=\"T_331c138a_8cea_11ea_b2a2_acde48001122row7_col52\" class=\"data row7 col52\" >1.12</td>\n",
       "            </tr>\n",
       "    </tbody></table>"
      ],
      "text/plain": [
       "<pandas.io.formats.style.Styler at 0x122389110>"
      ]
     },
     "execution_count": 26,
     "metadata": {},
     "output_type": "execute_result"
    }
   ],
   "source": [
    "add.replace(np.inf, np.nan).round(2).fillna(0).style.applymap(color_negative_red)"
   ]
  },
  {
   "cell_type": "markdown",
   "metadata": {},
   "source": [
    "Which of these channels are bringing you most conversions?"
   ]
  },
  {
   "cell_type": "code",
   "execution_count": 160,
   "metadata": {
    "scrolled": true
   },
   "outputs": [],
   "source": [
    "conversion_rate = df_train.groupby(['affiliate_channel', 'booked']).size() / df_train.groupby(['affiliate_channel']).size()"
   ]
  },
  {
   "cell_type": "code",
   "execution_count": 175,
   "metadata": {},
   "outputs": [
    {
     "data": {
      "text/html": [
       "<div>\n",
       "<style scoped>\n",
       "    .dataframe tbody tr th:only-of-type {\n",
       "        vertical-align: middle;\n",
       "    }\n",
       "\n",
       "    .dataframe tbody tr th {\n",
       "        vertical-align: top;\n",
       "    }\n",
       "\n",
       "    .dataframe thead th {\n",
       "        text-align: right;\n",
       "    }\n",
       "</style>\n",
       "<table border=\"1\" class=\"dataframe\">\n",
       "  <thead>\n",
       "    <tr style=\"text-align: right;\">\n",
       "      <th>booked</th>\n",
       "      <th>False</th>\n",
       "      <th>True</th>\n",
       "    </tr>\n",
       "    <tr>\n",
       "      <th>affiliate_channel</th>\n",
       "      <th></th>\n",
       "      <th></th>\n",
       "    </tr>\n",
       "  </thead>\n",
       "  <tbody>\n",
       "    <tr>\n",
       "      <td>seo</td>\n",
       "      <td>0.543461</td>\n",
       "      <td>0.456539</td>\n",
       "    </tr>\n",
       "    <tr>\n",
       "      <td>direct</td>\n",
       "      <td>0.568727</td>\n",
       "      <td>0.431273</td>\n",
       "    </tr>\n",
       "    <tr>\n",
       "      <td>sem-brand</td>\n",
       "      <td>0.574045</td>\n",
       "      <td>0.425955</td>\n",
       "    </tr>\n",
       "    <tr>\n",
       "      <td>other</td>\n",
       "      <td>0.598259</td>\n",
       "      <td>0.401741</td>\n",
       "    </tr>\n",
       "    <tr>\n",
       "      <td>sem-non-brand</td>\n",
       "      <td>0.620569</td>\n",
       "      <td>0.379431</td>\n",
       "    </tr>\n",
       "    <tr>\n",
       "      <td>api</td>\n",
       "      <td>0.658994</td>\n",
       "      <td>0.341006</td>\n",
       "    </tr>\n",
       "    <tr>\n",
       "      <td>remarketing</td>\n",
       "      <td>0.664234</td>\n",
       "      <td>0.335766</td>\n",
       "    </tr>\n",
       "    <tr>\n",
       "      <td>content</td>\n",
       "      <td>0.858663</td>\n",
       "      <td>0.141337</td>\n",
       "    </tr>\n",
       "  </tbody>\n",
       "</table>\n",
       "</div>"
      ],
      "text/plain": [
       "booked                False     True \n",
       "affiliate_channel                    \n",
       "seo                0.543461  0.456539\n",
       "direct             0.568727  0.431273\n",
       "sem-brand          0.574045  0.425955\n",
       "other              0.598259  0.401741\n",
       "sem-non-brand      0.620569  0.379431\n",
       "api                0.658994  0.341006\n",
       "remarketing        0.664234  0.335766\n",
       "content            0.858663  0.141337"
      ]
     },
     "execution_count": 175,
     "metadata": {},
     "output_type": "execute_result"
    }
   ],
   "source": [
    "conversion_rate.unstack().sort_values(by = True, ascending = False)"
   ]
  },
  {
   "cell_type": "code",
   "execution_count": 66,
   "metadata": {},
   "outputs": [],
   "source": [
    "y = df_train.age.dropna().value_counts()\n",
    "x = y.index"
   ]
  },
  {
   "cell_type": "code",
   "execution_count": 67,
   "metadata": {},
   "outputs": [
    {
     "data": {
      "image/png": "[encoded data removed]",
      "text/plain": [
       "<Figure size 1152x432 with 1 Axes>"
      ]
     },
     "metadata": {
      "needs_background": "light"
     },
     "output_type": "display_data"
    }
   ],
   "source": [
    "plt.figure(figsize=(16,6))\n",
    "plt.bar(x, y)\n",
    "plt.grid(alpha = 0.5)\n",
    "plt.xticks(rotation = 90)\n",
    "plt.yscale(\"log\")"
   ]
  },
  {
   "cell_type": "markdown",
   "metadata": {},
   "source": [
    "use of loc"
   ]
  },
  {
   "cell_type": "code",
   "execution_count": 68,
   "metadata": {},
   "outputs": [],
   "source": [
    "age_mask = df_train.age > 1000\n",
    "df_train.loc[age_mask, 'age'] = 2015 - df_train.loc[age_mask, 'age']"
   ]
  },
  {
   "cell_type": "code",
   "execution_count": 69,
   "metadata": {},
   "outputs": [],
   "source": [
    "df_train.loc[(df_train.age > 100) | (df_train.age < 18), 'age'] = -1\n",
    "df_train.age.fillna(-1, inplace = True)"
   ]
  },
  {
   "cell_type": "code",
   "execution_count": 70,
   "metadata": {},
   "outputs": [],
   "source": [
    "y = df_train.loc[df_train.age != -1, 'age'].value_counts()\n",
    "x = y.index"
   ]
  },
  {
   "cell_type": "code",
   "execution_count": 72,
   "metadata": {},
   "outputs": [
    {
     "data": {
      "text/plain": [
       "<BarContainer object of 83 artists>"
      ]
     },
     "execution_count": 72,
     "metadata": {},
     "output_type": "execute_result"
    },
    {
     "data": {
      "image/png": "[encoded data removed]",
      "text/plain": [
       "<Figure size 1152x432 with 1 Axes>"
      ]
     },
     "metadata": {
      "needs_background": "light"
     },
     "output_type": "display_data"
    }
   ],
   "source": [
    "plt.figure(figsize=(16,6))\n",
    "plt.bar(x, y)"
   ]
  },
  {
   "cell_type": "code",
   "execution_count": 73,
   "metadata": {},
   "outputs": [
    {
     "data": {
      "text/html": [
       "<div>\n",
       "<style scoped>\n",
       "    .dataframe tbody tr th:only-of-type {\n",
       "        vertical-align: middle;\n",
       "    }\n",
       "\n",
       "    .dataframe tbody tr th {\n",
       "        vertical-align: top;\n",
       "    }\n",
       "\n",
       "    .dataframe thead th {\n",
       "        text-align: right;\n",
       "    }\n",
       "</style>\n",
       "<table border=\"1\" class=\"dataframe\">\n",
       "  <thead>\n",
       "    <tr style=\"text-align: right;\">\n",
       "      <th>country_destination</th>\n",
       "      <th>AU</th>\n",
       "      <th>CA</th>\n",
       "      <th>DE</th>\n",
       "      <th>ES</th>\n",
       "      <th>FR</th>\n",
       "      <th>GB</th>\n",
       "      <th>IT</th>\n",
       "      <th>NDF</th>\n",
       "      <th>NL</th>\n",
       "      <th>PT</th>\n",
       "      <th>US</th>\n",
       "      <th>other</th>\n",
       "      <th>SUM</th>\n",
       "    </tr>\n",
       "    <tr>\n",
       "      <th>gender</th>\n",
       "      <th></th>\n",
       "      <th></th>\n",
       "      <th></th>\n",
       "      <th></th>\n",
       "      <th></th>\n",
       "      <th></th>\n",
       "      <th></th>\n",
       "      <th></th>\n",
       "      <th></th>\n",
       "      <th></th>\n",
       "      <th></th>\n",
       "      <th></th>\n",
       "      <th></th>\n",
       "    </tr>\n",
       "  </thead>\n",
       "  <tbody>\n",
       "    <tr>\n",
       "      <td>-unknown-</td>\n",
       "      <td>0.000670</td>\n",
       "      <td>0.002300</td>\n",
       "      <td>0.001331</td>\n",
       "      <td>0.003350</td>\n",
       "      <td>0.008025</td>\n",
       "      <td>0.003551</td>\n",
       "      <td>0.004872</td>\n",
       "      <td>0.312343</td>\n",
       "      <td>0.001063</td>\n",
       "      <td>0.000323</td>\n",
       "      <td>0.094209</td>\n",
       "      <td>0.016252</td>\n",
       "      <td>0.448290</td>\n",
       "    </tr>\n",
       "    <tr>\n",
       "      <td>FEMALE</td>\n",
       "      <td>0.000970</td>\n",
       "      <td>0.002132</td>\n",
       "      <td>0.001677</td>\n",
       "      <td>0.003996</td>\n",
       "      <td>0.009192</td>\n",
       "      <td>0.004127</td>\n",
       "      <td>0.005111</td>\n",
       "      <td>0.145457</td>\n",
       "      <td>0.001190</td>\n",
       "      <td>0.000365</td>\n",
       "      <td>0.106319</td>\n",
       "      <td>0.014804</td>\n",
       "      <td>0.295342</td>\n",
       "    </tr>\n",
       "    <tr>\n",
       "      <td>MALE</td>\n",
       "      <td>0.000881</td>\n",
       "      <td>0.002235</td>\n",
       "      <td>0.001949</td>\n",
       "      <td>0.003172</td>\n",
       "      <td>0.006254</td>\n",
       "      <td>0.003195</td>\n",
       "      <td>0.003275</td>\n",
       "      <td>0.125176</td>\n",
       "      <td>0.001302</td>\n",
       "      <td>0.000323</td>\n",
       "      <td>0.091154</td>\n",
       "      <td>0.016130</td>\n",
       "      <td>0.255047</td>\n",
       "    </tr>\n",
       "    <tr>\n",
       "      <td>OTHER</td>\n",
       "      <td>0.000005</td>\n",
       "      <td>0.000023</td>\n",
       "      <td>0.000014</td>\n",
       "      <td>0.000019</td>\n",
       "      <td>0.000061</td>\n",
       "      <td>0.000014</td>\n",
       "      <td>0.000023</td>\n",
       "      <td>0.000497</td>\n",
       "      <td>0.000014</td>\n",
       "      <td>0.000005</td>\n",
       "      <td>0.000543</td>\n",
       "      <td>0.000103</td>\n",
       "      <td>0.001321</td>\n",
       "    </tr>\n",
       "    <tr>\n",
       "      <td>SUM</td>\n",
       "      <td>0.002525</td>\n",
       "      <td>0.006690</td>\n",
       "      <td>0.004971</td>\n",
       "      <td>0.010536</td>\n",
       "      <td>0.023532</td>\n",
       "      <td>0.010888</td>\n",
       "      <td>0.013282</td>\n",
       "      <td>0.583473</td>\n",
       "      <td>0.003570</td>\n",
       "      <td>0.001017</td>\n",
       "      <td>0.292226</td>\n",
       "      <td>0.047290</td>\n",
       "      <td>1.000000</td>\n",
       "    </tr>\n",
       "  </tbody>\n",
       "</table>\n",
       "</div>"
      ],
      "text/plain": [
       "country_destination        AU        CA        DE        ES        FR  \\\n",
       "gender                                                                  \n",
       "-unknown-            0.000670  0.002300  0.001331  0.003350  0.008025   \n",
       "FEMALE               0.000970  0.002132  0.001677  0.003996  0.009192   \n",
       "MALE                 0.000881  0.002235  0.001949  0.003172  0.006254   \n",
       "OTHER                0.000005  0.000023  0.000014  0.000019  0.000061   \n",
       "SUM                  0.002525  0.006690  0.004971  0.010536  0.023532   \n",
       "\n",
       "country_destination        GB        IT       NDF        NL        PT  \\\n",
       "gender                                                                  \n",
       "-unknown-            0.003551  0.004872  0.312343  0.001063  0.000323   \n",
       "FEMALE               0.004127  0.005111  0.145457  0.001190  0.000365   \n",
       "MALE                 0.003195  0.003275  0.125176  0.001302  0.000323   \n",
       "OTHER                0.000014  0.000023  0.000497  0.000014  0.000005   \n",
       "SUM                  0.010888  0.013282  0.583473  0.003570  0.001017   \n",
       "\n",
       "country_destination        US     other       SUM  \n",
       "gender                                             \n",
       "-unknown-            0.094209  0.016252  0.448290  \n",
       "FEMALE               0.106319  0.014804  0.295342  \n",
       "MALE                 0.091154  0.016130  0.255047  \n",
       "OTHER                0.000543  0.000103  0.001321  \n",
       "SUM                  0.292226  0.047290  1.000000  "
      ]
     },
     "execution_count": 73,
     "metadata": {},
     "output_type": "execute_result"
    }
   ],
   "source": [
    "gender_destination = pd.crosstab(df_train.gender, df_train.country_destination, normalize = True)\n",
    "gender_destination['SUM'] = gender_destination.agg(np.sum, axis = 1)\n",
    "gender_destination.loc['SUM'] = gender_destination.sum()\n",
    "gender_destination"
   ]
  },
  {
   "cell_type": "code",
   "execution_count": 74,
   "metadata": {},
   "outputs": [],
   "source": [
    "destination_by_gender = pd.DataFrame([])\n",
    "for gender in df_train.gender.unique():\n",
    "    gender_mask = df_train.gender == gender\n",
    "    destination_by_gender = destination_by_gender.append(df_train.loc[gender_mask, 'country_destination'].value_counts(normalize = True).rename(gender))\n",
    "destination_by_gender['SUM'] = destination_by_gender.agg(np.sum, axis = 1)"
   ]
  },
  {
   "cell_type": "code",
   "execution_count": 75,
   "metadata": {},
   "outputs": [
    {
     "data": {
      "text/html": [
       "<div>\n",
       "<style scoped>\n",
       "    .dataframe tbody tr th:only-of-type {\n",
       "        vertical-align: middle;\n",
       "    }\n",
       "\n",
       "    .dataframe tbody tr th {\n",
       "        vertical-align: top;\n",
       "    }\n",
       "\n",
       "    .dataframe thead th {\n",
       "        text-align: right;\n",
       "    }\n",
       "</style>\n",
       "<table border=\"1\" class=\"dataframe\">\n",
       "  <thead>\n",
       "    <tr style=\"text-align: right;\">\n",
       "      <th></th>\n",
       "      <th>AU</th>\n",
       "      <th>CA</th>\n",
       "      <th>DE</th>\n",
       "      <th>ES</th>\n",
       "      <th>FR</th>\n",
       "      <th>GB</th>\n",
       "      <th>IT</th>\n",
       "      <th>NDF</th>\n",
       "      <th>NL</th>\n",
       "      <th>PT</th>\n",
       "      <th>US</th>\n",
       "      <th>other</th>\n",
       "      <th>SUM</th>\n",
       "    </tr>\n",
       "  </thead>\n",
       "  <tbody>\n",
       "    <tr>\n",
       "      <td>-unknown-</td>\n",
       "      <td>0.001494</td>\n",
       "      <td>0.005131</td>\n",
       "      <td>0.002968</td>\n",
       "      <td>0.007472</td>\n",
       "      <td>0.017902</td>\n",
       "      <td>0.007922</td>\n",
       "      <td>0.010869</td>\n",
       "      <td>0.696744</td>\n",
       "      <td>0.002372</td>\n",
       "      <td>0.000721</td>\n",
       "      <td>0.210152</td>\n",
       "      <td>0.036253</td>\n",
       "      <td>1.0</td>\n",
       "    </tr>\n",
       "    <tr>\n",
       "      <td>MALE</td>\n",
       "      <td>0.003453</td>\n",
       "      <td>0.008762</td>\n",
       "      <td>0.007641</td>\n",
       "      <td>0.012436</td>\n",
       "      <td>0.024522</td>\n",
       "      <td>0.012528</td>\n",
       "      <td>0.012840</td>\n",
       "      <td>0.490797</td>\n",
       "      <td>0.005107</td>\n",
       "      <td>0.001267</td>\n",
       "      <td>0.357403</td>\n",
       "      <td>0.063244</td>\n",
       "      <td>1.0</td>\n",
       "    </tr>\n",
       "    <tr>\n",
       "      <td>FEMALE</td>\n",
       "      <td>0.003284</td>\n",
       "      <td>0.007218</td>\n",
       "      <td>0.005679</td>\n",
       "      <td>0.013531</td>\n",
       "      <td>0.031123</td>\n",
       "      <td>0.013975</td>\n",
       "      <td>0.017306</td>\n",
       "      <td>0.492505</td>\n",
       "      <td>0.004029</td>\n",
       "      <td>0.001237</td>\n",
       "      <td>0.359988</td>\n",
       "      <td>0.050126</td>\n",
       "      <td>1.0</td>\n",
       "    </tr>\n",
       "    <tr>\n",
       "      <td>OTHER</td>\n",
       "      <td>0.003546</td>\n",
       "      <td>0.017730</td>\n",
       "      <td>0.010638</td>\n",
       "      <td>0.014184</td>\n",
       "      <td>0.046099</td>\n",
       "      <td>0.010638</td>\n",
       "      <td>0.017730</td>\n",
       "      <td>0.375887</td>\n",
       "      <td>0.010638</td>\n",
       "      <td>0.003546</td>\n",
       "      <td>0.411348</td>\n",
       "      <td>0.078014</td>\n",
       "      <td>1.0</td>\n",
       "    </tr>\n",
       "  </tbody>\n",
       "</table>\n",
       "</div>"
      ],
      "text/plain": [
       "                 AU        CA        DE        ES        FR        GB  \\\n",
       "-unknown-  0.001494  0.005131  0.002968  0.007472  0.017902  0.007922   \n",
       "MALE       0.003453  0.008762  0.007641  0.012436  0.024522  0.012528   \n",
       "FEMALE     0.003284  0.007218  0.005679  0.013531  0.031123  0.013975   \n",
       "OTHER      0.003546  0.017730  0.010638  0.014184  0.046099  0.010638   \n",
       "\n",
       "                 IT       NDF        NL        PT        US     other  SUM  \n",
       "-unknown-  0.010869  0.696744  0.002372  0.000721  0.210152  0.036253  1.0  \n",
       "MALE       0.012840  0.490797  0.005107  0.001267  0.357403  0.063244  1.0  \n",
       "FEMALE     0.017306  0.492505  0.004029  0.001237  0.359988  0.050126  1.0  \n",
       "OTHER      0.017730  0.375887  0.010638  0.003546  0.411348  0.078014  1.0  "
      ]
     },
     "execution_count": 75,
     "metadata": {},
     "output_type": "execute_result"
    }
   ],
   "source": [
    "destination_by_gender"
   ]
  },
  {
   "cell_type": "code",
   "execution_count": 78,
   "metadata": {
    "scrolled": false
   },
   "outputs": [
    {
     "data": {
      "text/plain": [
       "<matplotlib.axes._subplots.AxesSubplot at 0x121969cd0>"
      ]
     },
     "execution_count": 78,
     "metadata": {},
     "output_type": "execute_result"
    },
    {
     "data": {
      "image/png": "[encoded data removed]",
      "text/plain": [
       "<Figure size 864x576 with 1 Axes>"
      ]
     },
     "metadata": {
      "needs_background": "light"
     },
     "output_type": "display_data"
    }
   ],
   "source": [
    "pd.crosstab(df_train['country_destination'], df_train['gender']).plot.bar()"
   ]
  },
  {
   "cell_type": "code",
   "execution_count": 79,
   "metadata": {},
   "outputs": [],
   "source": [
    "gender_country = defaultdict(list)\n",
    "for gender in df_train.gender.unique():\n",
    "    gender_country[gender] = df_train.loc[df_train.gender == gender, 'country_destination'].value_counts()"
   ]
  },
  {
   "cell_type": "code",
   "execution_count": 81,
   "metadata": {},
   "outputs": [
    {
     "data": {
      "image/png": "[encoded data removed]",
      "text/plain": [
       "<Figure size 1152x432 with 1 Axes>"
      ]
     },
     "metadata": {
      "needs_background": "light"
     },
     "output_type": "display_data"
    }
   ],
   "source": [
    "barWidth = 0.25\n",
    "\n",
    "colors = ['#0F4C81', '#F5B895', '#77202F', '#E38690']\n",
    "\n",
    "plt.figure(figsize=(16,6))\n",
    "\n",
    "r1 = np.arange(len(gender_country['-unknown-']))\n",
    "r2 = [x + barWidth for x in r1]\n",
    "r3 = [x + barWidth for x in r2]\n",
    "r4 = [x + barWidth for x in r3]\n",
    "\n",
    "plt.bar(r1, gender_country['-unknown-'], color='#F67280', width=barWidth, edgecolor='white', label='UNKNOWN')\n",
    "plt.bar(r2, gender_country['FEMALE'], color='#C06C84', width=barWidth, edgecolor='white', label='FEMALE')\n",
    "plt.bar(r3, gender_country['MALE'], color='#6C5B7B', width=barWidth, edgecolor='white', label='MALE')\n",
    "plt.bar(r4, gender_country['OTHER'] , color='#355C7D', width=barWidth, edgecolor='white', label='OTHER')\n",
    "\n",
    "plt.xlabel('group', fontweight='bold')\n",
    "plt.xticks([r + barWidth for r in range(len(gender_country['FEMALE']))], df_train.country_destination.unique())\n",
    "plt.legend(framealpha=1, frameon=True);\n",
    "plt.show()"
   ]
  },
  {
   "cell_type": "code",
   "execution_count": 82,
   "metadata": {},
   "outputs": [
    {
     "data": {
      "text/plain": [
       "<matplotlib.axes._subplots.AxesSubplot at 0x1218f5750>"
      ]
     },
     "execution_count": 82,
     "metadata": {},
     "output_type": "execute_result"
    },
    {
     "data": {
      "image/png": "[encoded data removed]",
      "text/plain": [
       "<Figure size 864x576 with 1 Axes>"
      ]
     },
     "metadata": {
      "needs_background": "light"
     },
     "output_type": "display_data"
    }
   ],
   "source": [
    "pd.crosstab(df_train.gender, df_train.first_device_type).plot.bar()"
   ]
  },
  {
   "cell_type": "code",
   "execution_count": 83,
   "metadata": {},
   "outputs": [],
   "source": [
    "#gender_mask = (df_train.gender == '-unknown-')\n",
    "age_mask = (df_train.age != -1)"
   ]
  },
  {
   "cell_type": "code",
   "execution_count": 84,
   "metadata": {},
   "outputs": [
    {
     "data": {
      "text/plain": [
       "FEMALE       56695\n",
       "MALE         49949\n",
       "-unknown-    16119\n",
       "OTHER          224\n",
       "Name: gender, dtype: int64"
      ]
     },
     "execution_count": 84,
     "metadata": {},
     "output_type": "execute_result"
    }
   ],
   "source": [
    "df_train.loc[age_mask, 'gender'].value_counts()"
   ]
  },
  {
   "cell_type": "code",
   "execution_count": 85,
   "metadata": {},
   "outputs": [
    {
     "data": {
      "text/plain": [
       "-unknown-    79569\n",
       "FEMALE        6346\n",
       "MALE          4491\n",
       "OTHER           58\n",
       "Name: gender, dtype: int64"
      ]
     },
     "execution_count": 85,
     "metadata": {},
     "output_type": "execute_result"
    }
   ],
   "source": [
    "age_mask = (df_train.age == -1)\n",
    "df_train.loc[age_mask, 'gender'].value_counts()"
   ]
  },
  {
   "cell_type": "code",
   "execution_count": 86,
   "metadata": {},
   "outputs": [],
   "source": [
    "dates = df_train.loc[df_train.date_first_booking.notnull()]\n",
    "_delta = (pd.DatetimeIndex(dates['date_first_booking']) - pd.DatetimeIndex(dates['date_account_created'])).days\n",
    "_delta = [day for day in _delta if day >= 0]"
   ]
  },
  {
   "cell_type": "code",
   "execution_count": 88,
   "metadata": {},
   "outputs": [
    {
     "data": {
      "image/png": "[encoded data removed]",
      "text/plain": [
       "<Figure size 1152x432 with 1 Axes>"
      ]
     },
     "metadata": {
      "needs_background": "light"
     },
     "output_type": "display_data"
    }
   ],
   "source": [
    "plt.figure(figsize=(16,6))\n",
    "plt.hist(_delta, bins = 365)\n",
    "plt.show()"
   ]
  },
  {
   "cell_type": "markdown",
   "metadata": {},
   "source": [
    "Session Data"
   ]
  },
  {
   "cell_type": "code",
   "execution_count": 408,
   "metadata": {},
   "outputs": [],
   "source": [
    "sessions = pd.read_csv('../data/sessions.csv')"
   ]
  },
  {
   "cell_type": "code",
   "execution_count": 409,
   "metadata": {},
   "outputs": [
    {
     "name": "stdout",
     "output_type": "stream",
     "text": [
      "<class 'pandas.core.frame.DataFrame'>\n",
      "RangeIndex: 10567737 entries, 0 to 10567736\n",
      "Data columns (total 6 columns):\n",
      "user_id          object\n",
      "action           object\n",
      "action_type      object\n",
      "action_detail    object\n",
      "device_type      object\n",
      "secs_elapsed     float64\n",
      "dtypes: float64(1), object(5)\n",
      "memory usage: 483.8+ MB\n"
     ]
    }
   ],
   "source": [
    "sessions.info()"
   ]
  },
  {
   "cell_type": "code",
   "execution_count": 410,
   "metadata": {},
   "outputs": [
    {
     "data": {
      "text/plain": [
       "136031"
      ]
     },
     "execution_count": 410,
     "metadata": {},
     "output_type": "execute_result"
    }
   ],
   "source": [
    "sum(sessions.secs_elapsed.isnull())"
   ]
  },
  {
   "cell_type": "code",
   "execution_count": 411,
   "metadata": {},
   "outputs": [],
   "source": [
    "sessions['secs_elapsed'] = sessions['secs_elapsed'].fillna(0)"
   ]
  },
  {
   "cell_type": "code",
   "execution_count": 413,
   "metadata": {},
   "outputs": [
    {
     "data": {
      "text/plain": [
       "0"
      ]
     },
     "execution_count": 413,
     "metadata": {},
     "output_type": "execute_result"
    }
   ],
   "source": [
    "sum(sessions.secs_elapsed.isnull())"
   ]
  },
  {
   "cell_type": "code",
   "execution_count": 90,
   "metadata": {},
   "outputs": [
    {
     "data": {
      "text/html": [
       "<div>\n",
       "<style scoped>\n",
       "    .dataframe tbody tr th:only-of-type {\n",
       "        vertical-align: middle;\n",
       "    }\n",
       "\n",
       "    .dataframe tbody tr th {\n",
       "        vertical-align: top;\n",
       "    }\n",
       "\n",
       "    .dataframe thead th {\n",
       "        text-align: right;\n",
       "    }\n",
       "</style>\n",
       "<table border=\"1\" class=\"dataframe\">\n",
       "  <thead>\n",
       "    <tr style=\"text-align: right;\">\n",
       "      <th></th>\n",
       "      <th>user_id</th>\n",
       "      <th>action</th>\n",
       "      <th>action_type</th>\n",
       "      <th>action_detail</th>\n",
       "      <th>device_type</th>\n",
       "      <th>secs_elapsed</th>\n",
       "    </tr>\n",
       "  </thead>\n",
       "  <tbody>\n",
       "    <tr>\n",
       "      <td>0</td>\n",
       "      <td>d1mm9tcy42</td>\n",
       "      <td>lookup</td>\n",
       "      <td>NaN</td>\n",
       "      <td>NaN</td>\n",
       "      <td>Windows Desktop</td>\n",
       "      <td>319.0</td>\n",
       "    </tr>\n",
       "    <tr>\n",
       "      <td>1</td>\n",
       "      <td>d1mm9tcy42</td>\n",
       "      <td>search_results</td>\n",
       "      <td>click</td>\n",
       "      <td>view_search_results</td>\n",
       "      <td>Windows Desktop</td>\n",
       "      <td>67753.0</td>\n",
       "    </tr>\n",
       "    <tr>\n",
       "      <td>2</td>\n",
       "      <td>d1mm9tcy42</td>\n",
       "      <td>lookup</td>\n",
       "      <td>NaN</td>\n",
       "      <td>NaN</td>\n",
       "      <td>Windows Desktop</td>\n",
       "      <td>301.0</td>\n",
       "    </tr>\n",
       "    <tr>\n",
       "      <td>3</td>\n",
       "      <td>d1mm9tcy42</td>\n",
       "      <td>search_results</td>\n",
       "      <td>click</td>\n",
       "      <td>view_search_results</td>\n",
       "      <td>Windows Desktop</td>\n",
       "      <td>22141.0</td>\n",
       "    </tr>\n",
       "  </tbody>\n",
       "</table>\n",
       "</div>"
      ],
      "text/plain": [
       "      user_id          action action_type        action_detail  \\\n",
       "0  d1mm9tcy42          lookup         NaN                  NaN   \n",
       "1  d1mm9tcy42  search_results       click  view_search_results   \n",
       "2  d1mm9tcy42          lookup         NaN                  NaN   \n",
       "3  d1mm9tcy42  search_results       click  view_search_results   \n",
       "\n",
       "       device_type  secs_elapsed  \n",
       "0  Windows Desktop         319.0  \n",
       "1  Windows Desktop       67753.0  \n",
       "2  Windows Desktop         301.0  \n",
       "3  Windows Desktop       22141.0  "
      ]
     },
     "execution_count": 90,
     "metadata": {},
     "output_type": "execute_result"
    }
   ],
   "source": [
    "sessions.head(4)"
   ]
  },
  {
   "cell_type": "code",
   "execution_count": 417,
   "metadata": {},
   "outputs": [],
   "source": [
    "sessions = sessions.rename(columns = {'user_id':'id'})"
   ]
  },
  {
   "cell_type": "code",
   "execution_count": 418,
   "metadata": {},
   "outputs": [
    {
     "data": {
      "text/html": [
       "<div>\n",
       "<style scoped>\n",
       "    .dataframe tbody tr th:only-of-type {\n",
       "        vertical-align: middle;\n",
       "    }\n",
       "\n",
       "    .dataframe tbody tr th {\n",
       "        vertical-align: top;\n",
       "    }\n",
       "\n",
       "    .dataframe thead th {\n",
       "        text-align: right;\n",
       "    }\n",
       "</style>\n",
       "<table border=\"1\" class=\"dataframe\">\n",
       "  <thead>\n",
       "    <tr style=\"text-align: right;\">\n",
       "      <th></th>\n",
       "      <th>id</th>\n",
       "      <th>action</th>\n",
       "      <th>action_type</th>\n",
       "      <th>action_detail</th>\n",
       "      <th>device_type</th>\n",
       "      <th>secs_elapsed</th>\n",
       "    </tr>\n",
       "  </thead>\n",
       "  <tbody>\n",
       "    <tr>\n",
       "      <td>0</td>\n",
       "      <td>d1mm9tcy42</td>\n",
       "      <td>lookup</td>\n",
       "      <td>NaN</td>\n",
       "      <td>NaN</td>\n",
       "      <td>Windows Desktop</td>\n",
       "      <td>319.0</td>\n",
       "    </tr>\n",
       "    <tr>\n",
       "      <td>1</td>\n",
       "      <td>d1mm9tcy42</td>\n",
       "      <td>search_results</td>\n",
       "      <td>click</td>\n",
       "      <td>view_search_results</td>\n",
       "      <td>Windows Desktop</td>\n",
       "      <td>67753.0</td>\n",
       "    </tr>\n",
       "    <tr>\n",
       "      <td>2</td>\n",
       "      <td>d1mm9tcy42</td>\n",
       "      <td>lookup</td>\n",
       "      <td>NaN</td>\n",
       "      <td>NaN</td>\n",
       "      <td>Windows Desktop</td>\n",
       "      <td>301.0</td>\n",
       "    </tr>\n",
       "    <tr>\n",
       "      <td>3</td>\n",
       "      <td>d1mm9tcy42</td>\n",
       "      <td>search_results</td>\n",
       "      <td>click</td>\n",
       "      <td>view_search_results</td>\n",
       "      <td>Windows Desktop</td>\n",
       "      <td>22141.0</td>\n",
       "    </tr>\n",
       "  </tbody>\n",
       "</table>\n",
       "</div>"
      ],
      "text/plain": [
       "           id          action action_type        action_detail  \\\n",
       "0  d1mm9tcy42          lookup         NaN                  NaN   \n",
       "1  d1mm9tcy42  search_results       click  view_search_results   \n",
       "2  d1mm9tcy42          lookup         NaN                  NaN   \n",
       "3  d1mm9tcy42  search_results       click  view_search_results   \n",
       "\n",
       "       device_type  secs_elapsed  \n",
       "0  Windows Desktop         319.0  \n",
       "1  Windows Desktop       67753.0  \n",
       "2  Windows Desktop         301.0  \n",
       "3  Windows Desktop       22141.0  "
      ]
     },
     "execution_count": 418,
     "metadata": {},
     "output_type": "execute_result"
    }
   ],
   "source": [
    "sessions.head(4)"
   ]
  },
  {
   "cell_type": "code",
   "execution_count": 93,
   "metadata": {},
   "outputs": [],
   "source": [
    "booked_users_id = df_train.loc[pd.notnull(df_train.date_first_booking), 'id']"
   ]
  },
  {
   "cell_type": "code",
   "execution_count": 94,
   "metadata": {},
   "outputs": [],
   "source": [
    "booked_users = sessions.loc[sessions.id.isin(booked_users_id)]\n",
    "unbooked_users = sessions.loc[~sessions.id.isin(booked_users_id)]"
   ]
  },
  {
   "cell_type": "code",
   "execution_count": 100,
   "metadata": {},
   "outputs": [
    {
     "data": {
      "text/html": [
       "<div>\n",
       "<style scoped>\n",
       "    .dataframe tbody tr th:only-of-type {\n",
       "        vertical-align: middle;\n",
       "    }\n",
       "\n",
       "    .dataframe tbody tr th {\n",
       "        vertical-align: top;\n",
       "    }\n",
       "\n",
       "    .dataframe thead th {\n",
       "        text-align: right;\n",
       "    }\n",
       "</style>\n",
       "<table border=\"1\" class=\"dataframe\">\n",
       "  <thead>\n",
       "    <tr style=\"text-align: right;\">\n",
       "      <th></th>\n",
       "      <th>id</th>\n",
       "      <th>action</th>\n",
       "      <th>action_type</th>\n",
       "      <th>action_detail</th>\n",
       "      <th>device_type</th>\n",
       "      <th>secs_elapsed</th>\n",
       "    </tr>\n",
       "  </thead>\n",
       "  <tbody>\n",
       "  </tbody>\n",
       "</table>\n",
       "</div>"
      ],
      "text/plain": [
       "Empty DataFrame\n",
       "Columns: [id, action, action_type, action_detail, device_type, secs_elapsed]\n",
       "Index: []"
      ]
     },
     "execution_count": 100,
     "metadata": {},
     "output_type": "execute_result"
    }
   ],
   "source": [
    "mask = df_train.date_account_created > df_train.date_first_booking\n",
    "book_first = df_train.loc[(df_train.id.isin(booked_users_id)) & mask].id\n",
    "sessions.loc[sessions.id.isin(book_first)]"
   ]
  },
  {
   "cell_type": "code",
   "execution_count": 101,
   "metadata": {},
   "outputs": [
    {
     "data": {
      "text/plain": [
       "29"
      ]
     },
     "execution_count": 101,
     "metadata": {},
     "output_type": "execute_result"
    }
   ],
   "source": [
    "len(book_first)"
   ]
  },
  {
   "cell_type": "code",
   "execution_count": 102,
   "metadata": {},
   "outputs": [
    {
     "data": {
      "text/plain": [
       "126.49166666666667"
      ]
     },
     "execution_count": 102,
     "metadata": {},
     "output_type": "execute_result"
    }
   ],
   "source": [
    "last_day_ids = df_train.loc[df_train.date_account_created == '2014-06-30'].id\n",
    "sessions.loc[sessions.id.isin(last_day_ids)].groupby('id')['secs_elapsed'].agg(np.sum).max()/60/60/24"
   ]
  },
  {
   "cell_type": "code",
   "execution_count": 114,
   "metadata": {},
   "outputs": [],
   "source": [
    "booked_users_elapsed = booked_users.groupby('id')['secs_elapsed'].agg(['sum', ('day', lambda x: np.sum(x)/60/60/24)])\n",
    "unbooked_users_elapsed = unbooked_users.groupby('id')['secs_elapsed'].agg(['sum', ('day', lambda x: np.sum(x)/60/60/24)])"
   ]
  },
  {
   "cell_type": "code",
   "execution_count": 115,
   "metadata": {},
   "outputs": [],
   "source": [
    "_booked = []\n",
    "_unbooked = []\n",
    "for day in range(0, 121):\n",
    "    _booked.append(1 - (len(booked_users_elapsed.loc[booked_users_elapsed.day < day]) / len(booked_users_elapsed)))\n",
    "    _unbooked.append(1 - (len(unbooked_users_elapsed.loc[unbooked_users_elapsed.day < day]) / len(unbooked_users_elapsed)))"
   ]
  },
  {
   "cell_type": "code",
   "execution_count": 116,
   "metadata": {},
   "outputs": [
    {
     "data": {
      "image/png": "[encoded data removed]",
      "text/plain": [
       "<Figure size 864x576 with 1 Axes>"
      ]
     },
     "metadata": {
      "needs_background": "light"
     },
     "output_type": "display_data"
    }
   ],
   "source": [
    "plt.plot(range(0, 121), _booked, label = 'Booked Users')\n",
    "plt.plot(range(0, 121), _unbooked, label = 'Unbooked Users')\n",
    "plt.legend()\n",
    "plt.xticks(range(0,121, 5))\n",
    "plt.grid(alpha = 0.5)"
   ]
  },
  {
   "cell_type": "code",
   "execution_count": 414,
   "metadata": {},
   "outputs": [
    {
     "data": {
      "text/plain": [
       "view                3560902\n",
       "data                2103770\n",
       "click               1996183\n",
       "-unknown-           1031170\n",
       "submit               623357\n",
       "message_post          87103\n",
       "partner_callback      19132\n",
       "booking_request       18773\n",
       "modify                 1139\n",
       "booking_response          4\n",
       "Name: action_type, dtype: int64"
      ]
     },
     "execution_count": 414,
     "metadata": {},
     "output_type": "execute_result"
    }
   ],
   "source": [
    "sessions.action_type.value_counts()"
   ]
  },
  {
   "cell_type": "code",
   "execution_count": 419,
   "metadata": {},
   "outputs": [],
   "source": [
    "action_count = sessions.groupby(['id', 'action'])['action_type'].agg('count')"
   ]
  },
  {
   "cell_type": "code",
   "execution_count": 420,
   "metadata": {},
   "outputs": [
    {
     "data": {
      "text/plain": [
       "2.4192238267148016"
      ]
     },
     "execution_count": 420,
     "metadata": {},
     "output_type": "execute_result"
    }
   ],
   "source": [
    "action_count.unstack().loc[action_count.unstack()['confirm_email'] > 1]['confirm_email'].mean()"
   ]
  },
  {
   "cell_type": "code",
   "execution_count": 421,
   "metadata": {},
   "outputs": [
    {
     "data": {
      "text/plain": [
       "18.0"
      ]
     },
     "execution_count": 421,
     "metadata": {},
     "output_type": "execute_result"
    }
   ],
   "source": [
    "action_count.unstack().loc[action_count.unstack()['confirm_email'] > 1]['confirm_email'].max()"
   ]
  },
  {
   "cell_type": "markdown",
   "metadata": {},
   "source": [
    "MAU (Monthly Active Users)"
   ]
  },
  {
   "cell_type": "code",
   "execution_count": 422,
   "metadata": {},
   "outputs": [],
   "source": [
    "sessions_ids = sessions.id.unique()"
   ]
  },
  {
   "cell_type": "code",
   "execution_count": 423,
   "metadata": {},
   "outputs": [],
   "source": [
    "from_train = df_train.loc[df_train.id.isin(sessions_ids), ['id', 'date_account_created']]\n",
    "from_test = df_test.loc[df_test.id.isin(sessions_ids), ['id', 'date_account_created']]\n",
    "account_created_date = pd.concat([from_train, from_test], axis = 0)"
   ]
  },
  {
   "cell_type": "code",
   "execution_count": 425,
   "metadata": {},
   "outputs": [],
   "source": [
    "sessions['cumulate_secs'] = sessions.groupby('id')['secs_elapsed'].cumsum()\n",
    "sessions['cumulate_days'] = sessions['cumulate_secs']/60/60//24"
   ]
  },
  {
   "cell_type": "code",
   "execution_count": 491,
   "metadata": {},
   "outputs": [
    {
     "ename": "TypeError",
     "evalue": "string indices must be integers",
     "output_type": "error",
     "traceback": [
      "\u001b[0;31m---------------------------------------------------------------------------\u001b[0m",
      "\u001b[0;31mTypeError\u001b[0m                                 Traceback (most recent call last)",
      "\u001b[0;32m<ipython-input-491-628444678bc6>\u001b[0m in \u001b[0;36m<module>\u001b[0;34m\u001b[0m\n\u001b[1;32m      1\u001b[0m \u001b[0mdate_dict\u001b[0m \u001b[0;34m=\u001b[0m \u001b[0mdefaultdict\u001b[0m\u001b[0;34m(\u001b[0m\u001b[0;34m)\u001b[0m\u001b[0;34m\u001b[0m\u001b[0;34m\u001b[0m\u001b[0m\n\u001b[1;32m      2\u001b[0m \u001b[0;32mfor\u001b[0m \u001b[0mrow\u001b[0m \u001b[0;32min\u001b[0m \u001b[0mdf_train\u001b[0m\u001b[0;34m.\u001b[0m\u001b[0mloc\u001b[0m\u001b[0;34m[\u001b[0m\u001b[0;34m:\u001b[0m\u001b[0;34m,\u001b[0m \u001b[0;34m[\u001b[0m\u001b[0;34m'id'\u001b[0m\u001b[0;34m,\u001b[0m\u001b[0;34m'date_account_created'\u001b[0m\u001b[0;34m]\u001b[0m\u001b[0;34m]\u001b[0m\u001b[0;34m:\u001b[0m\u001b[0;34m\u001b[0m\u001b[0;34m\u001b[0m\u001b[0m\n\u001b[0;32m----> 3\u001b[0;31m     \u001b[0mdate_dict\u001b[0m\u001b[0;34m[\u001b[0m\u001b[0mrow\u001b[0m\u001b[0;34m[\u001b[0m\u001b[0;34m'id'\u001b[0m\u001b[0;34m]\u001b[0m\u001b[0;34m]\u001b[0m \u001b[0;34m=\u001b[0m \u001b[0mrow\u001b[0m\u001b[0;34m[\u001b[0m\u001b[0;34m'date_account_created'\u001b[0m\u001b[0;34m]\u001b[0m\u001b[0;34m\u001b[0m\u001b[0;34m\u001b[0m\u001b[0m\n\u001b[0m",
      "\u001b[0;31mTypeError\u001b[0m: string indices must be integers"
     ]
    }
   ],
   "source": [
    "date_dict = defaultdict()\n",
    "for row in df_train.loc[:, ['id','date_account_created']]:\n",
    "    date_dict[row['id']] = row['date_account_created']"
   ]
  },
  {
   "cell_type": "code",
   "execution_count": 485,
   "metadata": {},
   "outputs": [
    {
     "ename": "SyntaxError",
     "evalue": "invalid syntax (<ipython-input-485-7d5a0403622d>, line 5)",
     "output_type": "error",
     "traceback": [
      "\u001b[0;36m  File \u001b[0;32m\"<ipython-input-485-7d5a0403622d>\"\u001b[0;36m, line \u001b[0;32m5\u001b[0m\n\u001b[0;31m    elif _id in df_test.id.unique():\u001b[0m\n\u001b[0m       ^\u001b[0m\n\u001b[0;31mSyntaxError\u001b[0m\u001b[0;31m:\u001b[0m invalid syntax\n"
     ]
    }
   ],
   "source": [
    "def return_session_date(row):\n",
    "    _id = row['id']\n",
    "    _delta = row['cumulate_days']\n",
    "    return _date + pd.DateOffset(_delta)"
   ]
  },
  {
   "cell_type": "code",
   "execution_count": 484,
   "metadata": {},
   "outputs": [
    {
     "data": {
      "text/plain": [
       "0    DatetimeIndex(['2014-01-01'], dtype='datetime6...\n",
       "1    DatetimeIndex(['2014-01-01'], dtype='datetime6...\n",
       "2    DatetimeIndex(['2014-01-01'], dtype='datetime6...\n",
       "3    DatetimeIndex(['2014-01-02'], dtype='datetime6...\n",
       "4    DatetimeIndex(['2014-01-02'], dtype='datetime6...\n",
       "dtype: object"
      ]
     },
     "execution_count": 484,
     "metadata": {},
     "output_type": "execute_result"
    }
   ],
   "source": [
    "sessions.loc[:4, ['id', 'cumulate_days']].apply(return_session_date, axis = 1)"
   ]
  },
  {
   "cell_type": "code",
   "execution_count": null,
   "metadata": {},
   "outputs": [],
   "source": []
  }
 ],
 "metadata": {
  "kernelspec": {
   "display_name": "Python 3",
   "language": "python",
   "name": "python3"
  },
  "language_info": {
   "codemirror_mode": {
    "name": "ipython",
    "version": 3
   },
   "file_extension": ".py",
   "mimetype": "text/x-python",
   "name": "python",
   "nbconvert_exporter": "python",
   "pygments_lexer": "ipython3",
   "version": "3.7.4"
  }
 },
 "nbformat": 4,
 "nbformat_minor": 2
}
