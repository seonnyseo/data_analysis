{
 "cells": [
  {
   "cell_type": "code",
   "execution_count": 1,
   "metadata": {},
   "outputs": [],
   "source": [
    "import numpy as np\n",
    "import pandas as pd\n",
    "import matplotlib.pyplot as plt\n",
    "from ipywidgets import interactive\n",
    "%matplotlib inline"
   ]
  },
  {
   "cell_type": "code",
   "execution_count": 2,
   "metadata": {},
   "outputs": [],
   "source": [
    "from tqdm import tqdm\n",
    "from collections import defaultdict"
   ]
  },
  {
   "cell_type": "code",
   "execution_count": 3,
   "metadata": {},
   "outputs": [],
   "source": [
    "import ipywidgets as widgets\n",
    "from ipywidgets import HBox, VBox\n",
    "from IPython.display import display\n",
    "%matplotlib inline"
   ]
  },
  {
   "cell_type": "code",
   "execution_count": 4,
   "metadata": {},
   "outputs": [],
   "source": [
    "train_df = pd.read_csv('../data/train_users.csv')\n",
    "test_df = pd.read_csv('../data/test_users.csv')"
   ]
  },
  {
   "cell_type": "code",
   "execution_count": 5,
   "metadata": {},
   "outputs": [],
   "source": [
    "users = pd.concat([train_df.drop('country_destination', axis = 1), test_df], axis = 0, ignore_index = True)"
   ]
  },
  {
   "cell_type": "code",
   "execution_count": 6,
   "metadata": {},
   "outputs": [],
   "source": [
    "date_account_created = pd.DatetimeIndex(users.date_account_created)\n",
    "users['account_created_year'] = date_account_created.year\n",
    "users['account_created_month'] = date_account_created.month\n",
    "users['account_created_day'] = date_account_created.day\n",
    "users['account_created_weekday'] = date_account_created.weekday"
   ]
  },
  {
   "cell_type": "code",
   "execution_count": 7,
   "metadata": {},
   "outputs": [],
   "source": [
    "sessions = pd.read_csv('../data/sessions_expanded.csv')"
   ]
  },
  {
   "cell_type": "code",
   "execution_count": 8,
   "metadata": {},
   "outputs": [
    {
     "data": {
      "text/plain": [
       "\"\\nsessions = sessions.rename(columns = {'user_id':'id'})\\nsessions = sessions.dropna(subset = ['id'])\\nsessions['secs_elapsed'] = sessions['secs_elapsed'].fillna(0)\\n\\nsessions_ids = sessions.id.unique()\\nfrom_train = train_df.loc[train_df.id.isin(sessions_ids), ['id', 'date_account_created']]\\nfrom_test = test_df.loc[test_df.id.isin(sessions_ids), ['id', 'date_account_created']]\\naccount_created_date = pd.concat([from_train, from_test], axis = 0)\\n\\nsessions['cumulate_secs'] = sessions.groupby('id')['secs_elapsed'].cumsum()\\nsessions['cumulate_days'] = sessions['cumulate_secs']/60/60//24\\n\\naccount_date = defaultdict()\\nfor _id, _date in zip(account_created_date['id'], account_created_date['date_account_created']):\\n    account_date[_id] = pd.to_datetime(_date)\\n    \\ndef return_session_date(row):\\n    _id = row['id']\\n    _delta = row['cumulate_days']\\n    \\n    return account_date[_id] + pd.DateOffset(_delta)\\n\\ntqdm.pandas()\\nsessions['session_date'] = sessions.loc[:, ['id', 'cumulate_days']].progress_apply(return_session_date, axis = 1)\\n\""
      ]
     },
     "execution_count": 8,
     "metadata": {},
     "output_type": "execute_result"
    }
   ],
   "source": [
    "\"\"\"\n",
    "sessions = sessions.rename(columns = {'user_id':'id'})\n",
    "sessions = sessions.dropna(subset = ['id'])\n",
    "sessions['secs_elapsed'] = sessions['secs_elapsed'].fillna(0)\n",
    "\n",
    "sessions_ids = sessions.id.unique()\n",
    "from_train = train_df.loc[train_df.id.isin(sessions_ids), ['id', 'date_account_created']]\n",
    "from_test = test_df.loc[test_df.id.isin(sessions_ids), ['id', 'date_account_created']]\n",
    "account_created_date = pd.concat([from_train, from_test], axis = 0)\n",
    "\n",
    "sessions['cumulate_secs'] = sessions.groupby('id')['secs_elapsed'].cumsum()\n",
    "sessions['cumulate_days'] = sessions['cumulate_secs']/60/60//24\n",
    "\n",
    "account_date = defaultdict()\n",
    "for _id, _date in zip(account_created_date['id'], account_created_date['date_account_created']):\n",
    "    account_date[_id] = pd.to_datetime(_date)\n",
    "    \n",
    "def return_session_date(row):\n",
    "    _id = row['id']\n",
    "    _delta = row['cumulate_days']\n",
    "    \n",
    "    return account_date[_id] + pd.DateOffset(_delta)\n",
    "\n",
    "tqdm.pandas()\n",
    "sessions['session_date'] = sessions.loc[:, ['id', 'cumulate_days']].progress_apply(return_session_date, axis = 1)\n",
    "\"\"\""
   ]
  },
  {
   "cell_type": "code",
   "execution_count": 9,
   "metadata": {},
   "outputs": [
    {
     "data": {
      "text/html": [
       "<div>\n",
       "<style scoped>\n",
       "    .dataframe tbody tr th:only-of-type {\n",
       "        vertical-align: middle;\n",
       "    }\n",
       "\n",
       "    .dataframe tbody tr th {\n",
       "        vertical-align: top;\n",
       "    }\n",
       "\n",
       "    .dataframe thead th {\n",
       "        text-align: right;\n",
       "    }\n",
       "</style>\n",
       "<table border=\"1\" class=\"dataframe\">\n",
       "  <thead>\n",
       "    <tr style=\"text-align: right;\">\n",
       "      <th></th>\n",
       "      <th>Unnamed: 0</th>\n",
       "      <th>id</th>\n",
       "      <th>action</th>\n",
       "      <th>action_type</th>\n",
       "      <th>action_detail</th>\n",
       "      <th>device_type</th>\n",
       "      <th>secs_elapsed</th>\n",
       "      <th>cumulate_secs</th>\n",
       "      <th>cumulate_days</th>\n",
       "      <th>session_date</th>\n",
       "    </tr>\n",
       "  </thead>\n",
       "  <tbody>\n",
       "    <tr>\n",
       "      <td>0</td>\n",
       "      <td>0</td>\n",
       "      <td>d1mm9tcy42</td>\n",
       "      <td>lookup</td>\n",
       "      <td>NaN</td>\n",
       "      <td>NaN</td>\n",
       "      <td>Windows Desktop</td>\n",
       "      <td>319.0</td>\n",
       "      <td>319.0</td>\n",
       "      <td>0.0</td>\n",
       "      <td>2014-01-01</td>\n",
       "    </tr>\n",
       "    <tr>\n",
       "      <td>1</td>\n",
       "      <td>1</td>\n",
       "      <td>d1mm9tcy42</td>\n",
       "      <td>search_results</td>\n",
       "      <td>click</td>\n",
       "      <td>view_search_results</td>\n",
       "      <td>Windows Desktop</td>\n",
       "      <td>67753.0</td>\n",
       "      <td>68072.0</td>\n",
       "      <td>0.0</td>\n",
       "      <td>2014-01-01</td>\n",
       "    </tr>\n",
       "    <tr>\n",
       "      <td>2</td>\n",
       "      <td>2</td>\n",
       "      <td>d1mm9tcy42</td>\n",
       "      <td>lookup</td>\n",
       "      <td>NaN</td>\n",
       "      <td>NaN</td>\n",
       "      <td>Windows Desktop</td>\n",
       "      <td>301.0</td>\n",
       "      <td>68373.0</td>\n",
       "      <td>0.0</td>\n",
       "      <td>2014-01-01</td>\n",
       "    </tr>\n",
       "    <tr>\n",
       "      <td>3</td>\n",
       "      <td>3</td>\n",
       "      <td>d1mm9tcy42</td>\n",
       "      <td>search_results</td>\n",
       "      <td>click</td>\n",
       "      <td>view_search_results</td>\n",
       "      <td>Windows Desktop</td>\n",
       "      <td>22141.0</td>\n",
       "      <td>90514.0</td>\n",
       "      <td>1.0</td>\n",
       "      <td>2014-01-02</td>\n",
       "    </tr>\n",
       "  </tbody>\n",
       "</table>\n",
       "</div>"
      ],
      "text/plain": [
       "   Unnamed: 0          id          action action_type        action_detail  \\\n",
       "0           0  d1mm9tcy42          lookup         NaN                  NaN   \n",
       "1           1  d1mm9tcy42  search_results       click  view_search_results   \n",
       "2           2  d1mm9tcy42          lookup         NaN                  NaN   \n",
       "3           3  d1mm9tcy42  search_results       click  view_search_results   \n",
       "\n",
       "       device_type  secs_elapsed  cumulate_secs  cumulate_days session_date  \n",
       "0  Windows Desktop         319.0          319.0            0.0   2014-01-01  \n",
       "1  Windows Desktop       67753.0        68072.0            0.0   2014-01-01  \n",
       "2  Windows Desktop         301.0        68373.0            0.0   2014-01-01  \n",
       "3  Windows Desktop       22141.0        90514.0            1.0   2014-01-02  "
      ]
     },
     "execution_count": 9,
     "metadata": {},
     "output_type": "execute_result"
    }
   ],
   "source": [
    "sessions.head(4)"
   ]
  },
  {
   "cell_type": "code",
   "execution_count": 10,
   "metadata": {},
   "outputs": [
    {
     "data": {
      "application/vnd.jupyter.widget-view+json": {
       "model_id": "afd582567f2f458682e581fdf89ca4b3",
       "version_major": 2,
       "version_minor": 0
      },
      "text/plain": [
       "interactive(children=(IntSlider(value=2010, description='year', max=2014, min=2010), Output()), _dom_classes=(…"
      ]
     },
     "metadata": {},
     "output_type": "display_data"
    }
   ],
   "source": [
    "@widgets.interact(year = (2010, 2014))\n",
    "def date(year=2010):\n",
    "    data = users.loc[users.account_created_year == year]\n",
    "    x = data['account_created_month'].unique()\n",
    "    y = data.account_created_month.value_counts().sort_index()\n",
    "    plt.figure(figsize = (12, 8))\n",
    "    plt.plot(y)\n",
    "    plt.xticks(x)\n",
    "    plt.ylim(0, 24000)\n",
    "    plt.grid(alpha = 0.3)"
   ]
  },
  {
   "cell_type": "code",
   "execution_count": 11,
   "metadata": {},
   "outputs": [
    {
     "data": {
      "text/html": [
       "<div>\n",
       "<style scoped>\n",
       "    .dataframe tbody tr th:only-of-type {\n",
       "        vertical-align: middle;\n",
       "    }\n",
       "\n",
       "    .dataframe tbody tr th {\n",
       "        vertical-align: top;\n",
       "    }\n",
       "\n",
       "    .dataframe thead th {\n",
       "        text-align: right;\n",
       "    }\n",
       "</style>\n",
       "<table border=\"1\" class=\"dataframe\">\n",
       "  <thead>\n",
       "    <tr style=\"text-align: right;\">\n",
       "      <th></th>\n",
       "      <th>id</th>\n",
       "      <th>date_account_created</th>\n",
       "      <th>timestamp_first_active</th>\n",
       "      <th>date_first_booking</th>\n",
       "      <th>gender</th>\n",
       "      <th>age</th>\n",
       "      <th>signup_method</th>\n",
       "      <th>signup_flow</th>\n",
       "      <th>language</th>\n",
       "      <th>affiliate_channel</th>\n",
       "      <th>affiliate_provider</th>\n",
       "      <th>first_affiliate_tracked</th>\n",
       "      <th>signup_app</th>\n",
       "      <th>first_device_type</th>\n",
       "      <th>first_browser</th>\n",
       "      <th>account_created_year</th>\n",
       "      <th>account_created_month</th>\n",
       "      <th>account_created_day</th>\n",
       "      <th>account_created_weekday</th>\n",
       "    </tr>\n",
       "  </thead>\n",
       "  <tbody>\n",
       "    <tr>\n",
       "      <td>0</td>\n",
       "      <td>gxn3p5htnn</td>\n",
       "      <td>2010-06-28</td>\n",
       "      <td>20090319043255</td>\n",
       "      <td>NaN</td>\n",
       "      <td>-unknown-</td>\n",
       "      <td>NaN</td>\n",
       "      <td>facebook</td>\n",
       "      <td>0</td>\n",
       "      <td>en</td>\n",
       "      <td>direct</td>\n",
       "      <td>direct</td>\n",
       "      <td>untracked</td>\n",
       "      <td>Web</td>\n",
       "      <td>Mac Desktop</td>\n",
       "      <td>Chrome</td>\n",
       "      <td>2010</td>\n",
       "      <td>6</td>\n",
       "      <td>28</td>\n",
       "      <td>0</td>\n",
       "    </tr>\n",
       "    <tr>\n",
       "      <td>1</td>\n",
       "      <td>820tgsjxq7</td>\n",
       "      <td>2011-05-25</td>\n",
       "      <td>20090523174809</td>\n",
       "      <td>NaN</td>\n",
       "      <td>MALE</td>\n",
       "      <td>38.0</td>\n",
       "      <td>facebook</td>\n",
       "      <td>0</td>\n",
       "      <td>en</td>\n",
       "      <td>seo</td>\n",
       "      <td>google</td>\n",
       "      <td>untracked</td>\n",
       "      <td>Web</td>\n",
       "      <td>Mac Desktop</td>\n",
       "      <td>Chrome</td>\n",
       "      <td>2011</td>\n",
       "      <td>5</td>\n",
       "      <td>25</td>\n",
       "      <td>2</td>\n",
       "    </tr>\n",
       "    <tr>\n",
       "      <td>2</td>\n",
       "      <td>4ft3gnwmtx</td>\n",
       "      <td>2010-09-28</td>\n",
       "      <td>20090609231247</td>\n",
       "      <td>2010-08-02</td>\n",
       "      <td>FEMALE</td>\n",
       "      <td>56.0</td>\n",
       "      <td>basic</td>\n",
       "      <td>3</td>\n",
       "      <td>en</td>\n",
       "      <td>direct</td>\n",
       "      <td>direct</td>\n",
       "      <td>untracked</td>\n",
       "      <td>Web</td>\n",
       "      <td>Windows Desktop</td>\n",
       "      <td>IE</td>\n",
       "      <td>2010</td>\n",
       "      <td>9</td>\n",
       "      <td>28</td>\n",
       "      <td>1</td>\n",
       "    </tr>\n",
       "  </tbody>\n",
       "</table>\n",
       "</div>"
      ],
      "text/plain": [
       "           id date_account_created  timestamp_first_active date_first_booking  \\\n",
       "0  gxn3p5htnn           2010-06-28          20090319043255                NaN   \n",
       "1  820tgsjxq7           2011-05-25          20090523174809                NaN   \n",
       "2  4ft3gnwmtx           2010-09-28          20090609231247         2010-08-02   \n",
       "\n",
       "      gender   age signup_method  signup_flow language affiliate_channel  \\\n",
       "0  -unknown-   NaN      facebook            0       en            direct   \n",
       "1       MALE  38.0      facebook            0       en               seo   \n",
       "2     FEMALE  56.0         basic            3       en            direct   \n",
       "\n",
       "  affiliate_provider first_affiliate_tracked signup_app first_device_type  \\\n",
       "0             direct               untracked        Web       Mac Desktop   \n",
       "1             google               untracked        Web       Mac Desktop   \n",
       "2             direct               untracked        Web   Windows Desktop   \n",
       "\n",
       "  first_browser  account_created_year  account_created_month  \\\n",
       "0        Chrome                  2010                      6   \n",
       "1        Chrome                  2011                      5   \n",
       "2            IE                  2010                      9   \n",
       "\n",
       "   account_created_day  account_created_weekday  \n",
       "0                   28                        0  \n",
       "1                   25                        2  \n",
       "2                   28                        1  "
      ]
     },
     "execution_count": 11,
     "metadata": {},
     "output_type": "execute_result"
    }
   ],
   "source": [
    "users.head(3)"
   ]
  },
  {
   "cell_type": "code",
   "execution_count": 20,
   "metadata": {},
   "outputs": [],
   "source": [
    "columns = ['account_created_year', 'account_created_month']\n",
    "range_slider = widgets.SelectionRangeSlider(\n",
    "    options = ['{}-{:02}'.format(y, m) for (y, m) in users[columns].groupby(columns).agg(len).index],\n",
    "    index = (0, 11),\n",
    "    disabled = False,\n",
    "    layout={'width': '500px'},\n",
    "    description='Dates'\n",
    ")"
   ]
  },
  {
   "cell_type": "code",
   "execution_count": 21,
   "metadata": {},
   "outputs": [
    {
     "data": {
      "application/vnd.jupyter.widget-view+json": {
       "model_id": "d6da9fa45aa54c59b35869255337e737",
       "version_major": 2,
       "version_minor": 0
      },
      "text/plain": [
       "SelectionRangeSlider(description='Dates', index=(0, 11), layout=Layout(width='500px'), options=('2010-01', '20…"
      ]
     },
     "metadata": {},
     "output_type": "display_data"
    }
   ],
   "source": [
    "range_slider"
   ]
  },
  {
   "cell_type": "code",
   "execution_count": 23,
   "metadata": {},
   "outputs": [
    {
     "data": {
      "application/vnd.jupyter.widget-view+json": {
       "model_id": "aad7bffa84664bb69539184db22a8440",
       "version_major": 2,
       "version_minor": 0
      },
      "text/plain": [
       "interactive(children=(SelectionRangeSlider(description='Dates', index=(0, 56), layout=Layout(width='500px'), o…"
      ]
     },
     "metadata": {},
     "output_type": "display_data"
    }
   ],
   "source": [
    "def return_selected_range(start, end):\n",
    "\n",
    "    start = pd.to_datetime(start, format = '%Y-%m')\n",
    "    end = pd.to_datetime(end, format = '%Y-%m')\n",
    "    \n",
    "    date_mask = (pd.to_datetime(users.date_account_created) >= start) & (pd.to_datetime(users.date_account_created) <= end)\n",
    "    return users.loc[date_mask]\n",
    "def print_date_range(date_range):\n",
    "    \n",
    "    start = date_range[0]\n",
    "    end = date_range[1]\n",
    "    \n",
    "    data = return_selected_range(start, end)\n",
    "    columns = ['account_created_year', 'account_created_month']\n",
    "    y = data[columns].groupby(columns).agg(len)\n",
    "    x = ['{}-{:02}'.format(year, month) for (year, month) in y.index]\n",
    "    plt.figure(figsize = (16, 8))\n",
    "    plt.bar(x, y)\n",
    "    plt.xticks(rotation = 90)\n",
    "    plt.show()\n",
    "    \n",
    "widgets.interact(\n",
    "    print_date_range,\n",
    "    date_range=range_slider\n",
    ");"
   ]
  },
  {
   "cell_type": "code",
   "execution_count": null,
   "metadata": {},
   "outputs": [],
   "source": []
  },
  {
   "cell_type": "code",
   "execution_count": 40,
   "metadata": {},
   "outputs": [],
   "source": [
    "month_select = widgets.SelectionSlider(\n",
    "    options= ['{}-{:02}'.format(y, m) for (y, m) in users[columns].groupby(columns).agg(len).index],\n",
    "    #value='sunny side up',\n",
    "    description='Select Month',\n",
    "    disabled=False,\n",
    "    continuous_update = False,\n",
    "    orientation='horizontal',\n",
    "    readout=True\n",
    ")"
   ]
  },
  {
   "cell_type": "code",
   "execution_count": null,
   "metadata": {},
   "outputs": [],
   "source": []
  },
  {
   "cell_type": "code",
   "execution_count": null,
   "metadata": {},
   "outputs": [],
   "source": []
  },
  {
   "cell_type": "code",
   "execution_count": 93,
   "metadata": {},
   "outputs": [],
   "source": [
    "def return_new_account(year, month):\n",
    "\n",
    "    year_mask = users.account_created_year == year\n",
    "    month_mask = users.account_created_month == month\n",
    "    \n",
    "    return len(users.loc[year_mask & month_mask])"
   ]
  },
  {
   "cell_type": "code",
   "execution_count": 94,
   "metadata": {},
   "outputs": [],
   "source": [
    "def return_new_booking(year, month):\n",
    "\n",
    "    booked = pd.DatetimeIndex(users.date_first_booking)\n",
    "    year_mask = booked.year == year\n",
    "    month_mask = booked.month == month\n",
    "    \n",
    "    return len(users.loc[year_mask & month_mask])"
   ]
  },
  {
   "cell_type": "code",
   "execution_count": 97,
   "metadata": {},
   "outputs": [],
   "source": [
    "def print_date(date):\n",
    "    \n",
    "    year, month = map(int, date.split('-'))\n",
    "    \n",
    "    print('New Account : ', return_new_account(year, month))\n",
    "    print('New First Booking : ', return_new_booking(year, month))"
   ]
  },
  {
   "cell_type": "code",
   "execution_count": 98,
   "metadata": {},
   "outputs": [
    {
     "data": {
      "application/vnd.jupyter.widget-view+json": {
       "model_id": "e834137ef0fc4bb0ace04a5ae2cd88b7",
       "version_major": 2,
       "version_minor": 0
      },
      "text/plain": [
       "interactive(children=(SelectionSlider(continuous_update=False, description='Select Month', index=37, options=(…"
      ]
     },
     "metadata": {},
     "output_type": "display_data"
    }
   ],
   "source": [
    "  widgets.interact(\n",
    "    print_date,\n",
    "    date = month_select\n",
    ");"
   ]
  },
  {
   "cell_type": "code",
   "execution_count": null,
   "metadata": {},
   "outputs": [],
   "source": []
  }
 ],
 "metadata": {
  "kernelspec": {
   "display_name": "Python 3",
   "language": "python",
   "name": "python3"
  },
  "language_info": {
   "codemirror_mode": {
    "name": "ipython",
    "version": 3
   },
   "file_extension": ".py",
   "mimetype": "text/x-python",
   "name": "python",
   "nbconvert_exporter": "python",
   "pygments_lexer": "ipython3",
   "version": "3.7.4"
  }
 },
 "nbformat": 4,
 "nbformat_minor": 2
}
