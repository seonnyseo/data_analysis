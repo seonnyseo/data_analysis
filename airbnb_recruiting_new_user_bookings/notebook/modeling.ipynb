{
 "cells": [
  {
   "cell_type": "code",
   "execution_count": 21,
   "metadata": {},
   "outputs": [],
   "source": [
    "import pandas as pd\n",
    "import numpy as np\n",
    "from sklearn.preprocessing import LabelEncoder\n",
    "from sklearn.model_selection import cross_val_score\n",
    "from sklearn.model_selection import KFold\n",
    "from xgboost.sklearn import XGBClassifier\n",
    "import xgboost\n",
    "from sklearn.model_selection import GridSearchCV\n",
    "from sklearn.model_selection import StratifiedKFold\n",
    "from sklearn.metrics import ndcg_score\n",
    "from sklearn.preprocessing import LabelBinarizer\n",
    "from sklearn.metrics import make_scorer"
   ]
  },
  {
   "cell_type": "code",
   "execution_count": 2,
   "metadata": {},
   "outputs": [
    {
     "name": "stderr",
     "output_type": "stream",
     "text": [
      "/Users/keonhoseo/opt/anaconda3/lib/python3.7/site-packages/IPython/core/interactiveshell.py:3058: DtypeWarning: Columns (1243) have mixed types. Specify dtype option on import or set low_memory=False.\n",
      "  interactivity=interactivity, compiler=compiler, result=result)\n"
     ]
    }
   ],
   "source": [
    "train_users = pd.read_csv('../data/train_data.csv')"
   ]
  },
  {
   "cell_type": "code",
   "execution_count": 3,
   "metadata": {},
   "outputs": [],
   "source": [
    "test_users = pd.read_csv('../data/test_data.csv')"
   ]
  },
  {
   "cell_type": "code",
   "execution_count": 4,
   "metadata": {},
   "outputs": [],
   "source": [
    "train_users.fillna(-1, inplace=True)"
   ]
  },
  {
   "cell_type": "code",
   "execution_count": 5,
   "metadata": {},
   "outputs": [],
   "source": [
    "y_train = train_users['country_destination']\n",
    "train_users.drop(['country_destination', 'id', 'most_used_device'], axis=1, inplace=True)\n",
    "x_train = train_users.values\n",
    "\n",
    "label_encoder = LabelEncoder()\n",
    "encoded_y_train = label_encoder.fit_transform(y_train)"
   ]
  },
  {
   "cell_type": "code",
   "execution_count": 22,
   "metadata": {},
   "outputs": [],
   "source": [
    "x_test = test_users.drop(['id', 'most_used_device'], axis = 1).values"
   ]
  },
  {
   "cell_type": "markdown",
   "metadata": {},
   "source": []
  },
  {
   "cell_type": "code",
   "execution_count": 29,
   "metadata": {},
   "outputs": [],
   "source": [
    "train_data = xgboost.DMatrix(x_train, encoded_y_train)"
   ]
  },
  {
   "cell_type": "code",
   "execution_count": 11,
   "metadata": {},
   "outputs": [],
   "source": [
    "def ndcg5_score(preds, dtrain):\n",
    "    labels = dtrain.get_label()\n",
    "    top = []\n",
    "\n",
    "    for i in range(preds.shape[0]):\n",
    "        top.append(np.argsort(preds[i])[::-1][:5])\n",
    "\n",
    "    mat = np.reshape(np.repeat(labels,np.shape(top)[1]) == np.array(top).ravel(),np.array(top).shape).astype(int)\n",
    "    score = np.mean(np.sum(mat/np.log2(np.arange(2, mat.shape[1] + 2)),axis = 1))\n",
    "    return 'ndcg5', score"
   ]
  },
  {
   "cell_type": "code",
   "execution_count": 30,
   "metadata": {},
   "outputs": [
    {
     "name": "stdout",
     "output_type": "stream",
     "text": [
      "[0]\ttrain-mlogloss:1.19055+0.001299\ttrain-ndcg5:0.83239+0.000176705\ttest-mlogloss:1.21417+0.00689788\ttest-ndcg5:0.827548+0.000859087\n",
      "[1]\ttrain-mlogloss:1.45821+0.00554659\ttrain-ndcg5:0.755338+0.0024306\ttest-mlogloss:1.51094+0.00943521\ttest-ndcg5:0.744947+0.00345593\n",
      "[2]\ttrain-mlogloss:1.12708+0.0168378\ttrain-ndcg5:0.836187+0.000897128\ttest-mlogloss:1.20004+0.00516024\ttest-ndcg5:0.822137+0.000537582\n",
      "[3]\ttrain-mlogloss:3.89355+0.0793912\ttrain-ndcg5:0.775171+0.00761797\ttest-mlogloss:3.99319+0.13451\ttest-ndcg5:0.75786+0.00549442\n",
      "[4]\ttrain-mlogloss:1.51847+0.164038\ttrain-ndcg5:0.836861+0.00552754\ttest-mlogloss:1.62851+0.15522\ttest-ndcg5:0.817384+0.0051638\n",
      "[5]\ttrain-mlogloss:1.94257+0.668361\ttrain-ndcg5:0.830108+0.0141939\ttest-mlogloss:2.07341+0.642861\ttest-ndcg5:0.808339+0.0128339\n",
      "[6]\ttrain-mlogloss:1.57904+0.184578\ttrain-ndcg5:0.841242+0.00181413\ttest-mlogloss:1.72138+0.159293\ttest-ndcg5:0.817419+0.00128098\n",
      "[7]\ttrain-mlogloss:1.63629+0.291983\ttrain-ndcg5:0.842565+0.00361546\ttest-mlogloss:1.78955+0.264026\ttest-ndcg5:0.816488+0.00226844\n",
      "[8]\ttrain-mlogloss:1.56767+0.292942\ttrain-ndcg5:0.843837+0.00460256\ttest-mlogloss:1.73714+0.272982\ttest-ndcg5:0.816177+0.00349006\n",
      "[9]\ttrain-mlogloss:1.7935+0.248534\ttrain-ndcg5:0.843362+0.00168359\ttest-mlogloss:1.97362+0.223413\ttest-ndcg5:0.814036+0.00064823\n"
     ]
    },
    {
     "data": {
      "text/html": [
       "<div>\n",
       "<style scoped>\n",
       "    .dataframe tbody tr th:only-of-type {\n",
       "        vertical-align: middle;\n",
       "    }\n",
       "\n",
       "    .dataframe tbody tr th {\n",
       "        vertical-align: top;\n",
       "    }\n",
       "\n",
       "    .dataframe thead th {\n",
       "        text-align: right;\n",
       "    }\n",
       "</style>\n",
       "<table border=\"1\" class=\"dataframe\">\n",
       "  <thead>\n",
       "    <tr style=\"text-align: right;\">\n",
       "      <th></th>\n",
       "      <th>train-mlogloss-mean</th>\n",
       "      <th>train-mlogloss-std</th>\n",
       "      <th>train-ndcg5-mean</th>\n",
       "      <th>train-ndcg5-std</th>\n",
       "      <th>test-mlogloss-mean</th>\n",
       "      <th>test-mlogloss-std</th>\n",
       "      <th>test-ndcg5-mean</th>\n",
       "      <th>test-ndcg5-std</th>\n",
       "    </tr>\n",
       "  </thead>\n",
       "  <tbody>\n",
       "    <tr>\n",
       "      <td>0</td>\n",
       "      <td>1.190554</td>\n",
       "      <td>0.001299</td>\n",
       "      <td>0.832390</td>\n",
       "      <td>0.000177</td>\n",
       "      <td>1.214168</td>\n",
       "      <td>0.006898</td>\n",
       "      <td>0.827548</td>\n",
       "      <td>0.000859</td>\n",
       "    </tr>\n",
       "    <tr>\n",
       "      <td>1</td>\n",
       "      <td>1.458212</td>\n",
       "      <td>0.005547</td>\n",
       "      <td>0.755338</td>\n",
       "      <td>0.002431</td>\n",
       "      <td>1.510940</td>\n",
       "      <td>0.009435</td>\n",
       "      <td>0.744947</td>\n",
       "      <td>0.003456</td>\n",
       "    </tr>\n",
       "    <tr>\n",
       "      <td>2</td>\n",
       "      <td>1.127079</td>\n",
       "      <td>0.016838</td>\n",
       "      <td>0.836187</td>\n",
       "      <td>0.000897</td>\n",
       "      <td>1.200042</td>\n",
       "      <td>0.005160</td>\n",
       "      <td>0.822137</td>\n",
       "      <td>0.000538</td>\n",
       "    </tr>\n",
       "    <tr>\n",
       "      <td>3</td>\n",
       "      <td>3.893554</td>\n",
       "      <td>0.079391</td>\n",
       "      <td>0.775171</td>\n",
       "      <td>0.007618</td>\n",
       "      <td>3.993191</td>\n",
       "      <td>0.134510</td>\n",
       "      <td>0.757860</td>\n",
       "      <td>0.005494</td>\n",
       "    </tr>\n",
       "    <tr>\n",
       "      <td>4</td>\n",
       "      <td>1.518466</td>\n",
       "      <td>0.164038</td>\n",
       "      <td>0.836861</td>\n",
       "      <td>0.005528</td>\n",
       "      <td>1.628515</td>\n",
       "      <td>0.155220</td>\n",
       "      <td>0.817384</td>\n",
       "      <td>0.005164</td>\n",
       "    </tr>\n",
       "    <tr>\n",
       "      <td>5</td>\n",
       "      <td>1.942568</td>\n",
       "      <td>0.668361</td>\n",
       "      <td>0.830108</td>\n",
       "      <td>0.014194</td>\n",
       "      <td>2.073409</td>\n",
       "      <td>0.642861</td>\n",
       "      <td>0.808339</td>\n",
       "      <td>0.012834</td>\n",
       "    </tr>\n",
       "    <tr>\n",
       "      <td>6</td>\n",
       "      <td>1.579043</td>\n",
       "      <td>0.184578</td>\n",
       "      <td>0.841242</td>\n",
       "      <td>0.001814</td>\n",
       "      <td>1.721384</td>\n",
       "      <td>0.159293</td>\n",
       "      <td>0.817419</td>\n",
       "      <td>0.001281</td>\n",
       "    </tr>\n",
       "    <tr>\n",
       "      <td>7</td>\n",
       "      <td>1.636293</td>\n",
       "      <td>0.291983</td>\n",
       "      <td>0.842565</td>\n",
       "      <td>0.003615</td>\n",
       "      <td>1.789549</td>\n",
       "      <td>0.264026</td>\n",
       "      <td>0.816488</td>\n",
       "      <td>0.002268</td>\n",
       "    </tr>\n",
       "    <tr>\n",
       "      <td>8</td>\n",
       "      <td>1.567674</td>\n",
       "      <td>0.292942</td>\n",
       "      <td>0.843837</td>\n",
       "      <td>0.004603</td>\n",
       "      <td>1.737137</td>\n",
       "      <td>0.272982</td>\n",
       "      <td>0.816177</td>\n",
       "      <td>0.003490</td>\n",
       "    </tr>\n",
       "    <tr>\n",
       "      <td>9</td>\n",
       "      <td>1.793499</td>\n",
       "      <td>0.248534</td>\n",
       "      <td>0.843362</td>\n",
       "      <td>0.001684</td>\n",
       "      <td>1.973616</td>\n",
       "      <td>0.223413</td>\n",
       "      <td>0.814036</td>\n",
       "      <td>0.000648</td>\n",
       "    </tr>\n",
       "  </tbody>\n",
       "</table>\n",
       "</div>"
      ],
      "text/plain": [
       "   train-mlogloss-mean  train-mlogloss-std  train-ndcg5-mean  train-ndcg5-std  \\\n",
       "0             1.190554            0.001299          0.832390         0.000177   \n",
       "1             1.458212            0.005547          0.755338         0.002431   \n",
       "2             1.127079            0.016838          0.836187         0.000897   \n",
       "3             3.893554            0.079391          0.775171         0.007618   \n",
       "4             1.518466            0.164038          0.836861         0.005528   \n",
       "5             1.942568            0.668361          0.830108         0.014194   \n",
       "6             1.579043            0.184578          0.841242         0.001814   \n",
       "7             1.636293            0.291983          0.842565         0.003615   \n",
       "8             1.567674            0.292942          0.843837         0.004603   \n",
       "9             1.793499            0.248534          0.843362         0.001684   \n",
       "\n",
       "   test-mlogloss-mean  test-mlogloss-std  test-ndcg5-mean  test-ndcg5-std  \n",
       "0            1.214168           0.006898         0.827548        0.000859  \n",
       "1            1.510940           0.009435         0.744947        0.003456  \n",
       "2            1.200042           0.005160         0.822137        0.000538  \n",
       "3            3.993191           0.134510         0.757860        0.005494  \n",
       "4            1.628515           0.155220         0.817384        0.005164  \n",
       "5            2.073409           0.642861         0.808339        0.012834  \n",
       "6            1.721384           0.159293         0.817419        0.001281  \n",
       "7            1.789549           0.264026         0.816488        0.002268  \n",
       "8            1.737137           0.272982         0.816177        0.003490  \n",
       "9            1.973616           0.223413         0.814036        0.000648  "
      ]
     },
     "execution_count": 30,
     "metadata": {},
     "output_type": "execute_result"
    }
   ],
   "source": [
    "param = {\n",
    "    'max_depth': 8,\n",
    "    'learning_rate': 1,\n",
    "    'n_estimators': 5,\n",
    "    'objective': 'multi:softprob',\n",
    "    'num_class': 12,\n",
    "    'gamma': 0,\n",
    "    'min_child_weight': 1,\n",
    "    'max_delta_step': 0,\n",
    "    'subsample': 1,\n",
    "    'colsample_bytree': 1,\n",
    "    'colsample_bylevel': 1,\n",
    "    'reg_alpha': 0,\n",
    "    'reg_lambda': 1,\n",
    "    'scale_pos_weight': 1,\n",
    "    'base_score': 0.5,\n",
    "    'missing': None,\n",
    "    'silent': True,\n",
    "    'nthread': 4,\n",
    "    'seed': 42\n",
    "}\n",
    "\n",
    "num_round = 10\n",
    "xgboost.cv(param, train_data, num_boost_round=num_round, verbose_eval = True, metrics=['mlogloss'], feval=ndcg5_score)"
   ]
  },
  {
   "cell_type": "code",
   "execution_count": 31,
   "metadata": {},
   "outputs": [
    {
     "data": {
      "text/plain": [
       "<module 'xgboost' from '/Users/keonhoseo/opt/anaconda3/lib/python3.7/site-packages/xgboost/__init__.py'>"
      ]
     },
     "execution_count": 31,
     "metadata": {},
     "output_type": "execute_result"
    }
   ],
   "source": [
    "xgboost"
   ]
  },
  {
   "cell_type": "code",
   "execution_count": null,
   "metadata": {},
   "outputs": [],
   "source": []
  }
 ],
 "metadata": {
  "kernelspec": {
   "display_name": "Python 3",
   "language": "python",
   "name": "python3"
  },
  "language_info": {
   "codemirror_mode": {
    "name": "ipython",
    "version": 3
   },
   "file_extension": ".py",
   "mimetype": "text/x-python",
   "name": "python",
   "nbconvert_exporter": "python",
   "pygments_lexer": "ipython3",
   "version": "3.7.4"
  }
 },
 "nbformat": 4,
 "nbformat_minor": 2
}
