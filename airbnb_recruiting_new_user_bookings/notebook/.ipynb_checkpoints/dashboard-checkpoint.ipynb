{
 "cells": [
  {
   "cell_type": "code",
   "execution_count": 6,
   "metadata": {},
   "outputs": [],
   "source": [
    "import numpy as np\n",
    "import pandas as pd\n",
    "import matplotlib.pyplot as plt\n",
    "from ipywidgets import interactive\n",
    "%matplotlib inline"
   ]
  },
  {
   "cell_type": "code",
   "execution_count": 71,
   "metadata": {},
   "outputs": [],
   "source": [
    "from tqdm import tqdm\n",
    "from collections import defaultdict"
   ]
  },
  {
   "cell_type": "code",
   "execution_count": 37,
   "metadata": {},
   "outputs": [],
   "source": [
    "import ipywidgets as widgets\n",
    "from ipywidgets import HBox, VBox\n",
    "from IPython.display import display\n",
    "%matplotlib inline"
   ]
  },
  {
   "cell_type": "code",
   "execution_count": 12,
   "metadata": {},
   "outputs": [],
   "source": [
    "train_df = pd.read_csv('../data/train_users.csv')\n",
    "test_df = pd.read_csv('../data/test_users.csv')"
   ]
  },
  {
   "cell_type": "code",
   "execution_count": 29,
   "metadata": {},
   "outputs": [],
   "source": [
    "users = pd.concat([train_df.drop('country_destination', axis = 1), test_df], axis = 0, ignore_index = True)"
   ]
  },
  {
   "cell_type": "code",
   "execution_count": 33,
   "metadata": {},
   "outputs": [],
   "source": [
    "date_account_created = pd.DatetimeIndex(users.date_account_created)\n",
    "users['account_created_year'] = date_account_created.year\n",
    "users['account_created_month'] = date_account_created.month\n",
    "users['account_created_day'] = date_account_created.day\n",
    "users['account_created_weekday'] = date_account_created.weekday"
   ]
  },
  {
   "cell_type": "code",
   "execution_count": 40,
   "metadata": {},
   "outputs": [],
   "source": [
    "sessions = pd.read_csv('../data/sessions.csv')"
   ]
  },
  {
   "cell_type": "code",
   "execution_count": 72,
   "metadata": {},
   "outputs": [
    {
     "name": "stderr",
     "output_type": "stream",
     "text": [
      "/Users/keonhoseo/opt/anaconda3/lib/python3.7/site-packages/tqdm/std.py:648: FutureWarning: The Panel class is removed from pandas. Accessing it from the top-level namespace will also be removed in the next version\n",
      "  from pandas import Panel\n",
      "100%|██████████| 10533241/10533241 [08:10<00:00, 21478.74it/s]\n"
     ]
    }
   ],
   "source": [
    "sessions = sessions.rename(columns = {'user_id':'id'})\n",
    "sessions = sessions.dropna(subset = ['id'])\n",
    "sessions['secs_elapsed'] = sessions['secs_elapsed'].fillna(0)\n",
    "\n",
    "sessions_ids = sessions.id.unique()\n",
    "from_train = train_df.loc[train_df.id.isin(sessions_ids), ['id', 'date_account_created']]\n",
    "from_test = test_df.loc[test_df.id.isin(sessions_ids), ['id', 'date_account_created']]\n",
    "account_created_date = pd.concat([from_train, from_test], axis = 0)\n",
    "\n",
    "sessions['cumulate_secs'] = sessions.groupby('id')['secs_elapsed'].cumsum()\n",
    "sessions['cumulate_days'] = sessions['cumulate_secs']/60/60//24\n",
    "\n",
    "account_date = defaultdict()\n",
    "for _id, _date in zip(account_created_date['id'], account_created_date['date_account_created']):\n",
    "    account_date[_id] = pd.to_datetime(_date)\n",
    "    \n",
    "def return_session_date(row):\n",
    "    _id = row['id']\n",
    "    _delta = row['cumulate_days']\n",
    "    \n",
    "    return account_date[_id] + pd.DateOffset(_delta)\n",
    "\n",
    "tqdm.pandas()\n",
    "sessions['session_date'] = sessions.loc[:, ['id', 'cumulate_days']].progress_apply(return_session_date, axis = 1)"
   ]
  },
  {
   "cell_type": "code",
   "execution_count": 74,
   "metadata": {},
   "outputs": [
    {
     "data": {
      "application/vnd.jupyter.widget-view+json": {
       "model_id": "a8513cd367be4ec1850f3b08a5317b4d",
       "version_major": 2,
       "version_minor": 0
      },
      "text/plain": [
       "interactive(children=(IntSlider(value=2010, description='year', max=2014, min=2010), Output()), _dom_classes=(…"
      ]
     },
     "metadata": {},
     "output_type": "display_data"
    }
   ],
   "source": [
    "@widgets.interact(year = (2010, 2014))\n",
    "def f(year=2010):\n",
    "    data = users.loc[users.account_created_year == year]\n",
    "    x = data['account_created_month'].unique()\n",
    "    y = data.account_created_month.value_counts()\n",
    "    plt.figure(figsize = (12, 8))\n",
    "    plt.bar(x, y)\n",
    "    plt.xticks(x)"
   ]
  },
  {
   "cell_type": "code",
   "execution_count": null,
   "metadata": {},
   "outputs": [],
   "source": []
  }
 ],
 "metadata": {
  "kernelspec": {
   "display_name": "Python 3",
   "language": "python",
   "name": "python3"
  },
  "language_info": {
   "codemirror_mode": {
    "name": "ipython",
    "version": 3
   },
   "file_extension": ".py",
   "mimetype": "text/x-python",
   "name": "python",
   "nbconvert_exporter": "python",
   "pygments_lexer": "ipython3",
   "version": "3.7.4"
  }
 },
 "nbformat": 4,
 "nbformat_minor": 2
}
